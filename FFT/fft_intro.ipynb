{
 "cells": [
  {
   "cell_type": "markdown",
   "metadata": {},
   "source": [
    "# Fast Fourier Analysis\n",
    "stough 202-\n",
    "\n",
    "- DIP 4 - 4.7\n",
    "- Tutorial from [Better Explained](https://betterexplained.com/articles/an-interactive-guide-to-the-fourier-transform/)\n",
    "- 3Blue1Brown video on the [Fourier transform](https://youtu.be/spUNpyF58BY), or the decomposition of a signal into a collection of pure frequencies.\n",
    "- Reducible video on the [Fast Fourier Transform](https://youtu.be/h7apO7q16V0), which we're using here.\n",
    "\n",
    "See [scipy's intro](https://docs.scipy.org/doc/scipy/tutorial/fft.html) as well.\n",
    "\n",
    "When we looked at block transforms for compression (see [`view_basis_blocks`](../BlockTransform/view_basis_blocks.ipynb)), we saw how an image block could be decomposed into a combination of basic patterns. One of those pattern sets was the Discrete Cosine Transform. This happens to be very closely related to the frequency analysis we're covering here.\n",
    "\n",
    "\n",
    "The [Discrete Fourier Transform](https://en.wikipedia.org/wiki/Discrete_Fourier_transform) $y[k]$ of the length-$N$ sequence $x[n]$ and its inverse are defined: \n",
    "\n",
    "\\begin{equation}\n",
    "y[k] = \\sum_{n=0}^{N-1} e^{-2\\pi j \\frac{kn}{N}} x[n],\\\\\n",
    "x[n] = \\frac{1}{N}\\sum_{k=0}^{N-1} e^{2\\pi j \\frac{kn}{N}} y[k]\n",
    "\\end{equation}\n",
    "\n",
    "These equations show basically that any sequence $x[n]$ can be written as the sum of complex sinusoids. We will use the 2D extensions of this process."
   ]
  },
  {
   "cell_type": "markdown",
   "metadata": {},
   "source": [
    "## Imports\n",
    "We'll import [scipy's `fft2` and `ifft2` functions](https://docs.scipy.org/doc/scipy/tutorial/fft.html) to help us out here."
   ]
  },
  {
   "cell_type": "code",
   "execution_count": null,
   "metadata": {},
   "outputs": [],
   "source": [
    "%matplotlib widget\n",
    "import matplotlib.pyplot as plt\n",
    "from matplotlib.colors import LogNorm\n",
    "from skimage.color import rgb2gray\n",
    "import numpy as np\n",
    "\n",
    "# For importing from alternative directory sources\n",
    "import sys  \n",
    "sys.path.insert(0, '../dip_utils')\n",
    "\n",
    "from matrix_utils import (arr_info,\n",
    "                          make_linmap)\n",
    "from vis_utils import (vis_rgb_cube,\n",
    "                       vis_hists,\n",
    "                       vis_pair)\n",
    "\n",
    "from scipy.fft import fft2, ifft2, fftshift, ifftshift\n",
    "from skimage.transform import resize"
   ]
  },
  {
   "cell_type": "markdown",
   "metadata": {},
   "source": [
    "## Image Denoising \n",
    "We can use the Fourier decomposition of an image to downweight or eliminate noise in an image. In this case the noise is high-frequency patterns.\n",
    "\n",
    "Following along to [this demo](http://scipy-lectures.org/intro/scipy/auto_examples/solutions/plot_fft_image_denoise.html)."
   ]
  },
  {
   "cell_type": "code",
   "execution_count": null,
   "metadata": {},
   "outputs": [],
   "source": [
    "I = plt.imread('../dip_pics/moonlanding.png')\n",
    "arr_info(I)"
   ]
  },
  {
   "cell_type": "code",
   "execution_count": null,
   "metadata": {},
   "outputs": [],
   "source": [
    "plt.figure(figsize=(4,3))\n",
    "plt.imshow(I, cmap='gray');"
   ]
  },
  {
   "cell_type": "code",
   "execution_count": null,
   "metadata": {},
   "outputs": [],
   "source": [
    "im_fft = fft2(I)"
   ]
  },
  {
   "cell_type": "code",
   "execution_count": null,
   "metadata": {},
   "outputs": [],
   "source": [
    "arr_info(im_fft)"
   ]
  },
  {
   "cell_type": "markdown",
   "metadata": {},
   "source": [
    "We see that the `fft2` of the image is an array of complex numbers, representing coefficients of certain frequency patterns in the iamge. Let's look at the magnitude spectrum. Given the vast range of values, we'll plot in the log space for visualization. "
   ]
  },
  {
   "cell_type": "code",
   "execution_count": null,
   "metadata": {},
   "outputs": [],
   "source": [
    "plt.figure(figsize=(4,3))\n",
    "plt.imshow(np.abs(im_fft), norm=LogNorm(vmin=5), cmap='gray');"
   ]
  },
  {
   "cell_type": "markdown",
   "metadata": {},
   "source": [
    "Also, given the symmetries of the different frequency components, we can use [`fftshift`](https://docs.scipy.org/doc/scipy/reference/generated/scipy.fft.fftshift.html) to bring the lower-frequency components to the center of the figure. This is useful because often the lower-frequency components have most of the energy or power of the signal. (Recall that the average was often a pretty good approximation to a block. This is equivalent to the zero frequency, right?)"
   ]
  },
  {
   "cell_type": "code",
   "execution_count": null,
   "metadata": {},
   "outputs": [],
   "source": [
    "plt.figure(figsize=(4,3))\n",
    "plt.imshow(np.abs(fftshift(im_fft)), norm=LogNorm(vmin=5), cmap='gray');"
   ]
  },
  {
   "cell_type": "markdown",
   "metadata": {},
   "source": [
    "Now let's zero-out the high-frequency components that we don't want to keep."
   ]
  },
  {
   "cell_type": "code",
   "execution_count": null,
   "metadata": {},
   "outputs": [],
   "source": [
    "# For convenience\n",
    "def plot_spectrum(im_fft, shift=True):\n",
    "    plt.figure(figsize=(4,3))\n",
    "    if shift:\n",
    "        plt.imshow(np.abs(fftshift(im_fft)), norm=LogNorm(vmin=5), cmap='gray')\n",
    "    else:\n",
    "        plt.imshow(np.abs(im_fft), norm=LogNorm(vmin=5), cmap='gray')\n",
    "    plt.colorbar()"
   ]
  },
  {
   "cell_type": "code",
   "execution_count": null,
   "metadata": {},
   "outputs": [],
   "source": [
    "keep_fraction = 0.1\n",
    "\n",
    "im_fft2 = im_fft.copy()\n",
    "r, c = im_fft2.shape\n",
    "\n",
    "im_fft2[int(r*keep_fraction):int(r*(1-keep_fraction))] = 0\n",
    "im_fft2[:, int(c*keep_fraction):int(c*(1-keep_fraction))] = 0\n",
    "\n",
    "plot_spectrum(im_fft2)"
   ]
  },
  {
   "cell_type": "markdown",
   "metadata": {},
   "source": [
    "There appears to be some display error. Be assured we have zero-d out some 80\\% of the pixels/frequencies."
   ]
  },
  {
   "cell_type": "code",
   "execution_count": null,
   "metadata": {},
   "outputs": [],
   "source": [
    "I_denoised = ifft2(im_fft2).real\n",
    "arr_info(I_denoised)"
   ]
  },
  {
   "cell_type": "code",
   "execution_count": null,
   "metadata": {},
   "outputs": [],
   "source": [
    "vis_pair(I, I_denoised, cmap='gray', second_title='Denoised', show_ticks=False)"
   ]
  },
  {
   "cell_type": "markdown",
   "metadata": {},
   "source": [
    "&nbsp;\n",
    "\n",
    "## Let's look at the Magnitude and Phase of the FFT\n",
    "\n",
    "The magnitude image is the magnitude of each complex number, and can be computed with `abs`, as seen above in `plot_spectrum`."
   ]
  },
  {
   "cell_type": "code",
   "execution_count": null,
   "metadata": {},
   "outputs": [],
   "source": [
    "J = rgb2gray(plt.imread('../dip_pics/cat_small.png'))\n",
    "J = resize(J, (474, 630))\n",
    "arr_info(J)"
   ]
  },
  {
   "cell_type": "code",
   "execution_count": null,
   "metadata": {},
   "outputs": [],
   "source": [
    "plt.figure(figsize=(4,3))\n",
    "plt.imshow(J, cmap='gray');"
   ]
  },
  {
   "cell_type": "code",
   "execution_count": null,
   "metadata": {},
   "outputs": [],
   "source": [
    "im_fft_J = fft2(J)\n",
    "plot_spectrum(im_fft_J)"
   ]
  },
  {
   "cell_type": "markdown",
   "metadata": {},
   "source": [
    "We can also view the *phase* of the transform. That is we can view the angles of the complex coefficients."
   ]
  },
  {
   "cell_type": "code",
   "execution_count": null,
   "metadata": {},
   "outputs": [],
   "source": [
    "# Thanks https://github.com/numpy/numpy/issues/3621\n",
    "def phase(z):\n",
    "    return z / np.abs(z)"
   ]
  },
  {
   "cell_type": "code",
   "execution_count": null,
   "metadata": {},
   "outputs": [],
   "source": [
    "plt.figure(figsize=(4,3))\n",
    "plt.imshow(np.angle(fftshift(im_fft_J)), cmap='gray');"
   ]
  },
  {
   "cell_type": "markdown",
   "metadata": {},
   "source": [
    "## Let's exchange the phase and magnitude of the two images.\n",
    "[Cool example](https://stackoverflow.com/questions/52312053/how-to-combine-the-phase-of-one-image-and-magnitude-of-different-image-into-1-im/52337407)"
   ]
  },
  {
   "cell_type": "code",
   "execution_count": null,
   "metadata": {},
   "outputs": [],
   "source": [
    "f, ax = plt.subplots(1, 3, figsize=(8,3))\n",
    "ax[0].imshow(I, cmap='gray')\n",
    "ax[1].imshow(np.abs(fftshift(im_fft)), norm=LogNorm(vmin=5), cmap='gray')\n",
    "ax[2].imshow(np.angle(fftshift(im_fft)), cmap='gray');"
   ]
  },
  {
   "cell_type": "code",
   "execution_count": null,
   "metadata": {},
   "outputs": [],
   "source": [
    "f, ax = plt.subplots(1, 3, figsize=(8,3))\n",
    "ax[0].imshow(J, cmap='gray')\n",
    "ax[1].imshow(np.abs(fftshift(im_fft_J)), norm=LogNorm(vmin=5), cmap='gray')\n",
    "ax[2].imshow(np.angle(fftshift(im_fft_J)), cmap='gray');"
   ]
  },
  {
   "cell_type": "markdown",
   "metadata": {},
   "source": [
    "Now let's swap the phase of J and magnitude of I, or vice versa."
   ]
  },
  {
   "cell_type": "code",
   "execution_count": null,
   "metadata": {},
   "outputs": [],
   "source": [
    "combined = np.multiply(np.abs(im_fft), np.exp(1j*np.angle(im_fft_J)))\n",
    "imgCombined = np.real(np.fft.ifft2(combined))\n",
    "plt.figure(figsize=(4,3))\n",
    "plt.imshow(np.clip(imgCombined, 0,1), cmap='gray');"
   ]
  },
  {
   "cell_type": "code",
   "execution_count": null,
   "metadata": {},
   "outputs": [],
   "source": [
    "combined = np.multiply(np.abs(im_fft_J), np.exp(1j*np.angle(im_fft)))\n",
    "imgCombined = np.real(np.fft.ifft2(combined))\n",
    "plt.figure(figsize=(4,3))\n",
    "plt.imshow(np.clip(imgCombined, 0,1), cmap='gray');"
   ]
  },
  {
   "cell_type": "code",
   "execution_count": null,
   "metadata": {},
   "outputs": [],
   "source": []
  }
 ],
 "metadata": {
  "kernelspec": {
   "display_name": "Python 3",
   "language": "python",
   "name": "python3"
  },
  "language_info": {
   "codemirror_mode": {
    "name": "ipython",
    "version": 3
   },
   "file_extension": ".py",
   "mimetype": "text/x-python",
   "name": "python",
   "nbconvert_exporter": "python",
   "pygments_lexer": "ipython3",
   "version": "3.7.3"
  }
 },
 "nbformat": 4,
 "nbformat_minor": 4
}
