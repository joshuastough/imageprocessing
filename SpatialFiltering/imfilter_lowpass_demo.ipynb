{
 "cells": [
  {
   "cell_type": "markdown",
   "metadata": {},
   "source": [
    "# Exploring spatial filtering, low pass\n",
    "Joshua Stough\n",
    "DIP 3.4 and 3.5 on spatial filtering and low-pass. See [correlate](https://docs.scipy.org/doc/scipy/reference/generated/scipy.ndimage.correlate.html)\n",
    "\n",
    "Here we're going to look at a couple of spatial filters that reduce high frequency information. In other words, they blur the image.\n",
    "- First is a simple averaging, as we've done before. \n",
    "- Second is a Gaussian, which gives more weight to pixels closer to the center and less farther away. The Gaussian has better properties with respect to frequency information. We've seen Gaussian histograms, but you can read more about them in DIP 2.6."
   ]
  },
  {
   "cell_type": "code",
   "execution_count": null,
   "metadata": {},
   "outputs": [],
   "source": [
    "%matplotlib widget\n",
    "import matplotlib.pyplot as plt\n",
    "import numpy as np\n",
    "\n",
    "# For spatial filtering/operations\n",
    "from scipy.ndimage import (correlate,\n",
    "                           convolve)\n",
    "\n",
    "# For importing from alternative directory sources\n",
    "import sys  \n",
    "sys.path.insert(0, '../dip_utils')\n",
    "\n",
    "from matrix_utils import (arr_info,\n",
    "                          make_linmap)\n",
    "from vis_utils import (vis_rgb_cube,\n",
    "                       vis_hists,\n",
    "                       vis_pair)\n",
    "\n",
    "from skimage.filters import *\n",
    "\n",
    "plt.style.use('dark_background')"
   ]
  },
  {
   "cell_type": "code",
   "execution_count": null,
   "metadata": {},
   "outputs": [],
   "source": [
    "I = plt.imread('../dip_pics/cat_small.png').astype('float')\n",
    "arr_info(I)"
   ]
  },
  {
   "cell_type": "code",
   "execution_count": null,
   "metadata": {},
   "outputs": [],
   "source": [
    "vis_hists(I)"
   ]
  },
  {
   "cell_type": "code",
   "execution_count": null,
   "metadata": {},
   "outputs": [],
   "source": [
    "# The image includes an alpha channel that we're not going to need.\n",
    "I = I[...,:3].copy()\n",
    "arr_info(I)"
   ]
  },
  {
   "cell_type": "markdown",
   "metadata": {},
   "source": [
    "&nbsp;\n",
    "\n",
    "## Low-pass filtering, or blurring, involves averaging neighborhoods of pixels,\n",
    "thereby reducing the difference between neighboring pixels. We can do this in a number of ways. We've already seen local, equal weight averaging. We're going to use a relatively large kernel size (filter size) to see the differences between the filters.\n",
    "\n",
    "Note also, we'll apply the filter to each channel separately. Zoom in on the figure to see the local differences."
   ]
  },
  {
   "cell_type": "code",
   "execution_count": null,
   "metadata": {},
   "outputs": [],
   "source": [
    "mean_h = np.ones((11,11))/121\n",
    "# mean_h"
   ]
  },
  {
   "cell_type": "code",
   "execution_count": null,
   "metadata": {},
   "outputs": [],
   "source": [
    "I_localAverage11 = np.stack([correlate(I[...,i], mean_h) for i in range(3)], axis=-1)"
   ]
  },
  {
   "cell_type": "code",
   "execution_count": null,
   "metadata": {},
   "outputs": [],
   "source": [
    "vis_pair(I, I_localAverage11)"
   ]
  },
  {
   "cell_type": "markdown",
   "metadata": {},
   "source": [
    "&nbsp;\n",
    "\n",
    "## We can also try a weighted average that more highly weights \n",
    "the pixels in the center of the neighborhood. A Gaussian is a good choice here."
   ]
  },
  {
   "cell_type": "code",
   "execution_count": null,
   "metadata": {},
   "outputs": [],
   "source": [
    "from scipy.signal import gaussian\n",
    "gaus_h = gaussian(11, std=2, sym=True) # A Gaussian with std 1 symmetric about the size M.\n",
    "# The result is a 1-d thing. take it's outer product to make a 2d thing.\n",
    "gaus_h = np.outer(gaus_h, gaus_h)\n",
    "gaus_h = gaus_h/gaus_h.sum()"
   ]
  },
  {
   "cell_type": "code",
   "execution_count": null,
   "metadata": {},
   "outputs": [],
   "source": [
    "# plot the two filter types\n",
    "plt.figure()\n",
    "plt.plot(gaus_h[5,:], label='Gaussian')\n",
    "plt.plot(mean_h[5,:], label='Average')\n",
    "plt.legend()\n",
    "plt.suptitle('Different local filters');"
   ]
  },
  {
   "cell_type": "code",
   "execution_count": null,
   "metadata": {},
   "outputs": [],
   "source": [
    "# Or consider in 2D.\n",
    "vis_pair(gaus_h, mean_h, first_title='Gaussian', second_title='Average')"
   ]
  },
  {
   "cell_type": "code",
   "execution_count": null,
   "metadata": {},
   "outputs": [],
   "source": [
    "I_localGaussian11 = np.stack([correlate(I[...,i], gaus_h) for i in range(3)], axis=-1)"
   ]
  },
  {
   "cell_type": "code",
   "execution_count": null,
   "metadata": {},
   "outputs": [],
   "source": [
    "# Vis all three.\n",
    "f, ax = plt.subplots(1,3, figsize=(8,3), sharex=True, sharey=True)\n",
    "ax[0].imshow(I)\n",
    "ax[0].set_title('Original')\n",
    "\n",
    "ax[1].imshow(I_localAverage11)\n",
    "ax[1].set_title('Average')\n",
    "\n",
    "ax[2].imshow(I_localGaussian11)\n",
    "ax[2].set_title('Gaussian')\n",
    "\n",
    "plt.suptitle('Different Blurs of Cat')"
   ]
  },
  {
   "cell_type": "markdown",
   "metadata": {},
   "source": [
    "&nbsp;\n",
    "\n",
    "## Let's consider a midline through the image, and see what the\n",
    "two filters did to the intensity values."
   ]
  },
  {
   "cell_type": "code",
   "execution_count": null,
   "metadata": {},
   "outputs": [],
   "source": [
    "# Let's look at a midline through the image.\n",
    "s = I.shape\n",
    "\n",
    "f, ax = plt.subplots(1,2, figsize=(8,4))\n",
    "ax[0].imshow(I)\n",
    "ax[0].hlines(s[0]//2, xmin=0, xmax=s[1], color='r')\n",
    "ax[0].set_title('Sample red channel from line.')\n",
    "\n",
    "ax[1].plot(I[s[0]//2,:,0], label='Original')\n",
    "ax[1].plot(I_localAverage11[s[0]//2,:,0], label='Average')\n",
    "ax[1].plot(I_localGaussian11[s[0]//2,:,0], label='Gaussian')\n",
    "ax[1].legend(loc='lower right')"
   ]
  },
  {
   "cell_type": "code",
   "execution_count": null,
   "metadata": {},
   "outputs": [],
   "source": []
  },
  {
   "cell_type": "markdown",
   "metadata": {},
   "source": [
    "&nbsp;\n",
    "\n",
    "## Interactive Visualization \n",
    "\n",
    "We're going to interactively visualize the Gaussian blur as you change the sigma/width of the gaussian.\n",
    "\n",
    "See [jupyter-matplotlib](https://github.com/matplotlib/jupyter-matplotlib/blob/master/examples/ipympl.ipynb)"
   ]
  },
  {
   "cell_type": "code",
   "execution_count": null,
   "metadata": {},
   "outputs": [],
   "source": [
    "from scipy.signal import gaussian\n",
    "def make_gaus(size=25, sig=1):\n",
    "    gaus_h = gaussian(size, std=sig, sym=True) # A Gaussian with std 1 symmetric about the size M.\n",
    "    # The result is a 1-d thing. take it's outer product to make a 2d thing.\n",
    "    gaus_h = np.outer(gaus_h, gaus_h)\n",
    "    gaus_h = gaus_h/gaus_h.sum()\n",
    "    return gaus_h"
   ]
  },
  {
   "cell_type": "code",
   "execution_count": null,
   "metadata": {},
   "outputs": [],
   "source": [
    "from ipywidgets import VBox, FloatSlider, FloatLogSlider\n",
    "\n",
    "sig = 0.5\n",
    "gaus_h = make_gaus(sig=sig)\n",
    "I_g = np.stack([correlate(I[...,i], gaus_h) for i in range(3)], axis=-1)\n",
    "\n",
    "\n",
    "plt.ioff()\n",
    "plt.clf()\n",
    "\n",
    "# https://ipywidgets.readthedocs.io/en/stable/examples/Widget%20List.html#FloatLogSlider\n",
    "slider = FloatSlider(\n",
    "    orientation='horizontal',\n",
    "    value=0.5,\n",
    "    min=0.5,\n",
    "    max=20.0,\n",
    "    step=0.5,\n",
    "    description='Sig'\n",
    ")\n",
    "\n",
    "fig_args = {'num':' ', 'frameon':True}\n",
    "fig, ax = plt.subplots(1,3, figsize=(10,3), **fig_args) \n",
    "\n",
    "# display artists I'll update\n",
    "adisp = ax[0].imshow(I)\n",
    "hdisp = ax[1].imshow(gaus_h, cmap='magma', vmin=0, vmax=gaus_h.max())\n",
    "gdisp = ax[2].imshow(I_g)\n",
    "\n",
    "htext = ax[1].set_title(f'Sig {sig:.3f}')\n",
    "gtext = ax[2].set_title(f'Sig {sig:.3f}')\n",
    "\n",
    "\n",
    "def update_image(change):\n",
    "    global I, I_g, gaus_h, adisp, hdisp, gdisp, htext, gtext\n",
    "    sig = change.new\n",
    "    gaus_h = make_gaus(sig=sig)\n",
    "    I_g = np.stack([correlate(I[...,i], gaus_h) for i in range(3)], axis=-1)\n",
    "    \n",
    "    \n",
    "    hdisp.set_array(gaus_h)\n",
    "    # need to reset the color limits each time since gaus_h is changing a lot. \n",
    "    hdisp.set_clim(0.0,gaus_h.max()) \n",
    "    htext.set_text(f'Sig {sig:.3f}')\n",
    "    \n",
    "    gdisp.set_array(I_g)\n",
    "    gtext.set_text(f'Sig {sig:.3f}')\n",
    "    \n",
    "    fig.canvas.draw()\n",
    "    fig.canvas.flush_events()\n",
    "\n",
    "slider.observe(update_image, names='value')\n",
    "\n",
    "VBox([slider, fig.canvas])"
   ]
  },
  {
   "cell_type": "code",
   "execution_count": null,
   "metadata": {},
   "outputs": [],
   "source": []
  }
 ],
 "metadata": {
  "kernelspec": {
   "display_name": "Python 3 (ipykernel)",
   "language": "python",
   "name": "python3"
  },
  "language_info": {
   "codemirror_mode": {
    "name": "ipython",
    "version": 3
   },
   "file_extension": ".py",
   "mimetype": "text/x-python",
   "name": "python",
   "nbconvert_exporter": "python",
   "pygments_lexer": "ipython3",
   "version": "3.10.11"
  }
 },
 "nbformat": 4,
 "nbformat_minor": 4
}
