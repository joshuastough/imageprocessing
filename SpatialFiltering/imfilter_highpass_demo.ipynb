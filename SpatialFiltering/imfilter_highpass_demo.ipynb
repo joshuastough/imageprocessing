{
 "cells": [
  {
   "cell_type": "markdown",
   "metadata": {},
   "source": [
    "# Exploring spatial filtering, high pass\n",
    "Joshua Stough\n",
    "DIP 3.6 on high-pass. See [correlate](https://docs.scipy.org/doc/scipy/reference/generated/scipy.ndimage.correlate.html)\n",
    "\n",
    "Here we're going to look at the high-pass spatial filter, which derives from the local second derivative. See [these cool visualizations](http://campar.in.tum.de/Chair/HaukeHeibelGaussianDerivatives) of the Gaussian and its derivatives, and [read here](https://homepages.inf.ed.ac.uk/rbf/HIPR2/log.htm)."
   ]
  },
  {
   "cell_type": "code",
   "execution_count": null,
   "metadata": {},
   "outputs": [],
   "source": [
    "%matplotlib widget\n",
    "import matplotlib.pyplot as plt\n",
    "import numpy as np\n",
    "\n",
    "# For spatial filtering/operations\n",
    "from scipy.ndimage import (correlate,\n",
    "                           convolve)\n",
    "\n",
    "# For importing from alternative directory sources\n",
    "import sys  \n",
    "sys.path.insert(0, '../dip_utils')\n",
    "\n",
    "from matrix_utils import (arr_info,\n",
    "                          make_linmap)\n",
    "from vis_utils import (vis_rgb_cube,\n",
    "                       vis_hists,\n",
    "                       vis_pair)\n",
    "\n",
    "plt.style.use('dark_background')"
   ]
  },
  {
   "cell_type": "code",
   "execution_count": null,
   "metadata": {},
   "outputs": [],
   "source": [
    "I = plt.imread('../dip_pics/cat_small.png').astype('float')\n",
    "arr_info(I)"
   ]
  },
  {
   "cell_type": "code",
   "execution_count": null,
   "metadata": {},
   "outputs": [],
   "source": [
    "vis_hists(I)"
   ]
  },
  {
   "cell_type": "code",
   "execution_count": null,
   "metadata": {},
   "outputs": [],
   "source": [
    "# The image includes an alpha channel that we're not going to need.\n",
    "I = I[...,:3].copy()\n",
    "arr_info(I)"
   ]
  },
  {
   "cell_type": "markdown",
   "metadata": {},
   "source": [
    "&nbsp;\n",
    "\n",
    "## High-pass filtering, involves computing a pixel's difference from its neighborhood"
   ]
  },
  {
   "cell_type": "code",
   "execution_count": null,
   "metadata": {},
   "outputs": [],
   "source": [
    "laplace_h = -1*np.ones((3,3))\n",
    "laplace_h[1,1] = 8\n",
    "laplace_h"
   ]
  },
  {
   "cell_type": "code",
   "execution_count": null,
   "metadata": {},
   "outputs": [],
   "source": [
    "I_laplace = np.stack([correlate(I[...,i], laplace_h) for i in range(3)], axis=-1)"
   ]
  },
  {
   "cell_type": "code",
   "execution_count": null,
   "metadata": {},
   "outputs": [],
   "source": [
    "vis_pair(I, I_laplace)"
   ]
  },
  {
   "cell_type": "markdown",
   "metadata": {},
   "source": [
    "&nbsp;\n",
    "\n",
    "## Some fraction of the LaPlace can simply be added to the original image\n",
    "to enhance edges. "
   ]
  },
  {
   "cell_type": "code",
   "execution_count": null,
   "metadata": {},
   "outputs": [],
   "source": [
    "def addLap(frac):\n",
    "    global I, I_laplace\n",
    "    temp = I + frac*I_laplace\n",
    "    return np.clip(temp, 0,1)\n",
    "\n",
    "I_halfL = addLap(.5)\n",
    "I_1L = addLap(1)\n",
    "I_2L = addLap(2)"
   ]
  },
  {
   "cell_type": "code",
   "execution_count": null,
   "metadata": {},
   "outputs": [],
   "source": [
    "# Vis all three.\n",
    "f, ax = plt.subplots(1,4, figsize=(10,3), sharex=True, sharey=True)\n",
    "ax[0].imshow(I)\n",
    "ax[0].set_title('Original')\n",
    "\n",
    "ax[1].imshow(I_halfL)\n",
    "ax[1].set_title('+.5*LaPlace')\n",
    "\n",
    "ax[2].imshow(I_1L)\n",
    "ax[2].set_title('+1*LaPlace')\n",
    "\n",
    "ax[3].imshow(I_2L)\n",
    "ax[3].set_title('+2*LaPlace')\n",
    "\n",
    "plt.suptitle('Adding Edginess to Cat')"
   ]
  },
  {
   "cell_type": "markdown",
   "metadata": {},
   "source": [
    "&nbsp;\n",
    "\n",
    "## Interactive Visualization \n",
    "\n",
    "See [jupyter-matplotlib](https://github.com/matplotlib/jupyter-matplotlib/blob/master/examples/ipympl.ipynb)"
   ]
  },
  {
   "cell_type": "code",
   "execution_count": null,
   "metadata": {},
   "outputs": [],
   "source": [
    "from ipywidgets import VBox, FloatSlider\n",
    "\n",
    "plt.ioff()\n",
    "plt.clf()\n",
    "\n",
    "slider = FloatSlider(\n",
    "    orientation='horizontal',\n",
    "    value=1.0,\n",
    "    min=0.00,\n",
    "    max=5.0,\n",
    "    description='How much Laplace to add'\n",
    ")\n",
    "\n",
    "fig_args = {'num':' ', 'frameon':True, 'sharex':True, 'sharey':True}\n",
    "fig, ax = plt.subplots(1,2, figsize=(8,4), **fig_args) \n",
    "\n",
    "I_L = addLap(1);\n",
    "\n",
    "# display artists I'll update\n",
    "adisp = ax[0].imshow(I)\n",
    "ldisp = ax[1].imshow(I_L)\n",
    "\n",
    "ltext = ax[1].set_title('1*LaPlace')\n",
    "\n",
    "\n",
    "def update_image(change):\n",
    "    global I, I_laplace, adisp, ldisp, I_L, ltext\n",
    "    I_L = addLap(change.new)\n",
    "    ldisp.set_array(I_L)\n",
    "    ltext.set_text('{}*LaPlace'.format(change.new))\n",
    "    fig.canvas.draw()\n",
    "    fig.canvas.flush_events()\n",
    "\n",
    "slider.observe(update_image, names='value')\n",
    "\n",
    "VBox([slider, fig.canvas])"
   ]
  },
  {
   "cell_type": "code",
   "execution_count": null,
   "metadata": {},
   "outputs": [],
   "source": []
  }
 ],
 "metadata": {
  "kernelspec": {
   "display_name": "Python 3 (ipykernel)",
   "language": "python",
   "name": "python3"
  },
  "language_info": {
   "codemirror_mode": {
    "name": "ipython",
    "version": 3
   },
   "file_extension": ".py",
   "mimetype": "text/x-python",
   "name": "python",
   "nbconvert_exporter": "python",
   "pygments_lexer": "ipython3",
   "version": "3.10.11"
  }
 },
 "nbformat": 4,
 "nbformat_minor": 4
}
