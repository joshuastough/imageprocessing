{
 "cells": [
  {
   "cell_type": "markdown",
   "metadata": {},
   "source": [
    "# Generic (e.g., non-linear) filtering\n",
    "stough 202-\n",
    "\n",
    "In this brief demo we use [`scipy.ndimage.filters.generic_filter`](https://docs.scipy.org/doc/scipy-0.16.1/reference/generated/scipy.ndimage.filters.generic_filter.html) to compute non-linear filters on an image, such as min/max/median and others. This works a lot more slowly than the `correlate` we used for the linear filters."
   ]
  },
  {
   "cell_type": "code",
   "execution_count": null,
   "metadata": {},
   "outputs": [],
   "source": [
    "%matplotlib widget\n",
    "import matplotlib.pyplot as plt\n",
    "import numpy as np\n",
    "\n",
    "# For computing a generic filter on an image\n",
    "from scipy.ndimage import generic_filter\n",
    "\n",
    "# For importing from alternative directory sources\n",
    "import sys  \n",
    "sys.path.insert(0, '../dip_utils')\n",
    "\n",
    "from matrix_utils import (arr_info,\n",
    "                          make_linmap)\n",
    "from vis_utils import (vis_rgb_cube,\n",
    "                       vis_hists,\n",
    "                       vis_pair)"
   ]
  },
  {
   "cell_type": "markdown",
   "metadata": {},
   "source": [
    "## Define the generic filtering function we want\n",
    "This function will be applied to every *footprint* or neighborhood in the image."
   ]
  },
  {
   "cell_type": "code",
   "execution_count": null,
   "metadata": {},
   "outputs": [],
   "source": [
    "#simple blur\n",
    "def mean_func(x):\n",
    "    return x.mean()\n",
    "#     xr = np.reshape(x, (5,5))\n",
    "#     return np.mean(xr[:,3:])- np.mean(xr[:,:3])\n",
    "\n",
    "def min_func(x):\n",
    "    return x.min()\n",
    "\n",
    "def max_func(x):\n",
    "    return x.max()\n",
    "\n",
    "def med_func(x):\n",
    "    return np.median(x)"
   ]
  },
  {
   "cell_type": "code",
   "execution_count": null,
   "metadata": {},
   "outputs": [],
   "source": []
  },
  {
   "cell_type": "markdown",
   "metadata": {},
   "source": [
    "## Apply the function to each channel separately.\n",
    "We could alternatively define the `footprint` or `size` to the `generic_filter` call to include the separate channels (e.g., `size = (3,3,3)`), but it's easier to think about this way.\n",
    "\n",
    "We'll also normalize the image to float $[0,1]$ for visualization purposes."
   ]
  },
  {
   "cell_type": "code",
   "execution_count": null,
   "metadata": {},
   "outputs": [],
   "source": [
    "I = plt.imread('../dip_pics/bellagio.jpg').astype('float')\n",
    "I = I/I.max()\n",
    "arr_info(I)"
   ]
  },
  {
   "cell_type": "code",
   "execution_count": null,
   "metadata": {},
   "outputs": [],
   "source": [
    "vis_hists(I)"
   ]
  },
  {
   "cell_type": "code",
   "execution_count": null,
   "metadata": {},
   "outputs": [],
   "source": [
    "If = np.zeros(I.shape)\n",
    "Out = np.zeros(I.shape[:2])\n",
    "\n",
    "for chan in range(3):\n",
    "    generic_filter(I[:, :, chan], function=med_func, size=11, output=Out, mode='reflect')\n",
    "    If[...,chan] = Out.copy();"
   ]
  },
  {
   "cell_type": "code",
   "execution_count": null,
   "metadata": {},
   "outputs": [],
   "source": [
    "vis_pair(I, If, second_title=\"mean filtered\")"
   ]
  },
  {
   "cell_type": "markdown",
   "metadata": {},
   "source": [
    "## Now try one of the other local neighborhood functions\n",
    "The mean is in fact a linear operator, so we're not really looking into what these local non-linear operators can do for us. Try one of the others, like min or median, or even better, **write one of your own**."
   ]
  },
  {
   "cell_type": "code",
   "execution_count": null,
   "metadata": {},
   "outputs": [],
   "source": []
  }
 ],
 "metadata": {
  "kernelspec": {
   "display_name": "Python 3 (ipykernel)",
   "language": "python",
   "name": "python3"
  },
  "language_info": {
   "codemirror_mode": {
    "name": "ipython",
    "version": 3
   },
   "file_extension": ".py",
   "mimetype": "text/x-python",
   "name": "python",
   "nbconvert_exporter": "python",
   "pygments_lexer": "ipython3",
   "version": "3.10.11"
  }
 },
 "nbformat": 4,
 "nbformat_minor": 4
}
