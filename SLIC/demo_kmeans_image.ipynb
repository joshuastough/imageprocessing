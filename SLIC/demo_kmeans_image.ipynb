{
 "cells": [
  {
   "cell_type": "markdown",
   "metadata": {},
   "source": [
    "# K-means iteration\n",
    "Stough, DIP\n",
    "\n",
    "Here we do k-means clustering on an image, to get\n",
    "representative colors for the image. "
   ]
  },
  {
   "cell_type": "code",
   "execution_count": null,
   "metadata": {},
   "outputs": [],
   "source": [
    "%matplotlib widget\n",
    "import matplotlib.pyplot as plt\n",
    "import numpy as np\n",
    "\n",
    "# For importing from alternative directory sources\n",
    "import sys  \n",
    "sys.path.insert(0, '../dip_utils')\n",
    "\n",
    "from matrix_utils import (arr_info,\n",
    "                          make_linmap)\n",
    "from vis_utils import (vis_rgb_cube,\n",
    "                       vis_hists,\n",
    "                       vis_pair,\n",
    "                       vis_surface)\n",
    "\n",
    "from scipy.spatial.distance import cdist\n",
    "\n",
    "K = 16\n",
    "MAXITER = 20\n",
    "NUMPOINTS = 100"
   ]
  },
  {
   "cell_type": "code",
   "execution_count": null,
   "metadata": {},
   "outputs": [],
   "source": [
    "I = plt.imread('../dip_pics/bellagio.jpg').astype(float)\n",
    "X = np.stack([I[...,i].ravel() for i in range(3)]).T"
   ]
  },
  {
   "cell_type": "code",
   "execution_count": null,
   "metadata": {},
   "outputs": [],
   "source": [
    "plt.figure()\n",
    "plt.imshow(I/255)"
   ]
  },
  {
   "cell_type": "code",
   "execution_count": null,
   "metadata": {},
   "outputs": [],
   "source": [
    "X[:10,:]"
   ]
  },
  {
   "cell_type": "code",
   "execution_count": null,
   "metadata": {},
   "outputs": [],
   "source": [
    "# For fun: Let's pick some random (and good) cluster colors\n",
    "clusterColors = np.random.rand(K, 3) # Picking random colors for each cluster.\n",
    "varsSoFar = np.var(clusterColors, axis=0) # Should be 1 x 2 of the variance of each column.\n",
    "\n",
    "for i in range(3*K):\n",
    "    tempColors = np.random.rand(K, 3) #Picking K random colors\n",
    "    vartemp = np.var(tempColors, axis=0)\n",
    "    if np.all(vartemp > varsSoFar):\n",
    "        clusterColors = tempColors\n",
    "        varsSoFar = vartemp"
   ]
  },
  {
   "cell_type": "code",
   "execution_count": null,
   "metadata": {},
   "outputs": [],
   "source": [
    "clusterColors"
   ]
  },
  {
   "cell_type": "markdown",
   "metadata": {},
   "source": [
    "&nbsp;\n",
    "\n",
    "### Pick some initial cluster centers."
   ]
  },
  {
   "cell_type": "code",
   "execution_count": null,
   "metadata": {},
   "outputs": [],
   "source": [
    "# K-means: initialization\n",
    "# pick K initial cluster centers.\n",
    "# whichinit = random.randint(0, len(X), size=(K,)) # Could generate repeats.\n",
    "whichinit = np.random.choice(len(X), size=K, replace=False)\n",
    "CC = X[whichinit, :].copy() # Cluster Centers"
   ]
  },
  {
   "cell_type": "code",
   "execution_count": null,
   "metadata": {},
   "outputs": [],
   "source": [
    "CC_init = CC.copy()\n",
    "CC"
   ]
  },
  {
   "cell_type": "markdown",
   "metadata": {},
   "source": [
    "&nbsp;\n",
    "\n",
    "### The main Expectation-Maximization loop\n",
    "\n",
    "Basically, we assign a cluster to each point, and then\n",
    "recompute the clusters based on that assignment."
   ]
  },
  {
   "cell_type": "code",
   "execution_count": null,
   "metadata": {},
   "outputs": [],
   "source": [
    "# K-means: compute: for every data point determine which center is closest.\n",
    "# Need some magic function that computes the distance between every row of X\n",
    "# (the points) and every row of CC (the clusters).\n",
    "for i in range(MAXITER):\n",
    "    D = cdist(X, CC, 'euclidean')\n",
    "    # D should be NUMPOINTS x K\n",
    "\n",
    "    whichCluster = np.argmin(D, axis=1) # NUMPOINTS x 1 of which center was closest\n",
    "\n",
    "    # K-means: recompute the cluster centers as the mean of the data in each cluster\n",
    "    for c in range(K):\n",
    "        if np.any(whichCluster == c):\n",
    "            CC[c,:] = np.mean(X[whichCluster == c, :], axis=0) # average of just those that were closest to c."
   ]
  },
  {
   "cell_type": "code",
   "execution_count": null,
   "metadata": {},
   "outputs": [],
   "source": [
    "# Doing this on a big image, don't want to scatter 100Ks of points, really slow.\n",
    "rands = np.sort(np.random.choice(len(X), size=500*K, replace=False))\n",
    "\n",
    "\n",
    "f, ax = plt.subplots(1,3, figsize=(9,3), sharex=True, sharey=True)\n",
    "ax[0].scatter(X[rands,0], X[rands,1], c='gray', s=20)\n",
    "ax[0].set_title('Original Data')\n",
    "\n",
    "\n",
    "ax[1].scatter(X[rands,0], X[rands,1], c='gray', alpha=.5, s=20)\n",
    "ax[1].scatter(CC_init[:,0], CC_init[:,1], c=CC_init/255, s=50)\n",
    "ax[1].set_title('Initial Cluster Centers')\n",
    "\n",
    "\n",
    "pointColors = CC[whichCluster[rands], :]\n",
    "clusterEdgeColors = 1 - clusterColors # for contrast, make the cluster center edges opposite.\n",
    "# clusterEdgeColors = 1 - CC/255 # for contrast, make the cluster center edges opposite.\n",
    "\n",
    "ax[2].scatter(X[rands,0], X[rands,1], c=pointColors/255, alpha=.5, s=20)\n",
    "ax[2].scatter(CC[:,0], CC[:,1], c=CC/255, edgecolors=clusterEdgeColors, s=50)\n",
    "ax[2].set_title('Recomputed Clusters')\n",
    "\n",
    "plt.tight_layout()"
   ]
  },
  {
   "cell_type": "code",
   "execution_count": null,
   "metadata": {},
   "outputs": [],
   "source": [
    "f, ax = plt.subplots(1,2, figsize=(8,3), sharex=True, sharey=True)\n",
    "\n",
    "ax[0].imshow(I/255)\n",
    "ax[0].set_title('Original Image')\n",
    "\n",
    "# Reconstructed Image.\n",
    "Ir = np.reshape(CC[whichCluster,:], I.shape)\n",
    "ax[1].imshow(Ir/255) # Because it's floating point.\n",
    "ax[1].set_title('{} color reconstruction'.format(K))\n",
    "\n",
    "plt.tight_layout()"
   ]
  },
  {
   "cell_type": "code",
   "execution_count": null,
   "metadata": {},
   "outputs": [],
   "source": [
    "vis_rgb_cube(I)"
   ]
  },
  {
   "cell_type": "code",
   "execution_count": null,
   "metadata": {},
   "outputs": [],
   "source": [
    "vis_rgb_cube(Ir)"
   ]
  },
  {
   "cell_type": "code",
   "execution_count": null,
   "metadata": {},
   "outputs": [],
   "source": []
  }
 ],
 "metadata": {
  "kernelspec": {
   "display_name": "Python 3",
   "language": "python",
   "name": "python3"
  },
  "language_info": {
   "codemirror_mode": {
    "name": "ipython",
    "version": 3
   },
   "file_extension": ".py",
   "mimetype": "text/x-python",
   "name": "python",
   "nbconvert_exporter": "python",
   "pygments_lexer": "ipython3",
   "version": "3.7.3"
  }
 },
 "nbformat": 4,
 "nbformat_minor": 4
}
