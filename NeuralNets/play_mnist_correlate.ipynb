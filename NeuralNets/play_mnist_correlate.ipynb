{
 "cells": [
  {
   "cell_type": "markdown",
   "metadata": {},
   "source": [
    "# [MNIST](https://en.wikipedia.org/wiki/MNIST_database) Digit Recognition Through Averages\n",
    "stough 202-\n",
    "\n",
    "In this notebook we'll define a simple linear scheme for recognizing hand-written digits. Every image we train on and ever test against is a $28\\times28$ single-channel thumbnail. Look through [mnist_explore.ipynb](./mnist_explore.ipynb) for more. \n",
    "\n",
    "Our approach for recognizing the digit in a single image is simple: compare each pixel in the image against a template for each digit class. We'll do this through simple correlation: a dot-product of the image with the digit template. The higher the correlation, the higher the likelihood that the image is example of that template digit. "
   ]
  },
  {
   "cell_type": "code",
   "execution_count": null,
   "metadata": {},
   "outputs": [],
   "source": [
    "%matplotlib inline\n",
    "# or widget\n",
    "import matplotlib.pyplot as plt\n",
    "\n",
    "import numpy as np\n",
    "from random import shuffle\n",
    "import copy\n",
    "import tempfile\n",
    "\n",
    "from functools import partial\n",
    "from multiprocessing.pool import ThreadPool\n",
    "\n",
    "from torchvision import datasets, transforms\n",
    "from torchvision.utils import make_grid\n",
    "\n",
    "# For importing from alternative directory sources\n",
    "import sys  \n",
    "sys.path.insert(0, '../dip_utils')\n",
    "\n",
    "from matrix_utils import (arr_info,\n",
    "                          make_linmap)"
   ]
  },
  {
   "cell_type": "markdown",
   "metadata": {},
   "source": [
    "## Loading and Formatting the MNIST Data"
   ]
  },
  {
   "cell_type": "code",
   "execution_count": null,
   "metadata": {},
   "outputs": [],
   "source": [
    "# Thank you: https://www.aiworkbox.com/lessons/load-mnist-dataset-from-pytorch-torchvision\n",
    "# https://pytorch.org/docs/stable/torchvision/datasets.html\n",
    "mnist_trainset = datasets.MNIST(root='/home/dip365/data', train=True, download=False, transform=None)\n",
    "mnist_testset = datasets.MNIST(root='/home/dip365/data', train=False, download=False, transform=None)\n",
    "\n",
    "x_train = np.stack([np.array(x).ravel() for x,_ in mnist_trainset])\n",
    "x_test = np.stack([np.array(x).ravel() for x,_ in mnist_testset])\n",
    "y_train = np.stack([y for _,y in mnist_trainset]).astype('long')\n",
    "y_test = np.stack([y for _,y in mnist_testset]).astype('long')\n",
    "\n",
    "# These are Nx784\n",
    "x_train = x_train.astype(np.float32)/255.0\n",
    "x_test = x_test.astype(np.float32)/255.0"
   ]
  },
  {
   "cell_type": "code",
   "execution_count": null,
   "metadata": {},
   "outputs": [],
   "source": [
    "arr_info(x_train)"
   ]
  },
  {
   "cell_type": "markdown",
   "metadata": {},
   "source": [
    "## 0. Play around with all the data being provided.\n",
    "As you see above, each row of `x_train` (or `x_test`) is a $784$-dimensional vector, just a flattened version of some $28\\times28$ MNIST image in either the training or test data. Further, `y_train` (or `y_test`) contains the digit class. Explore these structures that have been provided, so that you will have some idea what in the world is happenning below.\n",
    "\n",
    "- Visualize a corresponding row and element from `x_train` and `y_train`. \n",
    "  - What are the shapes of `x_train` and `y_train`? What about `x_test` and `y_test`?\n",
    "  - Print out `y_train[1234]`\n",
    "  - Try to visualize the corresponding hand-written digit image in `x_train`, that is `x_train[1234]` or `x_train[1234,:]`. Of course you cannot `imshow` a 1D row, so use [`np.reshape`](https://numpy.org/doc/stable/reference/generated/numpy.reshape.html).\n",
    "  \n",
    "Hopefully this exploration should convince you that we have training `x_train` and test `x_test` datasets, and these sets are also labeled through the arrays `y_train` and `y_test`. We're going to use the training data to formulate MNIST image templates for each digit, and then use the test data to see how well those templates generalize to data that we didn't use in training.  "
   ]
  },
  {
   "cell_type": "markdown",
   "metadata": {},
   "source": [
    "## 1. Vector-normalize the `x_train` and `x_test` data.\n",
    "[Normalize](https://stackoverflow.com/questions/21030391/how-to-normalize-an-array-in-numpy-to-a-unit-vector) each row so that every image has a magnitude of $1$. We want to do this so that when we do correlations/[dot-products](https://en.wikipedia.org/wiki/Dot_product), the possible outcomes are all values in the range normalized range $[-1,1]$. Use [`norm`](https://numpy.org/doc/stable/reference/generated/numpy.linalg.norm.html) and [`divide`](https://docs.scipy.org/doc/numpy-1.13.0/reference/generated/numpy.divide.html) to pretty easily perform this normalization. \n",
    "If you're writing your own for loop, you haven't looked closely enough at the documentation for these powerfull numpy functions. \n",
    "\n",
    "- You may run into an issue with `broadcast` rules on division. For example, if we just look at the shapes $(10,3)$ and $(10,1)$, `divide` would know how to divide these two matrices: it would virtually make three vertical copies of the second so that the two shapes matched at $(10,3)$. However `divide` doesn't know what to do with $(10,3)$ and $(10,)$ for example, because the number of dimensions isn't even the same. Read the documentation and work with small examples to solve your issues."
   ]
  },
  {
   "cell_type": "code",
   "execution_count": null,
   "metadata": {},
   "outputs": [],
   "source": []
  },
  {
   "cell_type": "code",
   "execution_count": null,
   "metadata": {},
   "outputs": [],
   "source": [
    "## Check correctness, should be all True...\n",
    "print(f'Is every row of x_test normalized?')\n",
    "np.isclose(np.linalg.norm(x_test, axis=-1), 1.0)"
   ]
  },
  {
   "cell_type": "markdown",
   "metadata": {},
   "source": [
    "## 2. Compute a $10\\times784$ matrix of template digits.\n",
    "See [mnist_explore.ipynb](./mnist_explore.ipynb), where we compute the average seven for example. Do this for every digit using the `x_train` (and `y_train`) data. I call the resulting matrix `A` in the test cells."
   ]
  },
  {
   "cell_type": "code",
   "execution_count": null,
   "metadata": {},
   "outputs": [],
   "source": []
  },
  {
   "cell_type": "code",
   "execution_count": null,
   "metadata": {},
   "outputs": [],
   "source": [
    "## Test norm, should be all True...\n",
    "np.isclose(np.linalg.norm(A, axis=-1), 1.0)"
   ]
  },
  {
   "cell_type": "code",
   "execution_count": null,
   "metadata": {},
   "outputs": [],
   "source": [
    "## Test sanity, visualize all the template digits\n",
    "f, ax = plt.subplots(2,5, figsize=(8,3))\n",
    "for i in range(5):\n",
    "    ax[0, i].imshow(np.reshape(A[i,:], (28,28)), cmap='gray')\n",
    "    ax[1, i].imshow(np.reshape(A[i+5,:], (28,28)), cmap='gray')\n",
    "\n",
    "[a.axes.get_xaxis().set_visible(False) for a in ax.flatten()]\n",
    "[a.axes.get_yaxis().set_visible(False) for a in ax.flatten()]\n",
    "plt.tight_layout()"
   ]
  },
  {
   "cell_type": "markdown",
   "metadata": {},
   "source": [
    "## 3. Correlate `x_test` against the template matrix.\n",
    "Use [`matmul`](https://numpy.org/doc/stable/reference/generated/numpy.matmul.html) to compute the dot-product of every test case against every digit template. Given that there are 10K test images, our result should be $10000\\times10$."
   ]
  },
  {
   "cell_type": "code",
   "execution_count": null,
   "metadata": {},
   "outputs": [],
   "source": []
  },
  {
   "cell_type": "markdown",
   "metadata": {},
   "source": [
    "## 4. Compute the classification accuracy of this scheme.\n",
    "Use [`argmax`](https://numpy.org/doc/stable/reference/generated/numpy.argmax.html) to determine for each test case which template digit yielded the best score. Then compute the number that matched the correct labels from `y_test`. "
   ]
  },
  {
   "cell_type": "code",
   "execution_count": null,
   "metadata": {},
   "outputs": [],
   "source": []
  },
  {
   "cell_type": "code",
   "execution_count": null,
   "metadata": {},
   "outputs": [],
   "source": []
  },
  {
   "cell_type": "markdown",
   "metadata": {},
   "source": [
    "## 5. Show some examples of the incorrectly-classified digit images from `x_test`\n",
    "Remember you can use [`where`](https://numpy.org/doc/stable/reference/generated/numpy.where.html) to get the indices at which your `argmax` result above do not match the `y_test` labels."
   ]
  },
  {
   "cell_type": "code",
   "execution_count": null,
   "metadata": {},
   "outputs": [],
   "source": []
  }
 ],
 "metadata": {
  "kernelspec": {
   "display_name": "Python 3 (ipykernel)",
   "language": "python",
   "name": "python3"
  },
  "language_info": {
   "codemirror_mode": {
    "name": "ipython",
    "version": 3
   },
   "file_extension": ".py",
   "mimetype": "text/x-python",
   "name": "python",
   "nbconvert_exporter": "python",
   "pygments_lexer": "ipython3",
   "version": "3.10.11"
  }
 },
 "nbformat": 4,
 "nbformat_minor": 4
}
