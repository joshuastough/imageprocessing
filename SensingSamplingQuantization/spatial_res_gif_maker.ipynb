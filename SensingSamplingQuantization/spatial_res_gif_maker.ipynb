{
 "cells": [
  {
   "cell_type": "markdown",
   "metadata": {},
   "source": [
    "# Spatial Resolution GIF Maker\n",
    "stough 202-\n",
    "\n",
    "Making an animation similar to the interactive slider in the [spatial resolution demo](./spatial_resolution.ipynb). \n",
    "\n",
    "Some pointers:\n",
    "- [neat, tight example](http://louistiao.me/posts/notebooks/save-matplotlib-animations-as-gifs/)\n",
    "- [even simpler](https://riptutorial.com/matplotlib/example/23562/save-animation-to-gif)\n",
    "\n",
    "Had some issues trying to pad the figure correctly so that that animation showed the changing axis titles without putting too much padding on the other sides. Turns out setting the bottom of the `rect` argument to a slightly negative value allows the axis titles to be visible. Another issue was that the first frame of the saved gif had transparent background. As per [here](https://stackoverflow.com/questions/59715466/how-to-control-matplotlib-figure-patch-facecolor-changes-when-animating) and [here](https://adrian.pw/blog/matplotlib-transparent-animation/), I saw to add the `savefig_kwargs` dictionary to the gif saving code, forcing transparency off and sticking to white background. "
   ]
  },
  {
   "cell_type": "code",
   "execution_count": null,
   "metadata": {},
   "outputs": [],
   "source": [
    "%matplotlib inline\n",
    "import matplotlib.pyplot as plt\n",
    "import numpy as np\n",
    "from skimage.transform import rescale\n",
    "\n",
    "from matplotlib import animation, rc\n",
    "from IPython.display import HTML, Image"
   ]
  },
  {
   "cell_type": "code",
   "execution_count": null,
   "metadata": {},
   "outputs": [],
   "source": [
    "rc('animation', html='html5')"
   ]
  },
  {
   "cell_type": "code",
   "execution_count": null,
   "metadata": {},
   "outputs": [],
   "source": [
    "# Ripped from the spatial_resolution demo\n",
    "def downandup(I, factor):\n",
    "    # downscale\n",
    "    sI = rescale(I, 1/factor,\n",
    "                 order=0, # use nearest neighbor\n",
    "                 anti_aliasing=False,\n",
    "                 channel_axis=-1)\n",
    "\n",
    "    # rescale back up\n",
    "    reI = rescale(sI, factor,\n",
    "                  order=0, # use nearest neighbor sampling\n",
    "                  anti_aliasing=False,\n",
    "                  channel_axis=-1)\n",
    "    return reI"
   ]
  },
  {
   "cell_type": "code",
   "execution_count": null,
   "metadata": {},
   "outputs": [],
   "source": [
    "# Load the image\n",
    "I = plt.imread('../dip_pics/grandCanyon.jpg')\n",
    "Ire = downandup(I, factor=1)"
   ]
  },
  {
   "cell_type": "code",
   "execution_count": null,
   "metadata": {},
   "outputs": [],
   "source": [
    "# First set up the figure, the axis, and the plot element we want to animate\n",
    "fig, ax = plt.subplots(1,2, figsize=(10,4))\n",
    "[a.axes.get_xaxis().set_visible(False) for a in ax];\n",
    "[a.axes.get_yaxis().set_visible(False) for a in ax];\n",
    "\n",
    "plt.tight_layout(rect=(0,-.1, 1,1))\n",
    "\n",
    "ax[0].imshow(I, interpolation=None)\n",
    "ax[0].set_title('Original')\n",
    "\n",
    "# ax[1].imshow(Ire, interpolation=None)\n",
    "# ax[1].set_title('Quarter Res')\n",
    "rdisp = ax[1].imshow(I, interpolation=None)\n",
    "rtext = ax[1].set_title(f'Factor: {1:d}')"
   ]
  },
  {
   "cell_type": "code",
   "execution_count": null,
   "metadata": {},
   "outputs": [],
   "source": [
    "def init():\n",
    "    rdisp.set_data(Ire)\n",
    "    rtext.set_text(f'Factor: {1:d}')\n",
    "    return (rdisp, rtext,)"
   ]
  },
  {
   "cell_type": "code",
   "execution_count": null,
   "metadata": {},
   "outputs": [],
   "source": [
    "# animation function. This is called sequentially\n",
    "def animate(i):\n",
    "    Ire = downandup(I, factor=2**i)\n",
    "    rdisp.set_data(Ire)\n",
    "    rtext.set_text(f'Factor: {2**i:d}')\n",
    "    return (rdisp, rtext,)"
   ]
  },
  {
   "cell_type": "code",
   "execution_count": null,
   "metadata": {},
   "outputs": [],
   "source": [
    "# call the animator. blit=True means only re-draw the parts that \n",
    "# have changed.\n",
    "anim = animation.FuncAnimation(fig, animate, init_func=init,\n",
    "                               frames=9, interval=350, blit=True)"
   ]
  },
  {
   "cell_type": "code",
   "execution_count": null,
   "metadata": {},
   "outputs": [],
   "source": [
    "# Outputing this directly can create a lot of problems depending on your environment\n",
    "# anim"
   ]
  },
  {
   "cell_type": "code",
   "execution_count": null,
   "metadata": {},
   "outputs": [],
   "source": [
    "anim.save('../dip_outs/spatial_res_animation.gif', writer='imagemagick', fps=2,\n",
    "          savefig_kwargs={'transparent': False, 'facecolor': 'white'})"
   ]
  },
  {
   "cell_type": "code",
   "execution_count": null,
   "metadata": {},
   "outputs": [],
   "source": [
    "Image(url='../dip_outs/spatial_res_animation.gif')"
   ]
  },
  {
   "cell_type": "code",
   "execution_count": null,
   "metadata": {},
   "outputs": [],
   "source": []
  }
 ],
 "metadata": {
  "kernelspec": {
   "display_name": "Python 3 (ipykernel)",
   "language": "python",
   "name": "python3"
  },
  "language_info": {
   "codemirror_mode": {
    "name": "ipython",
    "version": 3
   },
   "file_extension": ".py",
   "mimetype": "text/x-python",
   "name": "python",
   "nbconvert_exporter": "python",
   "pygments_lexer": "ipython3",
   "version": "3.10.11"
  }
 },
 "nbformat": 4,
 "nbformat_minor": 4
}
