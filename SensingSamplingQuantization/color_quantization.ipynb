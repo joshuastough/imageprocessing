{
 "cells": [
  {
   "cell_type": "markdown",
   "metadata": {},
   "source": [
    "# Color Quantization\n",
    "stough 202-\n",
    "\n",
    "[Quantization](https://www.mathworks.com/discovery/quantization.html) is how we map an otherwise continuous range of values into the finite discrete set that we can store. We have see that most commmonly we use 8-bit values in the range $[0,255]$ to represent all possible intensities, a continuous range in reality.\n",
    "\n",
    "We'll observe this quantization on a single-channel grayscale image to start. "
   ]
  },
  {
   "cell_type": "markdown",
   "metadata": {},
   "source": [
    "## Imports\n",
    "We're adding [`scipy.stats.norm`](https://docs.scipy.org/doc/scipy/reference/generated/scipy.stats.norm.html) as a function for plotting a Gaussian."
   ]
  },
  {
   "cell_type": "code",
   "execution_count": null,
   "metadata": {},
   "outputs": [],
   "source": [
    "%matplotlib widget\n",
    "import matplotlib.pyplot as plt\n",
    "import numpy as np\n",
    "from scipy.stats import norm\n",
    "\n",
    "# For importing from alternative directory sources\n",
    "import sys  \n",
    "sys.path.insert(0, '../dip_utils')\n",
    "\n",
    "import matrix_utils\n",
    "from vis_utils import vis_image, vis_pair"
   ]
  },
  {
   "cell_type": "markdown",
   "metadata": {},
   "source": [
    "A nice way to make a Gaussian image: make a 1D sampled Gaussian and take its outer product. Then we'll normalize it to a $[0,255]$ 8-bit integers."
   ]
  },
  {
   "cell_type": "code",
   "execution_count": null,
   "metadata": {},
   "outputs": [],
   "source": [
    "x = np.linspace(-2.5,2.5,257)"
   ]
  },
  {
   "cell_type": "code",
   "execution_count": null,
   "metadata": {},
   "outputs": [],
   "source": [
    "plt.figure(figsize=(4,2))\n",
    "plt.plot(x, norm.pdf(x));"
   ]
  },
  {
   "cell_type": "code",
   "execution_count": null,
   "metadata": {},
   "outputs": [],
   "source": [
    "I = np.outer(norm.pdf(x),norm.pdf(x))\n",
    "I = I/I.max()\n",
    "I = np.uint8(255*I +.5)"
   ]
  },
  {
   "cell_type": "code",
   "execution_count": null,
   "metadata": {},
   "outputs": [],
   "source": [
    "matrix_utils.arr_info(I)"
   ]
  },
  {
   "cell_type": "code",
   "execution_count": null,
   "metadata": {},
   "outputs": [],
   "source": [
    "# Note that we can a utility rather than always type these out.\n",
    "# plt.figure(figsize=(4,4))\n",
    "# plt.imshow(I, cmap='gray', interpolation=None);\n",
    "vis_image(I, cmap='gray')"
   ]
  },
  {
   "cell_type": "markdown",
   "metadata": {},
   "source": [
    "The above is a Gaussian blob image, as continuous as we can normally make it, in what's called 8-bit depth. Zoom in and see just how smooth it is. We can also plot the original continuous Gaussian. We'll plot with two y axes using [matplotlib](https://matplotlib.org/3.2.1/gallery/subplots_axes_and_figures/two_scales.html)."
   ]
  },
  {
   "cell_type": "code",
   "execution_count": null,
   "metadata": {},
   "outputs": [],
   "source": [
    "f, ax1 = plt.subplots(figsize=(7,3))\n",
    "ax1.scatter(x, norm.pdf(x), c='blue')\n",
    "\n",
    "ax2 = ax1.twinx()\n",
    "plt.bar(x, I[128,:], fill=False, width = np.diff(x)[0], edgecolor='red');"
   ]
  },
  {
   "cell_type": "markdown",
   "metadata": {},
   "source": [
    "The complicated plot above shows in blue dots the continuous value of the Gaussian at the location, while the red bars show the 8-bit value of the sampled image (that is, sampling from a horizontal line, `I[128,:]`, right through the middle of the image). In the current image there are 256 possible intensities. We can quantize the intensities to a bit depth of less than 8 by ignoring the low-order bits in the intensity. Let's try 4 bit intensity."
   ]
  },
  {
   "cell_type": "code",
   "execution_count": null,
   "metadata": {},
   "outputs": [],
   "source": [
    "I4 = (I >> 4)"
   ]
  },
  {
   "cell_type": "code",
   "execution_count": null,
   "metadata": {},
   "outputs": [],
   "source": [
    "# Again, why not use a utility:\n",
    "# f, ax = plt.subplots(1,2, figsize=(6,3), sharex=True, sharey=True)\n",
    "\n",
    "# ax[0].imshow(I, cmap='gray', interpolation=None)\n",
    "# ax[0].set_title('8-bit intensities')\n",
    "\n",
    "# ax[1].imshow(I4, cmap='gray', interpolation=None)\n",
    "# ax[1].set_title('4-bit intensities')\n",
    "\n",
    "# [a.axes.get_xaxis().set_visible(False) for a in ax];\n",
    "# [a.axes.get_yaxis().set_visible(False) for a in ax];\n",
    "# plt.tight_layout()\n",
    "vis_pair(I, I4, first_title='8-bit intensities', \n",
    "         second_title='4-bit intensities', cmap='gray',\n",
    "         figsize=(6,3))"
   ]
  },
  {
   "cell_type": "markdown",
   "metadata": {},
   "source": [
    "We can try the same 1D plot as we did before, to see how far off our I6 intensities are from the continuous original."
   ]
  },
  {
   "cell_type": "code",
   "execution_count": null,
   "metadata": {},
   "outputs": [],
   "source": [
    "f, ax1 = plt.subplots(figsize=(7,3))\n",
    "ax1.scatter(x, norm.pdf(x), c='blue')\n",
    "\n",
    "ax2 = ax1.twinx()\n",
    "plt.bar(x, I4[128,:], fill=False, width = np.diff(x)[0], edgecolor='red');"
   ]
  },
  {
   "cell_type": "markdown",
   "metadata": {},
   "source": [
    "We've gotten all this way in a demo on \"color quantization\" and we haven't seen any color yet. Oh well, I leave it to you. \n",
    "\n",
    "### Problem\n",
    "Take a look at the interactive visualization in the [spatial resolution](./spatial_resolution.ipynb) and [interactive visualization](../NumpyAndVisualization/interactive_vis.ipynb) demos. Make a similar visualization here that shows the effect of color quantization on the image file `../dip_pics/sf.jpg` or one of your own choosing. Keep in mind that `imshow`ing a 3-channel image requires either floating point in [0,1] or else integer in [0,255]. "
   ]
  },
  {
   "cell_type": "code",
   "execution_count": null,
   "metadata": {},
   "outputs": [],
   "source": []
  }
 ],
 "metadata": {
  "kernelspec": {
   "display_name": "Python 3 (ipykernel)",
   "language": "python",
   "name": "python3"
  },
  "language_info": {
   "codemirror_mode": {
    "name": "ipython",
    "version": 3
   },
   "file_extension": ".py",
   "mimetype": "text/x-python",
   "name": "python",
   "nbconvert_exporter": "python",
   "pygments_lexer": "ipython3",
   "version": "3.10.13"
  }
 },
 "nbformat": 4,
 "nbformat_minor": 4
}
