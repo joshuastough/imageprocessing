{
 "cells": [
  {
   "cell_type": "markdown",
   "metadata": {},
   "source": [
    "# Playing around with image display and manipulation\n",
    "stough 202-\n",
    "\n",
    "At this point you've already studied the [matplotlib tutorial](./NumpyAndVisualization/matplotlib_tutorial.ipynb). This is just meant to be a space to walk through some of your coding on image display and manipulation. Let's try some stuff out."
   ]
  },
  {
   "cell_type": "markdown",
   "metadata": {},
   "source": [
    "## Imports\n",
    "Copy and paste into this notebook the imports from the [matplotlib tutorial](./NumpyAndVisualization/matplotlib_tutorial.ipynb). "
   ]
  },
  {
   "cell_type": "code",
   "execution_count": null,
   "metadata": {},
   "outputs": [],
   "source": []
  },
  {
   "cell_type": "markdown",
   "metadata": {},
   "source": [
    "## Read an Image\n",
    "Try loading `../dip_pics/sf.jpg` and reporting on its content using the `arr_info` function we've written. This image should be three channel with 8-bit color depth. That is, every pixel is represented by three numbers in the range $[0,255]$."
   ]
  },
  {
   "cell_type": "code",
   "execution_count": null,
   "metadata": {},
   "outputs": [],
   "source": []
  },
  {
   "cell_type": "markdown",
   "metadata": {},
   "source": [
    "## Display the Image\n",
    "Again, use the [matplotlib tutorial](./NumpyAndVisualization/matplotlib_tutorial.ipynb) as guidance here and display the image."
   ]
  },
  {
   "cell_type": "code",
   "execution_count": null,
   "metadata": {},
   "outputs": [],
   "source": []
  },
  {
   "cell_type": "markdown",
   "metadata": {},
   "source": [
    "## Make the Image Brighter\n",
    "Let's try to make the image brighter. If every number in the image is a `uint8`, what happens to the image if we just try `I50 = I + 50` for example?  "
   ]
  },
  {
   "cell_type": "code",
   "execution_count": null,
   "metadata": {},
   "outputs": [],
   "source": []
  },
  {
   "cell_type": "markdown",
   "metadata": {},
   "source": [
    "If it doesn't look right, then what happenned? Remember that the image is `uint8`. \n",
    "\n",
    "Try to correct the issue."
   ]
  },
  {
   "cell_type": "code",
   "execution_count": null,
   "metadata": {},
   "outputs": [],
   "source": []
  },
  {
   "cell_type": "markdown",
   "metadata": {},
   "source": [
    "## Try Again with a Different Image\n",
    "Try loading `../dip_pics/candy.png` and reporting on its content using the `arr_info` function we've written. You should see that the image information is quite different here. Try to make this image brighter."
   ]
  },
  {
   "cell_type": "code",
   "execution_count": null,
   "metadata": {},
   "outputs": [],
   "source": []
  }
 ],
 "metadata": {
  "kernelspec": {
   "display_name": "Python 3 (ipykernel)",
   "language": "python",
   "name": "python3"
  },
  "language_info": {
   "codemirror_mode": {
    "name": "ipython",
    "version": 3
   },
   "file_extension": ".py",
   "mimetype": "text/x-python",
   "name": "python",
   "nbconvert_exporter": "python",
   "pygments_lexer": "ipython3",
   "version": "3.10.13"
  }
 },
 "nbformat": 4,
 "nbformat_minor": 4
}
