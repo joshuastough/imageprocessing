{
 "cells": [
  {
   "cell_type": "markdown",
   "metadata": {},
   "source": [
    "# Contrast and Image Enhancement\n",
    "## Histogram Equalization\n",
    "stough 202-\n",
    "DIP, exactly the content in 3.3.1 on Histogram Equalization.\n",
    "\n",
    "At this point we've seen the usefulness of transfer functions for contrast enhancement in images, from simple linear windowing to nonliner transforms like power and log. We saw that in this context we look to construct transfer functions that dedicate more of the output range to the subset(s) of the input range where the image intensities are concentrated. In this notebook we'll practically formulate the ideal contrast enhancing transfer function given any particular image."
   ]
  },
  {
   "cell_type": "markdown",
   "metadata": {},
   "source": [
    "## Imports"
   ]
  },
  {
   "cell_type": "code",
   "execution_count": null,
   "metadata": {},
   "outputs": [],
   "source": [
    "%matplotlib widget\n",
    "import matplotlib.pyplot as plt\n",
    "import numpy as np\n",
    "import matplotlib.colors as mcolors\n",
    "import skimage.color as color\n",
    "from ipywidgets import VBox, HBox, FloatLogSlider\n",
    "from scipy.interpolate import interp1d\n",
    "\n",
    "# For importing from alternative directory sources\n",
    "import sys  \n",
    "sys.path.insert(0, '../dip_utils')\n",
    "\n",
    "from matrix_utils import (arr_info,\n",
    "                          make_linmap)\n",
    "\n",
    "from vis_utils import (vis_rgb_cube,\n",
    "                       vis_hsv_cube,\n",
    "                       vis_hists,\n",
    "                       vis_pair,\n",
    "                       lab_uniform)"
   ]
  },
  {
   "cell_type": "markdown",
   "metadata": {},
   "source": [
    "## Prior Example Transfer Functions\n",
    "\n",
    "Here is a quick plot and discussion of some of the transfer functions covered in the [enhance_transfer](./enhance_transfer.ipynb) notebook."
   ]
  },
  {
   "cell_type": "code",
   "execution_count": null,
   "metadata": {},
   "outputs": [],
   "source": [
    "x = np.arange(256)\n",
    "plt.figure(figsize=(6,4))\n",
    "plt.plot(x, x, c = 'blue', label = 'equal')\n",
    "plt.plot(x, np.clip(make_linmap([50,150], [0,255])(x), 0, 255), label = 'win [50,150]')\n",
    "plt.plot(x, (255/8)*np.log2(1 + x), label = '$log_{2}$')\n",
    "plt.plot(x, np.power(2,(256/255)*x/32)-1, label = '$2^{x}$')\n",
    "c = 255.0/(np.power(255.0, 2.4))\n",
    "plt.plot(x, c*np.power(x,2.4), label = f'$\\gamma$ {2.4:.01f}')\n",
    "plt.plot(x, 16*np.sqrt(x), label = 'sqrt')\n",
    "\n",
    "\n",
    "plt.xlabel('Input Intensity')\n",
    "plt.ylabel('Output Intensity')\n",
    "plt.legend()\n",
    "plt.tight_layout()"
   ]
  },
  {
   "cell_type": "markdown",
   "metadata": {},
   "source": [
    "We saw previously that if our image has pixels that are all bunched up in color/intensity, leading to low contrast, our transfer function should accentuate those differences and thus improve contrast. We also saw how the histogram can tell us where to find these concentrations in the input domain.\n",
    "\n",
    "Seen more practically then, a good transfer function has a <span style=\"color:#FF9966\">**slope above 1, leading to expansion**</span> and higher contrast, where the frequency of intensities is high in the input domain. To balance against that expansion though, the slope must end up <span style=\"color:#FF9966\">**less than 1, leading to compression**</span> of differences and reduction of contrast, in parts of the input domain that are sparsely populated. \n",
    "\n",
    "As a result, we saw how an overexposed image, with many bright intensities and few dark ones, could be improved with for example an exponential ($2^{x}$). Similarly an underexposed image, with large dark areas, could be improved by a $log$ or square root transform ($\\gamma=1/2$)."
   ]
  },
  {
   "cell_type": "markdown",
   "metadata": {},
   "source": [
    "### Make Gausisan and Uniform Random Images\n",
    "\n",
    "See how the uniform has better contrast, see what that means\n",
    "in the histograms. We can see that higher contrast goes in hand with a uniform histogram."
   ]
  },
  {
   "cell_type": "code",
   "execution_count": null,
   "metadata": {},
   "outputs": [],
   "source": [
    "I_uniform = np.uint8(256*np.random.random((100,100,3)))\n",
    "I_gauss = np.clip(128 + 30*np.random.randn(100,100,3), 0, 255).astype('uint8')"
   ]
  },
  {
   "cell_type": "code",
   "execution_count": null,
   "metadata": {},
   "outputs": [],
   "source": [
    "vis_hists(I_uniform)\n",
    "vis_hists(I_gauss)"
   ]
  },
  {
   "cell_type": "markdown",
   "metadata": {},
   "source": [
    "### Build a parametric function that would spread the data out in `I_gauss`.\n",
    "If we look at the above Gaussian distribution, and imagine drawing the transfer function over it, we can see that towards the extremes, where there's not much data, the curve should be flat. Further, towards the middle the curve should be steep, to represent the idea that we are taking small differences in the input and mapping them to larger differences in the output.\n",
    "\n",
    "This ends up looking something like an [S curve or sigmoid](https://en.wikipedia.org/wiki/Sigmoid_function).\n",
    "\n",
    "$$S(x) = \\frac{1}{1 + e^{-x}}$$\n",
    "\n",
    "But we need a sigmoid that is centered around .5 and steep enough to look like an s inside [0,1]. We can rescale to our $[0,255]$ mapping afterwards.\n",
    "\n",
    "$$S(x, x_c, s) = \\frac{1}{1 + e^{-s(x-x_c)}}$$"
   ]
  },
  {
   "cell_type": "code",
   "execution_count": null,
   "metadata": {},
   "outputs": [],
   "source": [
    "def make_scurve(xc, s):\n",
    "    return lambda x: 1/(1+np.exp(-(s*(x-xc))))"
   ]
  },
  {
   "cell_type": "code",
   "execution_count": null,
   "metadata": {},
   "outputs": [],
   "source": [
    "x = np.arange(0,1,1/100)\n",
    "# f = lambda x: 1/(1+np.exp(-(10*(x-.5))))\n",
    "f = make_scurve(.5, 10)\n",
    "plt.figure(figsize=(4,3))\n",
    "plt.plot(x, f(x));"
   ]
  },
  {
   "cell_type": "markdown",
   "metadata": {},
   "source": [
    "### Apply the function to `I_gauss` and see how it improves contrast.\n",
    "\n",
    "Since the S-curve function will return floating point numbers, for display purposes we must stick to $[0,1]$. "
   ]
  },
  {
   "cell_type": "code",
   "execution_count": null,
   "metadata": {},
   "outputs": [],
   "source": [
    "vis_pair(I_gauss, f(I_gauss/255.0)) # or (255*f(I_gauss/255.0)).astype('uint8'))"
   ]
  },
  {
   "cell_type": "code",
   "execution_count": null,
   "metadata": {},
   "outputs": [],
   "source": [
    "# vis_rgg_cube(I_gauss) # Comment in this line if you want to see the original I_gauss cube.\n",
    "vis_rgb_cube(I_gauss/255.0)\n",
    "vis_rgb_cube(f(I_gauss/255.0))"
   ]
  },
  {
   "cell_type": "markdown",
   "metadata": {},
   "source": [
    "### We can accomplish the same thing emperically, through the [cumulative distribution function](https://en.wikipedia.org/wiki/Cumulative_distribution_function) on the histogram\n",
    "\n",
    "A fundamental result from probability theory, if $s = \\mathbf{T}(r)$ for $\\mathbf{T}$ continuous and differentiable:\n",
    "$$p_s(s) = p_r(r)\\begin{vmatrix}{\\frac{dr}{ds}}\\end{vmatrix}$$\n",
    "\n",
    "The CDF measures the probability that a random variable $X$ takes on a value less than or equal to $x$:\n",
    "\n",
    " $$P(X \\le x) = \\intop_{0}^{x} p_r(w)dw$$\n",
    " \n",
    "where $p_r$ is the probability distribution (read: histogram) of our random variable $r$. So to transform into a uniform distribution, our transfer function should be:\n",
    "\n",
    " $$s = \\mathbf{T}(r) = (L-1) \\intop_{0}^{r} p_r(w)dw$$\n",
    " \n",
    "Another way of looking at this transfer function is that it <span style=\"color:#FF9966\">transforms an input intensity to that intensity's rank/percentile in the image</span> (then scaled by the output max). For example, if a pixel is at least as bright as three-quarters of the image pixels in the input, then that pixel will have three-quarters of the max brightness in the output. \n",
    "\n",
    "Lastly, you have likely run into a real-world analogy to the CDF, in the form of your standardized test scores. The CDF provides the conversion from your test score to your [percentile ranking](https://blog.prepscholar.com/sat-percentiles-and-score-rankings) compared with all others who took the test."
   ]
  },
  {
   "cell_type": "markdown",
   "metadata": {},
   "source": [
    "### Computing the CDF\n",
    "\n",
    "This next cell is <span style=\"color:#FF9966\">key step 1</span> in performing histogram equalization: We must compute the Cumulative Distribution Function (CDF), which once normalized *is the transfer function* we want to apply.\n",
    "\n",
    "- We use [`numpy.histogram`](https://numpy.org/doc/stable/reference/generated/numpy.histogram.html) to get frequency counts `freq` for each possible intensity. (In floating point data it's not particularly different, it's just that each bin will end up representing more than one discrete intensity).\n",
    "- We use [`numpy.cumsum`](https://numpy.org/doc/stable/reference/generated/numpy.cumsum.html) to gives a rolling sum `cdf` of the frequency counts in `freq`. It's just a list of all the intermediate sums on the way to the overall sum. \n",
    "- We normalize both `freq` and `cdf`. This happens to help for the purpose of visualizing the two together, but in the case of `cdf` we'll see it also helps normalizing the output of the transfer function easier. We could just end up multiplying by our maximum brightness.\n",
    "\n",
    "The slope of the CDF at any bin is now proportional to the number of pixels in that bin. And we know that in order to improve contrast in an image, we want the slope of our transfer function to be high in places where there are lots of pixels bunched up together in intensity. So there we have it: the CDF exhibits exactly the slope we need in order to improve contrast."
   ]
  },
  {
   "cell_type": "code",
   "execution_count": null,
   "metadata": {},
   "outputs": [],
   "source": [
    "# First get the histogram of I_gauss, and plot with the cdf.\n",
    "# normalize so they show up nicely.\n",
    "\n",
    "bins=np.arange(257)\n",
    "freq, bins = np.histogram(I_gauss.ravel(), bins=bins)\n",
    "freq = freq/freq.max()\n",
    "cdf = np.cumsum(freq)\n",
    "cdf = cdf/cdf.max()"
   ]
  },
  {
   "cell_type": "code",
   "execution_count": null,
   "metadata": {},
   "outputs": [],
   "source": [
    "f = plt.figure(figsize=(4,3))\n",
    "plt.bar(bins[:-1], freq, width=.5) # width to keep the bars skinny enough.\n",
    "plt.plot(bins[:-1], cdf, 'b-', label='$CDF_{\\mathtt{I\\_gauss}}$');\n",
    "plt.plot(x*255, make_scurve(.5, 10)(x), 'r-', label='S-curve');\n",
    "plt.legend();"
   ]
  },
  {
   "cell_type": "markdown",
   "metadata": {},
   "source": [
    "You can see in the above that indeed that the CDF has a high slope where there is a lot of data, and a lower slope where there is little or no data. It's coincidental that the sigmoid can come close to matching the CDF of a Gaussian.  \n",
    "\n",
    "Now for  <span style=\"color:#FF9966\">key step 2</span> in performing histogram equalization: We must apply the `cdf` (coming from the histogram) as our transfer function.\n",
    "\n",
    "For this we're going to use the scipy function factory [`scipy.interpolate.interp1d`](https://docs.scipy.org/doc/scipy/reference/generated/scipy.interpolate.interp1d.html). With the input range x coordinates `bins` and the output y values from `cdf`, `interp1d` returns a function that: given an $x'$ in the input range returns the value $y'$ through interpolation. "
   ]
  },
  {
   "cell_type": "code",
   "execution_count": null,
   "metadata": {},
   "outputs": [],
   "source": [
    "func = interp1d(bins[:-1], cdf, fill_value='extrapolate') \n",
    "# 'extrapolate' is important here, otherwise a lot of out of bound errors."
   ]
  },
  {
   "cell_type": "code",
   "execution_count": null,
   "metadata": {},
   "outputs": [],
   "source": [
    "vis_pair(I_gauss, func(I_gauss), second_title='Hist Equalized')"
   ]
  },
  {
   "cell_type": "code",
   "execution_count": null,
   "metadata": {},
   "outputs": [],
   "source": [
    "arr_info(func(I_gauss))"
   ]
  },
  {
   "cell_type": "markdown",
   "metadata": {},
   "source": [
    "Clearly the CDF does a decent job here of improving the contrast from the original. There's also a bit of a matplotlib gotcha at work here: the histogram-equalized image is actually floating point in $[0,1]$. If we wanted to convert back to integer, we must remember to multiply by 256 before casting to `uint8`. \n",
    "\n",
    "As an aside: In that we have constructed `I_gauss` to be `uint8` type integer data, we don't actually need the `interp1d` we use above. A pixel value in `I_gauss` can serve perfectly well to simply index the `cdf` array. However the `interp1d` approach is generalizable to other kinds of image data, so I leave it here.\n",
    "\n",
    "Let's see what this did to our histogram. We'll plot together the original and equalized images' histograms to observe the difference directly. "
   ]
  },
  {
   "cell_type": "code",
   "execution_count": null,
   "metadata": {},
   "outputs": [],
   "source": [
    "# View the two histograms\n",
    "f, axarr = plt.subplots(1,1, figsize=(6, 3))\n",
    "\n",
    "funcI = func(I_gauss)\n",
    "\n",
    "axarr.hist(I_gauss.ravel(), bins=bins, alpha = .6, label = 'Original', color = 'r');\n",
    "axarr.hist(256*funcI.ravel(), bins=bins, alpha = .6, label = 'Equalized', color = 'g');\n",
    "axarr.legend(loc = 'upper right');\n",
    "plt.show()"
   ]
  },
  {
   "cell_type": "markdown",
   "metadata": {},
   "source": [
    "### Conclusion\n",
    "\n",
    "As you can see in this abstract example, histogram equalization is an ideal transfer function if the goal is to enhance the contrast in the image by making the histogram uniform, or as uniform as possible. \n",
    "\n",
    "And here we get to the end of a notebook without having seen the application to any \"real\" natural image the kind about which we humans are concerned. Oh well, I leave it to you. \n",
    "\n",
    "#### It's likely you can simply rename `I_gauss` and initialize it to `plt.imread(...)` for some image. Be careful when you do though, as treating all channels as one distribution, as we've done here, can lead to the warping of color. This doesn't have much of an effect in our example since the R,G,B channels all do come from the same Gaussian distribution. In natural images that's less likely. To address this, think of [alternative colorspaces](../Color/color_intro.ipynb)."
   ]
  },
  {
   "cell_type": "code",
   "execution_count": null,
   "metadata": {},
   "outputs": [],
   "source": []
  }
 ],
 "metadata": {
  "kernelspec": {
   "display_name": "Python 3 (ipykernel)",
   "language": "python",
   "name": "python3"
  },
  "language_info": {
   "codemirror_mode": {
    "name": "ipython",
    "version": 3
   },
   "file_extension": ".py",
   "mimetype": "text/x-python",
   "name": "python",
   "nbconvert_exporter": "python",
   "pygments_lexer": "ipython3",
   "version": "3.10.11"
  }
 },
 "nbformat": 4,
 "nbformat_minor": 4
}
