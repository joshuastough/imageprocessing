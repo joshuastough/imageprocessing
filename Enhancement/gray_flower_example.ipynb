{
 "cells": [
  {
   "cell_type": "markdown",
   "metadata": {},
   "source": [
    "# Showing interesting intensity transforms on an image.\n",
    "stough 202-\n",
    "\n",
    "Pretty much exactly from [DIP 3-3.2](https://www.imageprocessingplace.com/) from Gonzalez/Woods.\n",
    "\n",
    "Showing interesting transfer functions on a gray image of a flower.\n"
   ]
  },
  {
   "cell_type": "code",
   "execution_count": null,
   "metadata": {},
   "outputs": [],
   "source": [
    "%matplotlib widget\n",
    "import matplotlib.pyplot as plt\n",
    "import numpy as np\n",
    "import matplotlib.colors as mcolors\n",
    "import skimage.color as color\n",
    "from ipywidgets import VBox, HBox, FloatSlider\n",
    "\n",
    "# For importing from alternative directory sources\n",
    "import sys  \n",
    "sys.path.insert(0, '../dip_utils')\n",
    "\n",
    "from matrix_utils import arr_info\n",
    "from vis_utils import (vis_rgb_cube,\n",
    "                       vis_hists,\n",
    "                       vis_pair,\n",
    "                       lab_uniform)"
   ]
  },
  {
   "cell_type": "code",
   "execution_count": null,
   "metadata": {},
   "outputs": [],
   "source": [
    "I = plt.imread('../dip_pics/grayflower.jpg').astype(float)\n",
    "I = I - I.ravel().min()\n",
    "I = 255*(I/I.ravel().max())\n",
    "\n",
    "if (len(I.shape) > 2):\n",
    "    Ig = 0.2989 * I[..., 0] + 0.5870 * I[..., 1] + 0.1140 * I[..., 2]\n",
    "    I = Ig\n",
    "\n",
    "plt.figure(figsize=(5,4))\n",
    "plt.imshow(I, cmap = 'gray');"
   ]
  },
  {
   "cell_type": "code",
   "execution_count": null,
   "metadata": {},
   "outputs": [],
   "source": [
    "x = np.arange(256)\n",
    "\n",
    "# Let's add the linear (do nothing) transform.\n",
    "Ilin = I.copy()\n",
    "ylin = x.copy()\n",
    "\n",
    "\n",
    "#Compute and renormalize 4 transforms.\n",
    "Ilog = np.log2(I+1)\n",
    "ylog = np.log2(1+x)\n",
    "Ilog = Ilog/Ilog.ravel().max()\n",
    "ylog = 255*(ylog/ylog.max())\n",
    "\n",
    "\n",
    "Isqrt = np.sqrt(I)\n",
    "ysqrt = np.sqrt(x)\n",
    "Isqrt = Isqrt/Isqrt.ravel().max()\n",
    "ysqrt = 255*(ysqrt/ysqrt.max())\n",
    "\n",
    "Isquared = np.multiply(I, I)\n",
    "ysquared = np.multiply(x, x)\n",
    "Isquared = Isquared/Isquared.ravel().max()\n",
    "ysquared = 255*ysquared/ysquared.max()\n",
    "\n",
    "Iinv = 255.0-I\n",
    "yinv = 255-x\n",
    "\n",
    "#Now plot them. Mix the images though\n",
    "f, ax1 = plt.subplots(1,5, figsize = (10,2), sharex=True, sharey=True)\n",
    "ax1[0].set_title('linear')\n",
    "ax1[0].plot(x, ylin)\n",
    "ax1[1].set_title('log')\n",
    "ax1[1].plot(x, ylog)\n",
    "ax1[2].set_title('sqrt')\n",
    "ax1[2].plot(x, ysqrt)\n",
    "ax1[3].set_title('square')\n",
    "ax1[3].plot(x, ysquared)\n",
    "ax1[4].set_title('inv')\n",
    "ax1[4].plot(x, yinv)\n",
    "\n",
    "plt.tight_layout()\n",
    "\n",
    "f, ax2 = plt.subplots(1,5, figsize = (10,2), sharex=True, sharey=True)\n",
    "ax2[0].imshow(Ilin, cmap='gray')\n",
    "ax2[1].imshow(Ilog, cmap='gray')\n",
    "ax2[2].imshow(Isqrt, cmap='gray')\n",
    "ax2[3].imshow(Isquared, cmap='gray')\n",
    "ax2[4].imshow(Iinv, cmap='gray')\n",
    "\n",
    "[a.axes.get_xaxis().set_visible(False) for a in ax2];\n",
    "[a.axes.get_yaxis().set_visible(False) for a in ax2];\n",
    "plt.tight_layout()"
   ]
  },
  {
   "cell_type": "code",
   "execution_count": null,
   "metadata": {},
   "outputs": [],
   "source": []
  },
  {
   "cell_type": "code",
   "execution_count": null,
   "metadata": {},
   "outputs": [],
   "source": []
  }
 ],
 "metadata": {
  "kernelspec": {
   "display_name": "Python 3 (ipykernel)",
   "language": "python",
   "name": "python3"
  },
  "language_info": {
   "codemirror_mode": {
    "name": "ipython",
    "version": 3
   },
   "file_extension": ".py",
   "mimetype": "text/x-python",
   "name": "python",
   "nbconvert_exporter": "python",
   "pygments_lexer": "ipython3",
   "version": "3.10.11"
  }
 },
 "nbformat": 4,
 "nbformat_minor": 4
}
