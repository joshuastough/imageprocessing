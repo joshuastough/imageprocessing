{
 "cells": [
  {
   "cell_type": "markdown",
   "metadata": {},
   "source": [
    "# YCbCr - Y: Luminance; Cb: Chrominance-Blue; and Cr: Chrominance-Red Colorspace\n",
    "Stough, 202-\n",
    "\n",
    "- [skimage's color module](https://scikit-image.org/docs/dev/api/skimage.color.html)\n",
    "- [What is YCbCr?](https://en.wikipedia.org/wiki/YCbCr)\n",
    "- [Why YCbCr?](https://makarandtapaswi.wordpress.com/2009/07/20/why-the-rgb-to-ycbcr/)\n",
    "\n",
    "The YCBCr colorspace is also oriented around adjusting color according to human vision\n",
    "*perception* as opposed to mechanism (r-g-b stimulus).\n",
    "\n",
    "<img src=\"https://i.pinimg.com/originals/bf/2d/0e/bf2d0e090f386111cae1d8e06d4f0015.jpg\" style=\"width:auto;height:200px\"/> <img src=\"https://d3i71xaburhd42.cloudfront.net/03e0ea040482660aa7f4ef73b893d339b2700bbe/3-Figure2-1.png\" style=\"width:auto;height:200px\"/> \n",
    "<img src=\"https://upload.wikimedia.org/wikipedia/commons/thumb/3/34/YCbCr-CbCr_Scaled_Y50.png/600px-YCbCr-CbCr_Scaled_Y50.png\" style=\"width:auto;height:200px\"/> \n"
   ]
  },
  {
   "cell_type": "code",
   "execution_count": null,
   "metadata": {},
   "outputs": [],
   "source": [
    "%matplotlib widget\n",
    "import numpy as np\n",
    "import matplotlib.pyplot as plt\n",
    "import skimage.color as color\n",
    "import matplotlib.colors as mcolors\n",
    "\n",
    "# For importing from alternative directory sources\n",
    "import sys  \n",
    "sys.path.insert(0, '../dip_utils')\n",
    "\n",
    "from matrix_utils import arr_info\n",
    "from vis_utils import (vis_rgb_cube,\n",
    "                       vis_ybr_cube,\n",
    "                       vis_hists,\n",
    "                       lab_uniform)"
   ]
  },
  {
   "cell_type": "code",
   "execution_count": null,
   "metadata": {},
   "outputs": [],
   "source": [
    "IMAGE = 'mountainSpring.jpg'\n",
    "# IMAGE = 'peppers.png'\n",
    "\n",
    "# Let's construct our own colormaps\n",
    "cm_KR = mcolors.LinearSegmentedColormap.from_list('kr', [(0,0,0), (1, 0, 0)], 256)\n",
    "cm_KG = mcolors.LinearSegmentedColormap.from_list('kg', [(0,0,0), (0, 1, 0)], 256)\n",
    "cm_KB = mcolors.LinearSegmentedColormap.from_list('kb', [(0,0,0), (0, 0, 1)], 256)"
   ]
  },
  {
   "cell_type": "code",
   "execution_count": null,
   "metadata": {},
   "outputs": [],
   "source": [
    "Irgb = plt.imread('../dip_pics/' + IMAGE)\n",
    "\n",
    "# Image of uniform random distributed color\n",
    "# Irgb = np.random.random((100,100,3))"
   ]
  },
  {
   "cell_type": "markdown",
   "metadata": {},
   "source": [
    "&nbsp;\n",
    "\n",
    "## Cb and Cr colormaps\n",
    "I'm going to be careful here with the colormap to have a perceptually constant\n",
    "transition between yello and blue (Cb) and cyan and red (Cr). I don't want one side\n",
    "to be perceptually brighter than the other."
   ]
  },
  {
   "cell_type": "code",
   "execution_count": null,
   "metadata": {},
   "outputs": [],
   "source": [
    "# Let's construct our own colormaps for the a and b dimensions.\n",
    "# I'm going to be careful with my color,  \n",
    "colorsCb = [(.7, .7, 0), (.6,.6,1)]\n",
    "colorsCr = [(0, .7, .7), (1,.4,.4)]\n",
    "\n",
    "cmCb = mcolors.LinearSegmentedColormap.from_list('Cb', lab_uniform(colorsCb), 256)\n",
    "cmCr = mcolors.LinearSegmentedColormap.from_list('Cr', lab_uniform(colorsCr), 256)"
   ]
  },
  {
   "cell_type": "code",
   "execution_count": null,
   "metadata": {},
   "outputs": [],
   "source": [
    "f, ax = plt.subplots(3,3, figsize = (8,6), sharex=True, sharey=True, num = 'RGB vs YCbCr')\n",
    "\n",
    "Iybr = color.rgb2ycbcr(Irgb)\n",
    "\n",
    "# Row 0: just the full color image\n",
    "ax[0][1].imshow(Irgb)\n",
    "ax[0][0].set_axis_off()\n",
    "ax[0][2].set_axis_off()\n",
    "\n",
    "# Row 1: r g b channels\n",
    "for i in range(3):\n",
    "    ax[1,i].imshow(Irgb[...,i], cmap=[cm_KR, cm_KG, cm_KB][i])\n",
    "    ax[1,i].set_title(['Red', 'Green', 'Blue'][i])\n",
    "\n",
    "\n",
    "# Now to display the HSV space.\n",
    "\n",
    "ax[2,0].imshow(Iybr[...,0], cmap='gray')\n",
    "ax[2,0].set_title('Y')\n",
    "\n",
    "ax[2,1].imshow(Iybr[...,1], cmap=cmCb)\n",
    "ax[2,1].set_title('Cb - yellow->blue')\n",
    "\n",
    "ax[2,2].imshow(Iybr[...,2], cmap=cmCr)\n",
    "ax[2,2].set_title('Cr - cyan->red')\n",
    "\n",
    "plt.tight_layout()\n",
    "# f.canvas.set_window_title('RGB vs YCbCr')\n",
    "plt.show()"
   ]
  },
  {
   "cell_type": "markdown",
   "metadata": {},
   "source": [
    "&nbsp;\n",
    "\n",
    "## Let's visualize in 3D"
   ]
  },
  {
   "cell_type": "code",
   "execution_count": null,
   "metadata": {},
   "outputs": [],
   "source": [
    "vis_ybr_cube(Irgb)"
   ]
  },
  {
   "cell_type": "code",
   "execution_count": null,
   "metadata": {},
   "outputs": [],
   "source": [
    "vis_ybr_cube(np.random.random((100,100,3)))"
   ]
  },
  {
   "cell_type": "markdown",
   "metadata": {},
   "source": [
    "&nbsp;\n",
    "\n",
    "## View the Cb-Cr plane for various Y\n",
    "\n",
    "The visualization of the YCbCr space is a bit weird, because it looks just like the rgb color cube, but maybe\n",
    "rotated, translated, and stretched a little. So I'm trying here to visualize the CbCr plane for any luma Y. \n",
    "[skimage](https://scikit-image.org/docs/dev/api/skimage.color.html#skimage.color.rgb2ycbcr) notes that Y \n",
    "must be in 16-235. Also, when you transform back you could get out-of-range values for r,g,b. Normally these\n",
    "get clipped to show a CbCr plane like below, but a lot of that plane is invalid. So here, I'll show the whole \n",
    "(clipped to 0-1) plane and then also just the valid part (within the color cube). What we're doing here is taking slices\n",
    "orthogonal to the Luminance direction.\n",
    "\n",
    "<img src=\"https://d3i71xaburhd42.cloudfront.net/03e0ea040482660aa7f4ef73b893d339b2700bbe/3-Figure2-1.png\" style=\"width:auto;height:200px\"/>  <img src=\"https://upload.wikimedia.org/wikipedia/commons/thumb/3/34/YCbCr-CbCr_Scaled_Y50.png/600px-YCbCr-CbCr_Scaled_Y50.png\" style=\"width:auto;height:200px\"/> "
   ]
  },
  {
   "cell_type": "code",
   "execution_count": null,
   "metadata": {},
   "outputs": [],
   "source": [
    "def clipRGB(rgb):\n",
    "    toosmall = np.any(rgb<0, axis=2)\n",
    "    toobig = np.any(rgb>1, axis=2)\n",
    "    rgb[toobig | toosmall, :] = 0\n",
    "    return rgb"
   ]
  },
  {
   "cell_type": "code",
   "execution_count": null,
   "metadata": {},
   "outputs": [],
   "source": [
    "from ipywidgets import VBox, IntSlider\n",
    "\n",
    "plt.ioff()\n",
    "# plt.clf()\n",
    "\n",
    "y_slider = IntSlider(\n",
    "    orientation='horizontal',\n",
    "    value=150,\n",
    "    min=16,\n",
    "    max=235,\n",
    "    step=1,\n",
    "    description='Y (Lightness)'\n",
    ")\n",
    "\n",
    "\n",
    "# Initialize globals\n",
    "Cb, Cr = np.meshgrid(range(256), range(256), indexing='xy')\n",
    "ybr = np.stack([150*np.ones((256,256)), Cb[::-1,:], Cr[::-1,:]], axis=2)\n",
    "rgb = color.ycbcr2rgb(ybr)\n",
    "\n",
    "# Make figure.\n",
    "fig_args = {'num':' ', 'frameon':True, 'sharex':True, 'sharey':True}\n",
    "fig, ax = plt.subplots(1,2, figsize=(8,4), **fig_args) \n",
    "plt.tight_layout()\n",
    "\n",
    "\n",
    "# display artists\n",
    "ldisp = ax[0].imshow(np.clip(rgb,0,1))\n",
    "ax[0].set_title('CbCr plane')\n",
    "rdisp = ax[1].imshow(clipRGB(rgb))\n",
    "rtext = ax[1].set_title(f'Valid at Y {150:03d}')\n",
    "\n",
    "# Update function.\n",
    "def update_image(change):\n",
    "    global ybr, rgb, ldisp, rdisp, rtext\n",
    "    \n",
    "    ybr = np.stack([change.new*np.ones((256,256)), Cb[::-1,:], Cr[::-1,:]], axis=2)\n",
    "    rgb = color.ycbcr2rgb(ybr)\n",
    "    \n",
    "    ldisp.set_array(np.clip(rgb,0,1))\n",
    "    rdisp.set_array(clipRGB(rgb))\n",
    "    rtext.set_text(f'Valid at Y {change.new:03d}')\n",
    "    fig.canvas.draw()\n",
    "    fig.canvas.flush_events()\n",
    "\n",
    "y_slider.observe(update_image, names='value')\n",
    "\n",
    "VBox([y_slider, fig.canvas])"
   ]
  },
  {
   "cell_type": "code",
   "execution_count": null,
   "metadata": {},
   "outputs": [],
   "source": []
  }
 ],
 "metadata": {
  "kernelspec": {
   "display_name": "Python 3 (ipykernel)",
   "language": "python",
   "name": "python3"
  },
  "language_info": {
   "codemirror_mode": {
    "name": "ipython",
    "version": 3
   },
   "file_extension": ".py",
   "mimetype": "text/x-python",
   "name": "python",
   "nbconvert_exporter": "python",
   "pygments_lexer": "ipython3",
   "version": "3.10.11"
  }
 },
 "nbformat": 4,
 "nbformat_minor": 4
}
