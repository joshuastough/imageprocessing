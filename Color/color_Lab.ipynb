{
 "cells": [
  {
   "cell_type": "markdown",
   "metadata": {},
   "source": [
    "# LAB - Luminance, a (green-red), b (blue-yellow) colorspace\n",
    "Stough, DIP\n",
    "\n",
    "- [skimage's color module](https://scikit-image.org/docs/dev/api/skimage.color.html)\n",
    "- [What is L*a*b*?](https://en.wikipedia.org/wiki/CIELAB_color_space)\n",
    "- [More on L*a*b*](https://www.xrite.com/blog/lab-color-space)\n",
    "- [Why Lab?](https://graphicdesign.stackexchange.com/questions/76824/what-are-the-pros-and-cons-of-using-lab-color)\n",
    "\n",
    "The Lab colorspace is also oriented around adjusting color according to human vision\n",
    "*perception* as opposed to mechanism (r-g-b stimulus).\n",
    "\n",
    "<img src=\"https://i.pinimg.com/originals/bf/2d/0e/bf2d0e090f386111cae1d8e06d4f0015.jpg\" style=\"width:auto;height:200px\"/> <img src=\"http://colorapplications.com/wp-content/uploads/2018/09/3D-LAB-300x300.jpg\" style=\"width:auto;height:200px\"/>  <img src=\"../dip_figs/CIELAB_color_space_top_view.png\" style=\"width:auto;height:200px\"/> "
   ]
  },
  {
   "cell_type": "code",
   "execution_count": null,
   "metadata": {},
   "outputs": [],
   "source": [
    "%matplotlib widget\n",
    "import matplotlib.pyplot as plt\n",
    "import numpy as np\n",
    "import skimage.color as color\n",
    "import matplotlib.colors as mcolors\n",
    "\n",
    "# For importing from alternative directory sources\n",
    "import sys  \n",
    "sys.path.insert(0, '../dip_utils')\n",
    "\n",
    "import matrix_utils\n",
    "from vis_utils import (vis_lab_cube,\n",
    "                       vis_hists,\n",
    "                       lab_uniform)"
   ]
  },
  {
   "cell_type": "code",
   "execution_count": null,
   "metadata": {},
   "outputs": [],
   "source": [
    "IMAGE = 'mountainSpring.jpg'\n",
    "# IMAGE = 'peppers.png'\n",
    "\n",
    "# Let's construct our own colormaps\n",
    "cm_KR = mcolors.LinearSegmentedColormap.from_list('kr', [(0,0,0), (1, 0, 0)], 256)\n",
    "cm_KG = mcolors.LinearSegmentedColormap.from_list('kg', [(0,0,0), (0, 1, 0)], 256)\n",
    "cm_KB = mcolors.LinearSegmentedColormap.from_list('kb', [(0,0,0), (0, 0, 1)], 256)"
   ]
  },
  {
   "cell_type": "code",
   "execution_count": null,
   "metadata": {},
   "outputs": [],
   "source": [
    "Irgb = plt.imread('../dip_pics/' + IMAGE)\n",
    "\n",
    "# Image of uniform random distributed color\n",
    "# Irgb = np.random.random((100,100,3))"
   ]
  },
  {
   "cell_type": "code",
   "execution_count": null,
   "metadata": {},
   "outputs": [],
   "source": [
    "# Let's construct our own colormaps for the a and b dimensions.\n",
    "colorsA = [(0,1,0), (.5,.5,.5), (1,0,0)] # green -> red\n",
    "colorsB = [(0,0,1), (.5,.5,.5), (1,1,0)] # blue -> yellow\n",
    "\n",
    "cmA = mcolors.LinearSegmentedColormap.from_list('GreenRed', lab_uniform(colorsA), 256)\n",
    "cmB = mcolors.LinearSegmentedColormap.from_list('BlueYellow', lab_uniform(colorsB), 256)"
   ]
  },
  {
   "cell_type": "code",
   "execution_count": null,
   "metadata": {},
   "outputs": [],
   "source": [
    "f, ax = plt.subplots(3,3, figsize = (8,6), sharex=True, sharey=True, num='RGB vs L*a*b*')\n",
    "\n",
    "Ilab = color.rgb2lab(Irgb)\n",
    "\n",
    "# Row 0: just the full color image\n",
    "ax[0][1].imshow(Irgb)\n",
    "ax[0][0].set_axis_off()\n",
    "ax[0][2].set_axis_off()\n",
    "\n",
    "# Row 1: r g b channels\n",
    "for i in range(3):\n",
    "    ax[1,i].imshow(Irgb[...,i], cmap=[cm_KR, cm_KG, cm_KB][i])\n",
    "    ax[1,i].set_title(['Red', 'Green', 'Blue'][i])\n",
    "\n",
    "\n",
    "# Now to display the HSV space.\n",
    "\n",
    "ax[2,0].imshow(Ilab[...,0], cmap='gray')\n",
    "ax[2,0].set_title('L')\n",
    "\n",
    "ax[2,1].imshow(Ilab[...,1], cmap=cmA)\n",
    "ax[2,1].set_title('a - green->red')\n",
    "\n",
    "ax[2,2].imshow(Ilab[...,2], cmap=cmB)\n",
    "ax[2,2].set_title('b - blue->yellow')\n",
    "\n",
    "plt.tight_layout()\n",
    "# These attempts for figure title may no longer be supported.\n",
    "# f.canvas.set_window_title('RGB vs L*a*b*')\n",
    "# f.suptitle('RGB vs L*a*b*')\n",
    "plt.show()"
   ]
  },
  {
   "cell_type": "markdown",
   "metadata": {},
   "source": [
    "&nbsp;\n",
    "\n",
    "## Let's visualize in 3D"
   ]
  },
  {
   "cell_type": "code",
   "execution_count": null,
   "metadata": {},
   "outputs": [],
   "source": [
    "vis_lab_cube(Irgb)"
   ]
  },
  {
   "cell_type": "code",
   "execution_count": null,
   "metadata": {},
   "outputs": [],
   "source": [
    "vis_lab_cube(np.random.random((100,100,3)))"
   ]
  },
  {
   "cell_type": "code",
   "execution_count": null,
   "metadata": {},
   "outputs": [],
   "source": []
  }
 ],
 "metadata": {
  "kernelspec": {
   "display_name": "Python 3 (ipykernel)",
   "language": "python",
   "name": "python3"
  },
  "language_info": {
   "codemirror_mode": {
    "name": "ipython",
    "version": 3
   },
   "file_extension": ".py",
   "mimetype": "text/x-python",
   "name": "python",
   "nbconvert_exporter": "python",
   "pygments_lexer": "ipython3",
   "version": "3.10.11"
  }
 },
 "nbformat": 4,
 "nbformat_minor": 4
}
