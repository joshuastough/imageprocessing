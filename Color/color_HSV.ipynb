{
 "cells": [
  {
   "cell_type": "markdown",
   "metadata": {},
   "source": [
    "# HSV - Hue, Saturation, Value Colorspace\n",
    "Stough, 202-\n",
    "\n",
    "- [skimage's color module](https://scikit-image.org/docs/dev/api/skimage.color.html)\n",
    "- [What is HSV?](https://en.wikipedia.org/wiki/HSL_and_HSV)\n",
    "- [Why HSV?](https://dsp.stackexchange.com/questions/2687/why-do-we-use-the-hsv-colour-space-so-often-in-vision-and-image-processing)\n",
    "\n",
    "The HSV and closely related HSL colorspaces are ways of considering 'color' that \n",
    "separate the brightness of a color from its tone and purity. This is useful because we\n",
    "as humans are highly atuned to *brightness changes* in our perception. So if the RGB space speaks\n",
    "to the mechanism by which we receive a color stimulus--activation of red, green, and \n",
    "blue-centered cones--then the HSV speaks more to how we *perceive* or speak about color.\n",
    "\n",
    "<img src=\"../dip_figs/rgb_hsv_diagram.jpeg\" style=\"width:500px;height:200px\"/> <img src=\"../dip_figs/hsl_cylinder.png\" style=\"width:250px;height:200px\"/>"
   ]
  },
  {
   "cell_type": "code",
   "execution_count": null,
   "metadata": {},
   "outputs": [],
   "source": [
    "%matplotlib widget\n",
    "import matplotlib.pyplot as plt\n",
    "import numpy as np\n",
    "import matplotlib.colors as mcolors\n",
    "import skimage.color as color\n",
    "from ipywidgets import VBox, HBox, FloatSlider\n",
    "\n",
    "# For importing from alternative directory sources\n",
    "import sys  \n",
    "sys.path.insert(0, '../dip_utils')\n",
    "\n",
    "from matrix_utils import arr_info\n",
    "from vis_utils import (vis_rgb_cube,\n",
    "                       vis_hsv_cube,\n",
    "                       vis_hists,\n",
    "                       lab_uniform)"
   ]
  },
  {
   "cell_type": "markdown",
   "metadata": {},
   "source": [
    "## Viewing the planes of the HSV space.\n",
    "Here I'll make a little interactive plot on the HSV space for various saturation, thanks to HYRY's [stackoverflow answer](https://stackoverflow.com/questions/10787103/2d-hsv-color-space-in-matplotlib). We first stack together an HSV image, then convert to RGB so that we can display it.\n",
    "\n",
    "There is a bit of a problem with these demos. The `plt.ioff()` and `plt.ion()` are required to avoid duplication of plots when putting together an interactive demo. `plt.close()` is used to make sure those plots don't regenerate later in the notebook. "
   ]
  },
  {
   "cell_type": "code",
   "execution_count": null,
   "metadata": {},
   "outputs": [],
   "source": [
    "def changeSat(HSV, newvalue=1.0):\n",
    "    H, S, V = np.split(HSV, indices_or_sections=3, axis=-1)\n",
    "    S = newvalue*np.ones_like(V)\n",
    "    HSV = np.dstack((H,S,V))\n",
    "    return color.hsv2rgb(HSV)"
   ]
  },
  {
   "cell_type": "code",
   "execution_count": null,
   "metadata": {},
   "outputs": [],
   "source": [
    "plt.ioff()\n",
    "# plt.clf()\n",
    "\n",
    "# Set up the initial display\n",
    "V, H = np.mgrid[0:1:100j, 0:1:360j]\n",
    "S = np.ones_like(V)\n",
    "HSV = np.dstack((H,S,V))\n",
    "RGB = color.hsv2rgb(HSV)\n",
    "\n",
    "\n",
    "# A slider to set the saturation.\n",
    "sat_slider = FloatSlider(\n",
    "    orientation='horizontal',\n",
    "    value=1.0,\n",
    "    min=0.00,\n",
    "    max=1.00,\n",
    "    step=0.01,\n",
    "    description='$S_{HSV}$'\n",
    ")\n",
    "\n",
    "# Setting up the figure.\n",
    "fig_args = {'num':1, 'frameon':True}\n",
    "fig, ax = plt.subplots(1,1, figsize=(6,3), **fig_args)\n",
    "fig.canvas.header_visible = False\n",
    "\n",
    "thedisp = ax.imshow(RGB, origin='lower', extent=[0, 360, 0, 1], aspect=150)\n",
    "plt.xlabel('H') # These don't need to change\n",
    "plt.ylabel('V')\n",
    "thetext = ax.set_title('$S_{HSV}=1$')\n",
    "plt.tight_layout()\n",
    "\n",
    "def update_image(change):\n",
    "    global thedisp, thetext, HSV\n",
    "    \n",
    "    I_rgb = changeSat(HSV, change.new)\n",
    "    thedisp.set_array(I_rgb)\n",
    "    thetext.set_text(f'$S_{{HSV}}$={change.new:.02f}')\n",
    "    fig.canvas.draw()\n",
    "    fig.canvas.flush_events()\n",
    "\n",
    "sat_slider.observe(update_image, names='value')\n",
    "\n",
    "VBox([sat_slider, fig.canvas])\n"
   ]
  },
  {
   "cell_type": "code",
   "execution_count": null,
   "metadata": {},
   "outputs": [],
   "source": [
    "# Close the above interactive demo figure, so that it won't appear later.\n",
    "plt.close(1)"
   ]
  },
  {
   "cell_type": "markdown",
   "metadata": {},
   "source": [
    "## Viewing an image as RGB and HSV for comparison"
   ]
  },
  {
   "cell_type": "code",
   "execution_count": null,
   "metadata": {},
   "outputs": [],
   "source": [
    "IMAGE = 'mountainSpring.jpg'\n",
    "# IMAGE = 'peppers.png'\n",
    "# IMAGE = 'blueridge.jpg'\n",
    "\n",
    "# Let's construct our own colormaps\n",
    "cm_KR = mcolors.LinearSegmentedColormap.from_list('kr', [(0,0,0), (1, 0, 0)], 256)\n",
    "cm_KG = mcolors.LinearSegmentedColormap.from_list('kg', [(0,0,0), (0, 1, 0)], 256)\n",
    "cm_KB = mcolors.LinearSegmentedColormap.from_list('kb', [(0,0,0), (0, 0, 1)], 256)"
   ]
  },
  {
   "cell_type": "code",
   "execution_count": null,
   "metadata": {},
   "outputs": [],
   "source": [
    "Irgb = plt.imread('../dip_pics/' + IMAGE)\n",
    "\n",
    "# Image of uniform random distributed color\n",
    "# Irgb = np.random.random((100,100,3))"
   ]
  },
  {
   "cell_type": "code",
   "execution_count": null,
   "metadata": {},
   "outputs": [],
   "source": [
    "# plt.clf()\n",
    "plt.ion()\n",
    "\n",
    "f, ax = plt.subplots(3,3, figsize = (8,6), sharex=True, sharey=True, num='RGB vs HSV')\n",
    "\n",
    "Ihsv = color.rgb2hsv(Irgb)\n",
    "\n",
    "# Row 0: just the full color image\n",
    "ax[0][1].imshow(Irgb)\n",
    "ax[0][0].set_axis_off()\n",
    "ax[0][2].set_axis_off()\n",
    "\n",
    "# Row 1: r g b channels\n",
    "for i in range(3):\n",
    "    ax[1,i].imshow(Irgb[...,i], cmap=[cm_KR, cm_KG, cm_KB][i])\n",
    "    ax[1,i].set_title(['Red', 'Green', 'Blue'][i])\n",
    "\n",
    "\n",
    "# Now to display the HSV space.\n",
    "\n",
    "cmapNameHue = 'myHue'\n",
    "colorsH = [(.7,0,0), (.5,.5,0), (0,.7,0), (0,.5,.5), (0,0,.7), (.5, 0, .5), (.7, 0, 0)]\n",
    "cmHue = mcolors.LinearSegmentedColormap.from_list(cmapNameHue, lab_uniform(colorsH), 256)\n",
    "\n",
    "\n",
    "ax[2,0].imshow(Ihsv[...,0], cmap=cmHue)\n",
    "ax[2,0].set_title('H')\n",
    "\n",
    "ax[2,1].imshow(Ihsv[...,1], cmap='gray')\n",
    "ax[2,1].set_title('S')\n",
    "\n",
    "ax[2,2].imshow(Ihsv[...,2], cmap='gray')\n",
    "ax[2,2].set_title('V')\n",
    "\n",
    "plt.tight_layout()\n",
    "# These attempts for figure title may no longer be supported.\n",
    "# f.canvas.set_window_title('RGB vs HSV')\n",
    "# f.suptitle('RGB vs HSV')\n",
    "plt.show()"
   ]
  },
  {
   "cell_type": "code",
   "execution_count": null,
   "metadata": {},
   "outputs": [],
   "source": [
    "arr_info(Ihsv)"
   ]
  },
  {
   "cell_type": "markdown",
   "metadata": {},
   "source": [
    "&nbsp;\n",
    "\n",
    "## Let's visualize in 3D\n",
    "\n",
    "Given the HSV graph above, The Hue and Saturation can be seen in polar coordinates, with Hue as the angle $\\theta$ and Saturation as the radius $R$ in. The Value coordinate (brightness) is the Z. Easy. So then, how to [plot in polar coords](https://matplotlib.org/3.1.0/gallery/mplot3d/surface3d_radial.html)? We've provided a nice library method [vis_hsv_cube](../dip_utils/vis_utils.py) for just this. Read the link and understand the code."
   ]
  },
  {
   "cell_type": "code",
   "execution_count": null,
   "metadata": {},
   "outputs": [],
   "source": [
    "vis_hsv_cube(Irgb)"
   ]
  },
  {
   "cell_type": "markdown",
   "metadata": {},
   "source": [
    "&nbsp;\n",
    "\n",
    "## Problem: Manipulating the HSV components of an image...\n",
    "In the below interactive visualization we can manipulate the hue of an image. Try to complete the application by adding saturation and value sliders to this image manipulation tool.\n",
    "\n",
    "Thanks XKCD:\n",
    "\n",
    "<a href=\"https://xkcd.com/648/\"><img src=\"https://imgs.xkcd.com/comics/fall_foliage.png\" style=\"height:300px\"/></a>\n"
   ]
  },
  {
   "cell_type": "code",
   "execution_count": null,
   "metadata": {},
   "outputs": [],
   "source": [
    "# I like this image more \n",
    "Irgb = plt.imread('../dip_pics/blueridge.jpg')\n",
    "Ihsv = color.rgb2hsv(Irgb)"
   ]
  },
  {
   "cell_type": "code",
   "execution_count": null,
   "metadata": {},
   "outputs": [],
   "source": [
    "def changeHue(newhue):\n",
    "    global Ihsv\n",
    "    change = newhue - Ihsv[...,0].mean()\n",
    "    \n",
    "    Ic = Ihsv.copy()\n",
    "    Ic[...,0] = np.fmod(Ic[...,0]+change, 1) # anything > 1 wraps around 0.\n",
    "    \n",
    "    return np.clip(Ic, 0, 1)"
   ]
  },
  {
   "cell_type": "code",
   "execution_count": null,
   "metadata": {},
   "outputs": [],
   "source": [
    "plt.ioff()\n",
    "# plt.clf()\n",
    "\n",
    "hue_mean = Ihsv[...,0].mean()\n",
    "\n",
    "hue_slider = FloatSlider(\n",
    "    orientation='horizontal',\n",
    "    value=hue_mean,\n",
    "    min=0.00,\n",
    "    max=1.00,\n",
    "    step=0.01,\n",
    "    description='Hue'\n",
    ")\n",
    "\n",
    "fig_args = {'num':' ', 'frameon':True, 'sharex':True, 'sharey':True}\n",
    "fig, ax = plt.subplots(1,2, figsize=(8,3), **fig_args) \n",
    "\n",
    "I_h = changeHue(hue_mean)\n",
    "I_rgb = color.hsv2rgb(I_h)\n",
    "\n",
    "# display artists I'll update\n",
    "adisp = ax[0].imshow(Irgb)\n",
    "rdisp = ax[1].imshow(I_rgb)\n",
    "\n",
    "ax[0].set_title(f'Original ({hue_mean:.03f})')\n",
    "rtext = ax[1].set_title(f'Hue: {hue_mean:.03f}')\n",
    "\n",
    "\n",
    "def update_image(change):\n",
    "    global Ihsv, I_h, adisp, rdisp, rtext\n",
    "    \n",
    "    I_rgb = color.hsv2rgb(changeHue(change.new)) \n",
    "    rdisp.set_array(I_rgb)\n",
    "    rtext.set_text(f'Hue: {change.new:.03f}') #hue_slider.value\n",
    "    fig.canvas.draw()\n",
    "    fig.canvas.flush_events()\n",
    "\n",
    "hue_slider.observe(update_image, names='value')\n",
    "\n",
    "plt.tight_layout()\n",
    "\n",
    "VBox([hue_slider, fig.canvas])"
   ]
  },
  {
   "cell_type": "code",
   "execution_count": null,
   "metadata": {},
   "outputs": [],
   "source": []
  }
 ],
 "metadata": {
  "kernelspec": {
   "display_name": "Python 3 (ipykernel)",
   "language": "python",
   "name": "python3"
  },
  "language_info": {
   "codemirror_mode": {
    "name": "ipython",
    "version": 3
   },
   "file_extension": ".py",
   "mimetype": "text/x-python",
   "name": "python",
   "nbconvert_exporter": "python",
   "pygments_lexer": "ipython3",
   "version": "3.10.11"
  }
 },
 "nbformat": 4,
 "nbformat_minor": 4
}
