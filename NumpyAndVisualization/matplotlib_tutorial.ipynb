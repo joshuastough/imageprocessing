{
 "cells": [
  {
   "cell_type": "markdown",
   "metadata": {},
   "source": [
    "# [Matplotlib](https://matplotlib.org/) Tutorial\n",
    "stough, 202-\n",
    "\n",
    "[Matplotlib](https://matplotlib.org/) is a highly customizable visualization toolkit for Python. So highly customizable in terms of fonts, interactivity, and animations that we cannot possibly cover it in a short notebook like this. For more complete coverage and documentation you should definitely look to the [matplotlib tutorials](https://matplotlib.org/tutorials/index.html) online. \n",
    "\n",
    "As we use matplotlib constantly and in different ways throughout image processing, most of these usage cases shall be left to the moment we need them. This notebook is meant only to serve as an introduction with more explication.\n",
    "\n",
    "1. [Loading and Displaying Images](#load_display)\n",
    "1. [Plotting Image-Derived Information](#plot_info)\n",
    "  1. [Histograms](#histograms)\n",
    "  1. [3D plotting](#3d_plotting)"
   ]
  },
  {
   "cell_type": "markdown",
   "metadata": {},
   "source": [
    "## Imports\n",
    "\n",
    "- The [`%matplotlib widget` magic command](https://ipython.readthedocs.io/en/stable/interactive/magics.html#magic-matplotlib) starts up the matplotlib visualization package for interactive plotting capability through [ipympl](https://github.com/matplotlib/ipympl). We'll be using `widget` usually. Alternatives include `inline` for static figures (can be very useful to debug) and `notebook` if we were using classic Jupyter Notebook.\n",
    "- The business with `sys.path.insert` is to allow us to import modules from our utility directory (read more [here](https://stackoverflow.com/questions/49264194/import-py-file-in-another-directory-in-jupyter-notebook))."
   ]
  },
  {
   "cell_type": "code",
   "execution_count": null,
   "metadata": {},
   "outputs": [],
   "source": [
    "%matplotlib widget\n",
    "import matplotlib.pyplot as plt\n",
    "import numpy as np\n",
    "\n",
    "# For importing from alternative directory sources\n",
    "import sys  \n",
    "sys.path.insert(0, '../dip_utils')\n",
    "\n",
    "import matrix_utils"
   ]
  },
  {
   "cell_type": "markdown",
   "metadata": {},
   "source": [
    "<a id='load_display'></a>\n",
    "## Loading and Displaying Images\n",
    "We can use matplotlib's [`pyplot.imread`](https://matplotlib.org/3.3.3/api/_as_gen/matplotlib.pyplot.imread.html) to load images from our file system or even a URL. If successful, the function returns a numpy array (or really `ndarray`). To test here, we'll read in one of our book photos."
   ]
  },
  {
   "cell_type": "code",
   "execution_count": null,
   "metadata": {},
   "outputs": [],
   "source": [
    "I = plt.imread('../dip_pics/cat_small.png')"
   ]
  },
  {
   "cell_type": "code",
   "execution_count": null,
   "metadata": {},
   "outputs": [],
   "source": [
    "type(I)"
   ]
  },
  {
   "cell_type": "code",
   "execution_count": null,
   "metadata": {},
   "outputs": [],
   "source": [
    "matrix_utils.arr_info(I)"
   ]
  },
  {
   "cell_type": "markdown",
   "metadata": {},
   "source": [
    "Using our `arr_info` utility, we can see that the result is a 512x512x4 matrix of floating point numbers in the range [0,1]. The 512x512 represents the image space, while the x4 means there are four *channels* in this image. Normally, these four channels represent red, green, blue, and *alpha*, or opacity. In this case alpha is all 1, which means no transparency. \n",
    "\n",
    "To view the image we'll use the [`pyplot.imshow`](https://matplotlib.org/3.3.3/api/_as_gen/matplotlib.pyplot.imshow.html) function. If we're making multiple plots in a single notebook (usually the case), we'll also want to instantiate a figure in which to do the plotting, using [`pyplot.figure`](https://matplotlib.org/3.3.3/api/_as_gen/matplotlib.pyplot.figure.html)."
   ]
  },
  {
   "cell_type": "code",
   "execution_count": null,
   "metadata": {},
   "outputs": [],
   "source": [
    "plt.figure(figsize=(4,4))\n",
    "plt.imshow(I) # add semicolon ; to silense the printed output."
   ]
  },
  {
   "cell_type": "markdown",
   "metadata": {},
   "source": [
    "Play with the interactively plotted image above. You should be able to resize it (lower-right corner) or zoom into a particular area (little square button), or a number of other interactions all through click-and-drag.\n",
    "\n",
    "**Important**\n",
    "\n",
    "Copying from the [`pyplot.imshow`](https://matplotlib.org/3.3.3/api/_as_gen/matplotlib.pyplot.imshow.html) documentation, the image data array *must* be one of the following:\n",
    "```\n",
    "- (M, N): an image with scalar data. The data is visualized using a colormap.\n",
    "- (M, N, 3): an image with RGB values (0-1 float or 0-255 int).\n",
    "- (M, N, 4): an image with RGBA values (0-1 float or 0-255 int), i.e. including transparency.\n",
    "```\n",
    "\n",
    "To be specific, floating point pixel values outside of [0,1] may lead to an error, and integer pixel values outside the [0,255] range may be clipped or else even cast (e.g., a pixel value of 256 might be interpretted as 0, wrapping around the [0,255] range), leading to screwy output. So use that `arr_info` function often.\n",
    "\n",
    "\n",
    "The image matrix `I` has three color channels. Each pixel color is actually represented by three color stimuli in red, green, and blue. While we discuss this in more detail elsewhere, for now you can think of `I` as really a red image, green image, and blue image all pasted together. For the purposes of showing off matplotlib, we'll display these three separate images."
   ]
  },
  {
   "cell_type": "code",
   "execution_count": null,
   "metadata": {},
   "outputs": [],
   "source": [
    "f, ax = plt.subplots(1,3,figsize=(7,2))\n",
    "ax[0].imshow(I[...,0], cmap='Reds') # White to deep red.\n",
    "ax[1].imshow(I[...,1], cmap='Greens')\n",
    "ax[2].imshow(I[...,2], cmap='Blues')"
   ]
  },
  {
   "cell_type": "markdown",
   "metadata": {},
   "source": [
    "As you can see, we used [`subplots`](https://matplotlib.org/3.3.3/api/_as_gen/matplotlib.pyplot.subplots.html) to create a figure with a one-by-three grid of axes, which is then returned as a list. We then call each axis' [`imshow`](https://matplotlib.org/3.3.3/api/_as_gen/matplotlib.axes.Axes.imshow.html) method to plot a different channel of the image. Some notes:\n",
    "- `figsize` is in width by height as a tuple, and would be in inches only if all the other non-Python elements of the display pipeline are calibrated appropriately. This is a parameter you'll likely have to play with.\n",
    "- There are scores of [colormaps](https://matplotlib.org/tutorials/colors/colormaps.html) available to you through the `cmap` parameter. Choosing which colormap might be appropriate is a much larger discussion that we leave for later.\n",
    "- The coordinate system shown for each axis has the origin **(0,0) at the upper left corner**. This is the matrix or image coordinate system, in contrast to the spatial system you have perhaps internalized, with the origin in the lower left. The difference between the `ij` and `xy` systems can be important when you plot multiple data sources (images and non-image data, like points) on the same axis.   \n",
    "- Every time you execute the above cell, you generate a *new* figure. Even though the old ones become inaccessible, the active python kernel is keeping track of them. Execute the cell too many times and you will receive a warning about potential memory usage. This is not usually a problem, but be sure not to put `plt.figure()` into large loop unless you're sure that's what you want."
   ]
  },
  {
   "cell_type": "code",
   "execution_count": null,
   "metadata": {},
   "outputs": [],
   "source": [
    "f, ax = plt.subplots(1,4,figsize=(8,2), sharex=True, sharey=True)\n",
    "ax[0].imshow(I)\n",
    "ax[0].set_title('image')\n",
    "ax[1].imshow(I[...,0], cmap='Reds_r') # black to red colormap\n",
    "ax[1].set_title('red channel')\n",
    "ax[2].imshow(I[...,1], cmap='Greens_r')\n",
    "ax[2].set_title('green')\n",
    "ax[3].imshow(I[...,2], cmap='Blues_r')\n",
    "ax[3].set_title('blue')\n",
    "\n",
    "[a.axes.get_xaxis().set_visible(False) for a in ax];\n",
    "[a.axes.get_yaxis().set_visible(False) for a in ax];\n",
    "\n",
    "plt.tight_layout()"
   ]
  },
  {
   "cell_type": "markdown",
   "metadata": {},
   "source": [
    "In the above cell I add several additional pieces for better visualization. \n",
    "- Setting `sharex` and `sharey` allow us to zoom and interact with all subplots identically. Give it a shot, it can be quite useful for viewing regions that in the original display might be too small to observe. For example, if you zoom into an area of orange, you might note the constituent red > green > blue. \n",
    "- I've changed the colormaps used from the ones in the previous figure. I thought a colormap that would make the cat's eyes dark would appear a little more natural. Again, read more about [colormaps](https://matplotlib.org/tutorials/colors/colormaps.html).\n",
    "- Image values are shown at the bottom of the figure as you mouse over. Note that the original image, shown in the left-most axis, has all four channels listed.\n",
    "- I've added titles to each axis using the [`set_title`](https://matplotlib.org/api/_as_gen/matplotlib.axes.Axes.set_title.html) method. Highly recommended to communicate to the reader.\n",
    "- I removed the axis markings, which allows more space for the image content I'm trying to display. Try commenting out the lines that begin `[a.axes.get_...` and execute the cell again to see the difference.\n",
    "- [`tight_layout`](https://matplotlib.org/api/tight_layout_api.html) reduces padding between axes, giving even more space for content. Try commenting out the line and re-executing to see the difference. "
   ]
  },
  {
   "cell_type": "markdown",
   "metadata": {},
   "source": [
    "<a id='plot_info'></a>\n",
    "## Plotting Image-derived Information"
   ]
  },
  {
   "cell_type": "markdown",
   "metadata": {},
   "source": [
    "Maplotlib isn't only about plotting image data of course. Sometimes you want to plot data *about the images*! While there are any number of ways to look at imaging data, two that we will regularly use are histograms and a color box. While both methods throw away important spatial relationships between pixels, they still turn out to be useful, especially as we consider color and contrast enhancements. \n",
    "\n",
    "Let's take a look at histograms first. For fun we'll use a different image."
   ]
  },
  {
   "cell_type": "code",
   "execution_count": null,
   "metadata": {},
   "outputs": [],
   "source": [
    "J = plt.imread('../dip_pics/sf.jpg')\n",
    "matrix_utils.arr_info(J)"
   ]
  },
  {
   "cell_type": "markdown",
   "metadata": {},
   "source": [
    "`arr_info` tells us this image is different from the previous. First, it only has three channels, again for the red/green/blue colors but missing the alpha/transparency channel that `I` had. Second, the pixels are not floating point values anymore, but rather 8-bit unsigned integer. Lastly, we can also see that the pixel values cover the entire possible 8-bit range, [0,255]. Well, let's take a look..."
   ]
  },
  {
   "cell_type": "code",
   "execution_count": null,
   "metadata": {},
   "outputs": [],
   "source": [
    "plt.figure(figsize=(4,3))\n",
    "plt.imshow(J); # semicolon ; to suppress text display"
   ]
  },
  {
   "cell_type": "markdown",
   "metadata": {},
   "source": [
    "As you mouse over the image above you can see the x and y location of the mouse in the image space, along with the `[red, green, blue]` values of the pixel at that location."
   ]
  },
  {
   "cell_type": "markdown",
   "metadata": {},
   "source": [
    "<a id='histograms'></a>\n",
    "### Histograms\n",
    "\n",
    "Pyplot has its own histogramming function [`pyplot.hist`](https://matplotlib.org/3.3.3/api/_as_gen/matplotlib.pyplot.hist.html) that can return histogram data (bin counts, bins, and underlying visual objects if needed) and display that histogram at the same time. [`numpy.histogram`](https://numpy.org/doc/stable/reference/generated/numpy.histogram.html) can also be used if needed."
   ]
  },
  {
   "cell_type": "code",
   "execution_count": null,
   "metadata": {},
   "outputs": [],
   "source": [
    "plt.figure(figsize=(5,3))\n",
    "n, allbins, _ = plt.hist(J.ravel(), bins=np.arange(257))\n",
    "plt.title(\"Overall Histogram\");"
   ]
  },
  {
   "cell_type": "markdown",
   "metadata": {},
   "source": [
    "In the above I call [`ravel`](https://numpy.org/doc/stable/reference/generated/numpy.ravel.html) to give a 1D representation of the image data to `hist`. By the way, [`flatten`](`https://numpy.org/doc/stable/reference/generated/numpy.ndarray.flatten.html) would do the same thing while also making a copy of the data, unneeded here. \n",
    "\n",
    "I also told `hist` what the bins should be through the `bins` argument. `np.arange(257)` returns an array of the sequence [0,...,256]. Even though the value 256 never shows up in the image, the [`pyplot.hist`](https://matplotlib.org/3.3.3/api/_as_gen/matplotlib.pyplot.hist.html) documentation notes that we must include the \"left edge of the first bin and the right edge of the last bin\" in our sequence argument. \n",
    "\n",
    "We can also display each of the color channels separately, which can be a very informative way of understanding the relative strength of the different colors in the image..."
   ]
  },
  {
   "cell_type": "code",
   "execution_count": null,
   "metadata": {},
   "outputs": [],
   "source": [
    "f, axarr = plt.subplots(1,2, figsize=(9, 3))\n",
    "\n",
    "axarr[0].imshow(J) #https://matplotlib.org/api/_as_gen/matplotlib.pyplot.imshow.html\n",
    "axarr[0].set_title('Image')\n",
    "\n",
    "axarr[1].hist(J[...,0].ravel(), allbins, alpha = .6, label = 'red', color = 'r');\n",
    "axarr[1].hist(J[...,1].ravel(), allbins, alpha = .6, label = 'green', color = 'g');\n",
    "axarr[1].hist(J[...,2].ravel(), allbins, alpha = .6, label = 'blue', color = 'cornflowerblue');\n",
    "axarr[1].legend(loc = 'upper right');\n",
    "plt.tight_layout()"
   ]
  },
  {
   "cell_type": "markdown",
   "metadata": {},
   "source": [
    "In the above cell we overlay histograms for each color channel on the same axis. We use the `alpha` transparency parameter to see all three at the same time, `label` to populate a legend, and `color` to set the obvious color (see [`pyplot.hist`](https://matplotlib.org/3.3.3/api/_as_gen/matplotlib.pyplot.hist.html) for all the details). [`legend`](https://matplotlib.org/3.3.3/api/_as_gen/matplotlib.pyplot.legend.html) can then automatically generate a legend with our labels. "
   ]
  },
  {
   "cell_type": "markdown",
   "metadata": {},
   "source": [
    "<a id='3d_plotting'></a>\n",
    "### 3D Plotting\n",
    "\n",
    "In addition to ignoring the spatial relationships between pixels, `hist` also separates the red, green, and blue components from one another. Another interesting visualization that keeps all of a pixel's colors together is the color cube. Here, the `x,y,z` dimensions of a 3D Euclidean space are equal to the `r,g,b` components of our image data, so that one pixel becomes one point in the 3D color cube space. I'm showing this here not only because it's an interesting use case for 3D plotting, but also because we will use this kind of visualization to demonstrate the effects of certain image processing techniques like white balance adjustment or contrast enhancement. "
   ]
  },
  {
   "cell_type": "code",
   "execution_count": null,
   "metadata": {},
   "outputs": [],
   "source": [
    "NUMPOINTS = 5000\n",
    "\n",
    "fig = plt.figure(figsize=(5,5))\n",
    "ax = fig.add_subplot(111, projection='3d')\n",
    "\n",
    "# X is the N*M x 3 version of the image.\n",
    "X = np.stack([J[...,i].ravel() for i in range(3)]).T\n",
    "\n",
    "# https://numpy.org/doc/stable/reference/random/generated/numpy.random.choice.html\n",
    "randomInds = np.random.choice(np.arange(X.shape[0]), NUMPOINTS, replace=False)\n",
    "\n",
    "# Now plot those pixels in the 3d space.\n",
    "ax.scatter(X[randomInds,0], X[randomInds,1], X[randomInds,2], c=X[randomInds, :]/255)\n",
    "\n",
    "# Label the axes.\n",
    "ax.set_xlabel('Red')\n",
    "ax.set_ylabel('Green')\n",
    "ax.set_zlabel('Blue');"
   ]
  },
  {
   "cell_type": "markdown",
   "metadata": {},
   "source": [
    "You can click-and-drag the above visualization to change the view of the data. This has been a brief introduction to plotting in matplotlib for the purposes of image processing preparedness. You can read more about 3D plotting [here](https://jakevdp.github.io/PythonDataScienceHandbook/04.12-three-dimensional-plotting.html) or [here](https://numpy.org/doc/stable/reference/random/generated/numpy.random.choice.html), or other plotting through the [matplotlib tutorials](https://matplotlib.org/tutorials/index.html). Have fun!"
   ]
  },
  {
   "cell_type": "code",
   "execution_count": null,
   "metadata": {},
   "outputs": [],
   "source": []
  }
 ],
 "metadata": {
  "kernelspec": {
   "display_name": "Python 3 (ipykernel)",
   "language": "python",
   "name": "python3"
  },
  "language_info": {
   "codemirror_mode": {
    "name": "ipython",
    "version": 3
   },
   "file_extension": ".py",
   "mimetype": "text/x-python",
   "name": "python",
   "nbconvert_exporter": "python",
   "pygments_lexer": "ipython3",
   "version": "3.10.13"
  }
 },
 "nbformat": 4,
 "nbformat_minor": 4
}
