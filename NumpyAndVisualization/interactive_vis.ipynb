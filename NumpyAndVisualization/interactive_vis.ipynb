{
 "cells": [
  {
   "cell_type": "markdown",
   "metadata": {},
   "source": [
    "# Interactive Visualizations Tutorial\n",
    "stough, 202-\n",
    "\n",
    "This is a very brief introduction to interactive visualization or animation in [ipympl](https://github.com/matplotlib/ipympl). We've seen in the [matplotlib tutorial](./matplotlib_tutorial.ipynb) that ipympl provides for some interaction, like zooming and dragging. But often we want to change the actual content of the plots based on the interaction. For this example I'll show the commented code, the demonstration, and then a short review. We'll introduce even more complicated examples only as needed. There are numerous resources on this topic, and many examples may not quite work given the particular library versions you're working with: setup can be pretty brittle. \n",
    "\n",
    "- [ipympl itself](https://github.com/matplotlib/ipympl)\n",
    "- [interactive widgets](https://ipywidgets.readthedocs.io/en/stable/examples/Output%20Widget.html)\n",
    "- [matplotlib's animation ability](https://matplotlib.org/api/_as_gen/matplotlib.animation.FuncAnimation.html)\n",
    "- [starting and pausing an animation](https://stackoverflow.com/questions/16732379/stop-start-pause-in-python-matplotlib-animation)\n",
    "- [inline animations using `HTML(ani.to_jshtml())`](https://stackoverflow.com/questions/43445103/inline-animations-in-jupyter)\n"
   ]
  },
  {
   "cell_type": "markdown",
   "metadata": {},
   "source": [
    "## Imports"
   ]
  },
  {
   "cell_type": "code",
   "execution_count": null,
   "metadata": {},
   "outputs": [],
   "source": [
    "%matplotlib widget\n",
    "import matplotlib.pyplot as plt\n",
    "import scipy.ndimage as ndimage\n",
    "import numpy as np\n",
    "\n",
    "from scipy.ndimage import correlate\n",
    "from skimage.filters import *\n",
    "\n",
    "from ipywidgets import VBox, FloatSlider, AppLayout\n",
    "\n",
    "plt.style.use('dark_background')"
   ]
  },
  {
   "cell_type": "markdown",
   "metadata": {},
   "source": [
    "# Slider Interaction\n",
    "This example is one we'll rip directly from [ipympl examples](https://github.com/matplotlib/ipympl/blob/master/examples/ipympl.ipynb)"
   ]
  },
  {
   "cell_type": "code",
   "execution_count": null,
   "metadata": {},
   "outputs": [],
   "source": [
    "plt.ioff()\n",
    "\n",
    "# Create a slide object\n",
    "slider = FloatSlider(\n",
    "    orientation='horizontal',\n",
    "    description='Factor:',\n",
    "    value=1.0,\n",
    "    min=0.02,\n",
    "    max=2.0\n",
    ")\n",
    "\n",
    "slider.layout.margin = '0px 30% 0px 30%'\n",
    "slider.layout.width = '40%'\n",
    "\n",
    "\n",
    "# Plot and title the initial display. \n",
    "fig = plt.figure()\n",
    "fig.canvas.header_visible = False\n",
    "fig.canvas.layout.min_height = '400px'\n",
    "plt.title('Plotting: y=sin({} * x)'.format(slider.value))\n",
    "\n",
    "x = np.linspace(0, 20, 500)\n",
    "\n",
    "lines = plt.plot(x, np.sin(slider.value * x))\n",
    "\n",
    "\n",
    "# A function that will be called whenever the slider changes.\n",
    "def update_lines(change):\n",
    "    # plt.title('Plotting: y=sin({} * x)'.format(slider.value))\n",
    "    plt.title(f'Plotting: y=sin({slider.value: .3f} * x)')\n",
    "    lines[0].set_data(x, np.sin(change.new * x))\n",
    "    fig.canvas.draw()\n",
    "    fig.canvas.flush_events()\n",
    "\n",
    "# Connecting the slider object to the update function above.\n",
    "# This is event-handling.\n",
    "slider.observe(update_lines, names='value')\n",
    "\n",
    "# Creates an application interface with the various \n",
    "# pieces we already instantiated inside of it. \n",
    "AppLayout(\n",
    "    center=fig.canvas,\n",
    "    footer=slider,\n",
    "    pane_heights=[0, 6, 1]\n",
    ")"
   ]
  },
  {
   "cell_type": "markdown",
   "metadata": {},
   "source": [
    "The key pieces in the above example are pretty straightforward once you get the hang of it. We're basically producing different constituent objects, tying them together, so that data from one can be passed to another, then packing these objects together in an app and displaying the app.\n",
    "\n",
    "- `slider = FloatSlider...`: a horizontal slider is instantiated with some range and explicit initial value. Many other parameters (like step size) default, but you may find them useful. Read more [here](https://ipywidgets.readthedocs.io/en/stable/examples/Widget%20List.html#FloatSlider).\n",
    "- Some plot is produced: Various distracting layout info is there, but keys are the creation of a (current) figure with `plt.figure()`, `plt.title` to produce a title, and [`plt.plot`](https://matplotlib.org/3.3.3/api/_as_gen/matplotlib.pyplot.plot.html) to draw a line plot given x,y. Important here is that the return value of the `plot` function is actually a list of [Line2D]() objects, a complicated under-the-hood bit of matplotlib. Notice also that we use `slider.value` in that first plot. `slider` is an object and its current positional value is in the property `value`.\n",
    "- `def update_lines(change)...`: This is the function that will be called every time the user moves the slider. Key pieces in the function are that we re-title the plot (so that the title can be dynamic) and we [set/change the data](https://matplotlib.org/3.3.3/api/_as_gen/matplotlib.lines.Line2D.html#matplotlib.lines.Line2D.set_data) *inside* the Line2D object we originally plotted through the `set_data` call. \n",
    "- `slider.observe(update_lines, names='value')`: When the `value` property of the `slider` object is updated (click-and-drag by the user for example), then `update_lines` will be called with a parameter we've named `change`. This is a weird object, but suffice to say the expression `change.new` *is the value of the slider* inside the `update_lines` function. We can also directly use the expression `slider.value` since that object is defined within the same cell. I do both just to show.\n",
    "- `AppLayout...`: Lastly we put the plot (with title) and slider objects together in an [AppLayout](https://ipywidgets.readthedocs.io/en/stable/examples/Layout%20Templates.html#AppLayout) object. We only have two things to stuff into the app, the figure we plotted, and the slider object.\n",
    "\n",
    "Whew, that's it! As you probably see by now, it is insanely useful to start with ripped code whenever you're hoping to accomplish something interesting in these interactive displays. I will be providing such code demos throughout this book."
   ]
  },
  {
   "cell_type": "code",
   "execution_count": null,
   "metadata": {},
   "outputs": [],
   "source": []
  }
 ],
 "metadata": {
  "kernelspec": {
   "display_name": "Python 3 (ipykernel)",
   "language": "python",
   "name": "python3"
  },
  "language_info": {
   "codemirror_mode": {
    "name": "ipython",
    "version": 3
   },
   "file_extension": ".py",
   "mimetype": "text/x-python",
   "name": "python",
   "nbconvert_exporter": "python",
   "pygments_lexer": "ipython3",
   "version": "3.10.11"
  }
 },
 "nbformat": 4,
 "nbformat_minor": 4
}
