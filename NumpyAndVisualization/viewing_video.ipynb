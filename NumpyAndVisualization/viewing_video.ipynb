{
 "cells": [
  {
   "cell_type": "markdown",
   "metadata": {},
   "source": [
    "# Example of Viewing a Video\n",
    "stough, 202-\n",
    "\n",
    "- [OpenCV reference](https://learnopencv.com/read-write-and-display-a-video-using-opencv-cpp-python/)\n",
    "- [Nicely written cv2 reader](https://github.com/echonet/dynamic/blob/master/echonet/utils/__init__.py)"
   ]
  },
  {
   "cell_type": "code",
   "execution_count": 1,
   "metadata": {},
   "outputs": [
    {
     "ename": "ModuleNotFoundError",
     "evalue": "No module named 'cv2'",
     "output_type": "error",
     "traceback": [
      "\u001b[0;31m---------------------------------------------------------------------------\u001b[0m",
      "\u001b[0;31mModuleNotFoundError\u001b[0m                       Traceback (most recent call last)",
      "Cell \u001b[0;32mIn[1], line 8\u001b[0m\n\u001b[1;32m      6\u001b[0m \u001b[38;5;28;01mfrom\u001b[39;00m \u001b[38;5;21;01mmatplotlib\u001b[39;00m \u001b[38;5;28;01mimport\u001b[39;00m animation, rc\n\u001b[1;32m      7\u001b[0m \u001b[38;5;28;01mfrom\u001b[39;00m \u001b[38;5;21;01mIPython\u001b[39;00m\u001b[38;5;21;01m.\u001b[39;00m\u001b[38;5;21;01mdisplay\u001b[39;00m \u001b[38;5;28;01mimport\u001b[39;00m HTML, Image\n\u001b[0;32m----> 8\u001b[0m \u001b[38;5;28;01mimport\u001b[39;00m \u001b[38;5;21;01mcv2\u001b[39;00m\n\u001b[1;32m      9\u001b[0m \u001b[38;5;28;01mimport\u001b[39;00m \u001b[38;5;21;01mos\u001b[39;00m\n",
      "\u001b[0;31mModuleNotFoundError\u001b[0m: No module named 'cv2'"
     ]
    }
   ],
   "source": [
    "%matplotlib inline\n",
    "import matplotlib.pyplot as plt\n",
    "import numpy as np\n",
    "from skimage.transform import rescale\n",
    "\n",
    "from matplotlib import animation, rc\n",
    "from IPython.display import HTML, Image\n",
    "import cv2\n",
    "import os"
   ]
  },
  {
   "cell_type": "code",
   "execution_count": null,
   "metadata": {},
   "outputs": [],
   "source": [
    "def loadvideo(filename: str) -> np.ndarray:\n",
    "    \"\"\"Loads a video from a file.\n",
    "    Args:\n",
    "        filename (str): filename of video\n",
    "    Returns:\n",
    "        A np.ndarray with dimensions (channels=3, frames, height, width). The\n",
    "        values will be uint8's ranging from 0 to 255.\n",
    "    Raises:\n",
    "        FileNotFoundError: Could not find `filename`\n",
    "        ValueError: An error occurred while reading the video\n",
    "    \"\"\"\n",
    "\n",
    "    if not os.path.exists(filename):\n",
    "        raise FileNotFoundError(filename)\n",
    "    capture = cv2.VideoCapture(filename)\n",
    "\n",
    "    frame_count = int(capture.get(cv2.CAP_PROP_FRAME_COUNT))\n",
    "    frame_width = int(capture.get(cv2.CAP_PROP_FRAME_WIDTH))\n",
    "    frame_height = int(capture.get(cv2.CAP_PROP_FRAME_HEIGHT))\n",
    "\n",
    "    v = np.zeros((frame_count, frame_height, frame_width, 3), np.uint8)\n",
    "\n",
    "    for count in range(frame_count):\n",
    "        ret, frame = capture.read()\n",
    "        if not ret:\n",
    "            raise ValueError(\"Failed to load frame #{} of {}.\".format(count, filename))\n",
    "\n",
    "        frame = cv2.cvtColor(frame, cv2.COLOR_BGR2RGB)\n",
    "        v[count, :, :] = frame\n",
    "\n",
    "    # v = v.transpose((3, 0, 1, 2))\n",
    "\n",
    "    return v"
   ]
  },
  {
   "cell_type": "code",
   "execution_count": null,
   "metadata": {},
   "outputs": [],
   "source": [
    "vid = loadvideo('../dip_pics/ray_trace.avi')"
   ]
  },
  {
   "cell_type": "code",
   "execution_count": null,
   "metadata": {},
   "outputs": [],
   "source": [
    "def makeVideo(arr, cmap=None):\n",
    "    '''\n",
    "    makeVideo: given a 3 or 4D array (time x h x w [x 1]), returns an HTML animation \n",
    "    of array for viewing in a notebook for example. Cell could say something like:\n",
    "\n",
    "    %%capture\n",
    "    # You want to capture the output when the actual call is made. \n",
    "    vid = makeVideo(arr, cmap='gray')\n",
    "\n",
    "    with the following cell just\n",
    "\n",
    "    vid\n",
    "\n",
    "    '''\n",
    "    \n",
    "    if len(arr.shape) == 4 and arr.shape[-1] == 1: # one channel, otherwise imshow gets confused\n",
    "        arr = arr.squeeze()\n",
    "        print('New arr shape {}.'.format(arr.shape))\n",
    "    \n",
    "    f, ax = plt.subplots(1,1, figsize=(6,4))\n",
    "    dispArtist = ax.imshow(arr[0,...], interpolation=None, cmap=cmap)\n",
    "    \n",
    "    def updateFig(i):\n",
    "        # global dispArtist, arr # not sure why I don't need these: \n",
    "        # See: https://www.geeksforgeeks.org/global-local-variables-python/\n",
    "        if i >= arr.shape[0]:\n",
    "            i = 0\n",
    "\n",
    "        dispArtist.set_array(arr[i,...])\n",
    "        return (dispArtist, )\n",
    "    \n",
    "    ani = animation.FuncAnimation(f, updateFig, interval=50, # 50 is 20fps...#2000/arr.shape[0], \n",
    "                                  frames = arr.shape[0], blit = True, repeat = False)\n",
    "    \n",
    "    # https://matplotlib.org/api/_as_gen/matplotlib.animation.FuncAnimation.html\n",
    "    # https://stackoverflow.com/questions/16732379/stop-start-pause-in-python-matplotlib-animation\n",
    "    # https://stackoverflow.com/questions/43445103/inline-animations-in-jupyter\n",
    "    # HTML(ani.to_html5_video()) didn't see a big difference in quality\n",
    "    return HTML(ani.to_jshtml()) # gives a nice button interface for pause and playback."
   ]
  },
  {
   "cell_type": "code",
   "execution_count": null,
   "metadata": {},
   "outputs": [],
   "source": [
    "vid.shape"
   ]
  },
  {
   "cell_type": "code",
   "execution_count": null,
   "metadata": {},
   "outputs": [],
   "source": [
    "%%capture\n",
    "animatedvideo = makeVideo(vid)"
   ]
  },
  {
   "cell_type": "code",
   "execution_count": null,
   "metadata": {},
   "outputs": [],
   "source": [
    "animatedvideo"
   ]
  },
  {
   "cell_type": "code",
   "execution_count": null,
   "metadata": {},
   "outputs": [],
   "source": []
  }
 ],
 "metadata": {
  "kernelspec": {
   "display_name": "Python 3 (ipykernel)",
   "language": "python",
   "name": "python3"
  },
  "language_info": {
   "codemirror_mode": {
    "name": "ipython",
    "version": 3
   },
   "file_extension": ".py",
   "mimetype": "text/x-python",
   "name": "python",
   "nbconvert_exporter": "python",
   "pygments_lexer": "ipython3",
   "version": "3.10.11"
  }
 },
 "nbformat": 4,
 "nbformat_minor": 4
}
