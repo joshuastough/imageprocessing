{
 "cells": [
  {
   "cell_type": "markdown",
   "metadata": {},
   "source": [
    "# Haar Compression Activity\n",
    "stough 202-\n",
    "\n",
    "DIP 6, 8.9\n",
    "\n",
    "In this activity you're going to use the Haar wavelet block transform and lossy compression in two different contexts\n",
    "\n",
    "- A single $4x4$ single-channel \"image\" block with fairly high contrast.\n",
    "- A larger color image with $8x8$ blocks.\n",
    "\n",
    "In each case we're going to \n",
    "\n",
    "- Transform: Turn a block of image pixels into a block of Haar wavelet coefficients. \n",
    "- Compress: We're going to effectively compress by zeroing out insigficant/small coefficients.\n",
    "- Reconstruct: Take the \"compressed\" coefficent block and reconstruct the block of image pixels, with some loss.\n",
    "\n",
    "Recall from [`view_basis_blocks`](./view_basis_blocks.ipynb) that the Haar $4x4$ transform matrix is like so:\n",
    "\n",
    "\\begin{equation*}\n",
    "\\mathbf{H_{Haar}} =  \\frac{1}{2}\\begin{vmatrix}\n",
    "1 & 1 & 1 & 1\\\\\n",
    "1 & 1 & -1 & -1 \\\\\n",
    "{\\sqrt 2} & -{\\sqrt 2} & 0 & 0 \\\\\n",
    "0 & 0 & {\\sqrt 2} & -{\\sqrt 2}\n",
    "\\end{vmatrix}\n",
    "\\end{equation*}\n",
    "\n",
    "To transform a block of pixels $\\mathbf{B}$ into a block of coefficients $\\mathbf{T}$:\n",
    "\n",
    "\\begin{equation*}\n",
    "\\mathbf{T} = \\mathbf{H}\\times\\mathbf{B}\\times\\mathbf{H}^T\n",
    "\\end{equation*}\n",
    "\n",
    "where $\\mathbf{H}^T$ is the transpose. Through the above we basically replace the set of independent pixels with the set of coefficients with respect to the Haar basis patterns, as we'll see with `vis_blocks`. Once we have $\\mathbf{T}$, we can quantize it to the degree that we wish, zeroing out small coefficients, potentially replacing large coefficients with nearby approximations on a standard grade (e.g. replace anything in $[236,276]$ with $256$). \n",
    "\n",
    "To reconstruct the original $\\mathbf{B}$, we can simply\n",
    "\n",
    "\\begin{equation*}\n",
    "\\mathbf{B} = \\mathbf{H}^T\\times\\mathbf{T}\\times\\mathbf{H}\n",
    "\\end{equation*}"
   ]
  },
  {
   "cell_type": "markdown",
   "metadata": {},
   "source": [
    "## Imports\n",
    "We're going to use [`wavelet_utils`](../dip_utils/wavelet_utils.py)."
   ]
  },
  {
   "cell_type": "code",
   "execution_count": null,
   "metadata": {},
   "outputs": [],
   "source": [
    "%matplotlib widget\n",
    "import matplotlib.pyplot as plt\n",
    "import numpy as np\n",
    "\n",
    "# For importing from alternative directory sources\n",
    "import sys  \n",
    "sys.path.insert(0, '../dip_utils')\n",
    "\n",
    "from matrix_utils import (arr_info,\n",
    "                          make_linmap)\n",
    "from vis_utils import (vis_rgb_cube,\n",
    "                       vis_hists,\n",
    "                       vis_pair,\n",
    "                       vis_triple,\n",
    "                       vis_surface)\n",
    "\n",
    "from wavelet_utils import (make_haar_matrix,\n",
    "                           make_random_basis,\n",
    "                           make_klt_basis,\n",
    "                           make_dct_matrix,\n",
    "                           make_standard_matrix,\n",
    "                           vis_blocks)"
   ]
  },
  {
   "cell_type": "markdown",
   "metadata": {},
   "source": [
    "## 1. $4\\times4$ Haar Wavelet Compression\n",
    "Use `make_haar_matrix` and `vis_blocks` to see the 16 Haar patterns for the $\\mathbf{H_{Haar}}$ matrix.\n",
    "\n",
    "The function `vis_blocks` shows all possible outer products of rows in the input matrix. If the $N\\times N$ input is a transform matrix $\\mathbf{H}$ (whose rows are all orthogonal to one another, unit length, spanning the $N$-D space), then `vis_blocks` shows the collection of $N\\times N$ patterns that the transform matrix implies.  "
   ]
  },
  {
   "cell_type": "code",
   "execution_count": null,
   "metadata": {},
   "outputs": [],
   "source": [
    "H = make_haar_matrix(4)\n",
    "vis_blocks(H)"
   ]
  },
  {
   "cell_type": "markdown",
   "metadata": {},
   "source": [
    "### Transform a $4\\times4$ block of pixels.\n",
    "We'll define the block of pixels in question. Then you transform it into the coefficient block $\\mathbf{T}$. See [`np.matmul`](https://numpy.org/doc/stable/reference/generated/numpy.matmul.html) to compute $\\mathbf{H}\\times\\mathbf{B}\\times\\mathbf{H}^T$. You can think of $\\mathbf{B}$ as a little patch of an image. "
   ]
  },
  {
   "cell_type": "code",
   "execution_count": null,
   "metadata": {},
   "outputs": [],
   "source": [
    "B = np.array([[0,1,1,1],\n",
    "              [0,1,0,0],\n",
    "              [0,1,1,1],\n",
    "              [0,1,0,0]])\n",
    "\n",
    "plt.figure(figsize=(4,4))\n",
    "plt.imshow(B, cmap='gray')"
   ]
  },
  {
   "cell_type": "code",
   "execution_count": null,
   "metadata": {},
   "outputs": [],
   "source": []
  },
  {
   "cell_type": "code",
   "execution_count": null,
   "metadata": {},
   "outputs": [],
   "source": []
  },
  {
   "cell_type": "markdown",
   "metadata": {},
   "source": [
    "### A. Viewing the transform coefficients in the matrix $\\mathbf{T}$, what are the row and column coords for the two largest coefficients (in absolute value)?\n",
    "Do ***not*** view $\\mathbf{T}$ with `vis_blocks`. $\\mathbf{T}$ is not a transform matrix; it is a matrix of coefficients, each coefficient corresponding to one of the patterns that you saw with `vis_blocks(H)` for a given transform matrix $\\mathbf{H}$."
   ]
  },
  {
   "cell_type": "code",
   "execution_count": null,
   "metadata": {},
   "outputs": [],
   "source": []
  },
  {
   "cell_type": "markdown",
   "metadata": {},
   "source": [
    "### B. Show the two basis blocks corresponding to those two coefficients."
   ]
  },
  {
   "cell_type": "code",
   "execution_count": null,
   "metadata": {},
   "outputs": [],
   "source": []
  },
  {
   "cell_type": "markdown",
   "metadata": {},
   "source": [
    "### C. Show and explain as explicitly as you can how the two coefficients are what they are."
   ]
  },
  {
   "cell_type": "code",
   "execution_count": null,
   "metadata": {},
   "outputs": [],
   "source": []
  },
  {
   "cell_type": "markdown",
   "metadata": {},
   "source": [
    "### D. Show the reconstruction of the image $\\mathbf{B}$ using only those basis blocks/coefficients. \n",
    "Is this reconstruction trending in the right direction? Explain."
   ]
  },
  {
   "cell_type": "code",
   "execution_count": null,
   "metadata": {},
   "outputs": [],
   "source": []
  },
  {
   "cell_type": "code",
   "execution_count": null,
   "metadata": {},
   "outputs": [],
   "source": []
  },
  {
   "cell_type": "markdown",
   "metadata": {},
   "source": [
    "## 2. Larger Image Block Transform and Reconstruction.\n",
    "Use the code in [`block_viewing_demo`](./block_viewing_demo.ipynb) and [`basis_decomp_64pix`](./basis_decomp_64pix.ipynb) to perform a similar transform/compress/reconstruct sequence on a larger color image of your choice. \n",
    "\n",
    "- Use $8\\times8\\times3$ blocks. However, you should process each color channel separately. \n",
    "- Use [`resize`](https://scikit-image.org/docs/dev/api/skimage.transform.html?highlight=resize#skimage.transform.resize) on the image you choose to ensure that $8$ evenly divides it in height and width. This is for convenience: compression schemes have other mechanisms to deal with odd-shaped images, which we will ignore here.\n",
    "- Perform reconstructions using the largest $[1,2,4,8,16]$ coefficients in absolute value per block. Note that keeping $16$ coefficients for example is equivalent to $\\sim 4$x compression -- that is, moving from storing 64 pixel values to storing 16 coefficient values.  \n",
    "- For each $k$ coefficient visualization, you should keep $k$ coefficients per color channel. So for example with 1 coefficient, that's 1 red, 1 blue, 1 green.\n",
    "- For at least the reconstructions using $[2,4]$, use `vis_pair` and zoom into an area to observe the effectiveness of the reconstruction on such limited basis (32x, 16x compression). Use `vis_triple` for example to view the original image along with these lossy reconstructions."
   ]
  },
  {
   "cell_type": "code",
   "execution_count": null,
   "metadata": {},
   "outputs": [],
   "source": []
  }
 ],
 "metadata": {
  "kernelspec": {
   "display_name": "Python 3 (ipykernel)",
   "language": "python",
   "name": "python3"
  },
  "language_info": {
   "codemirror_mode": {
    "name": "ipython",
    "version": 3
   },
   "file_extension": ".py",
   "mimetype": "text/x-python",
   "name": "python",
   "nbconvert_exporter": "python",
   "pygments_lexer": "ipython3",
   "version": "3.10.13"
  }
 },
 "nbformat": 4,
 "nbformat_minor": 4
}
