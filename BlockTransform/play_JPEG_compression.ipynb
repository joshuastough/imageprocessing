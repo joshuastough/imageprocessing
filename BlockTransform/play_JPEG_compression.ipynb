{
 "cells": [
  {
   "cell_type": "markdown",
   "metadata": {},
   "source": [
    "# JPEG Compression with Zonal Coding Quantization\n",
    "stough 202-\n",
    "DIP 8.9\n",
    "\n",
    "In this activity we're going to synthesize a bit of the [JPEG](https://en.wikipedia.org/wiki/JPEG) encoding standard, specifically block transform encoding and zonal coding quantization. We will look to understand how the quantization affects the image reconstruction.\n",
    "\n",
    "Read up in DIP 8.9 or [elsewhere](https://en.wikipedia.org/wiki/JPEG#JPEG_codec_example) if needed."
   ]
  },
  {
   "cell_type": "markdown",
   "metadata": {},
   "source": [
    "## Imports\n",
    "We're going to take advantage of both [`view_as_blocks`](https://scikit-image.org/docs/dev/api/skimage.util.html?highlight=view_as_blocks#skimage.util.view_as_blocks) and the [Discrete Cosine transform](https://en.wikipedia.org/wiki/Discrete_cosine_transform) for this."
   ]
  },
  {
   "cell_type": "code",
   "execution_count": null,
   "metadata": {},
   "outputs": [],
   "source": [
    "%matplotlib widget\n",
    "import matplotlib.pyplot as plt\n",
    "import numpy as np\n",
    "\n",
    "# For importing from alternative directory sources\n",
    "import sys  \n",
    "sys.path.insert(0, '../dip_utils')\n",
    "\n",
    "from matrix_utils import (arr_info,\n",
    "                          make_linmap)\n",
    "from vis_utils import (vis_rgb_cube,\n",
    "                       vis_hists,\n",
    "                       vis_pair,\n",
    "                       vis_triple,\n",
    "                       vis_surface)\n",
    "\n",
    "from wavelet_utils import (make_haar_matrix,\n",
    "                           make_random_basis,\n",
    "                           make_klt_basis,\n",
    "                           make_dct_matrix,\n",
    "                           make_standard_matrix,\n",
    "                           vis_blocks)\n",
    "\n",
    "from skimage.util import view_as_blocks\n",
    "from skimage.util import montage\n",
    "from skimage.transform import resize, rescale"
   ]
  },
  {
   "cell_type": "markdown",
   "metadata": {},
   "source": [
    "## JPEG Compression\n",
    "Basically\n",
    "- Take the image in $[0,255]$ form and subtract 128. This is to center around 0. Make sure you change the `dtype` when you do this, or else you won't be able to represent negatives.\n",
    "- Transform each 8x8 block using the DCT transform matrix (see `make_dct_matrix`)\n",
    "- Quantize the transform coefficients according the [Q matrix](https://en.wikipedia.org/wiki/JPEG#Quantization). This is, divide the block coefficients and store the result in integer form.\n",
    "- These quantized transform blocks represent how the compressed image would be stored or transmitted. We won't go further than just having this representation, as the point of the exercise is to understand how this quantization affects the reconstruction. \n",
    "- Reconstruction: for each transform block, remultiply according to the Q matrix and then invert the transform process (including add back 128), to reconstruct the as-though-compressed image block.\n",
    "\n",
    "We'll define the Q matrix, so you don't have to transcribe it yourself."
   ]
  },
  {
   "cell_type": "code",
   "execution_count": null,
   "metadata": {},
   "outputs": [],
   "source": [
    "Q = np.array([[16, 11, 10, 16, 24, 40, 51, 61],\n",
    "              [12, 12, 14, 19, 26, 58, 60, 55],\n",
    "              [14, 13, 16, 24, 40, 57, 69, 56],\n",
    "              [14, 17, 22, 29, 51, 87, 80, 62],\n",
    "              [18, 22, 37, 56, 68, 109, 103, 77],\n",
    "              [24, 35, 55, 64, 81, 104, 113, 92],\n",
    "              [49, 64, 78, 87, 103, 121, 120, 101],\n",
    "              [72, 92, 95, 98, 112, 100, 103, 99]])"
   ]
  },
  {
   "cell_type": "code",
   "execution_count": null,
   "metadata": {},
   "outputs": [],
   "source": []
  },
  {
   "cell_type": "code",
   "execution_count": null,
   "metadata": {},
   "outputs": [],
   "source": []
  },
  {
   "cell_type": "code",
   "execution_count": null,
   "metadata": {},
   "outputs": [],
   "source": []
  },
  {
   "cell_type": "code",
   "execution_count": null,
   "metadata": {},
   "outputs": [],
   "source": []
  },
  {
   "cell_type": "markdown",
   "metadata": {},
   "source": [
    "## Exercise: Interactive Quantization Demo\n",
    "Put together an interactive demo that shows the original image, its current reconstruction, and a view of the currently quantized transform coefficients. This demo should then interact with a `FloatSlider` that affects the multiple applied to the Q quantization matrix. This demo would show how you could increase the compression (increasing the multiple) and what that increased compression would do to the image reconstruction. You might have the slider start at $\\frac{1}{5}$ at the low end, maybe $5$ at the high end, to provide a good range from very little quantization to a lot."
   ]
  },
  {
   "cell_type": "code",
   "execution_count": null,
   "metadata": {},
   "outputs": [],
   "source": []
  }
 ],
 "metadata": {
  "kernelspec": {
   "display_name": "Python 3 (ipykernel)",
   "language": "python",
   "name": "python3"
  },
  "language_info": {
   "codemirror_mode": {
    "name": "ipython",
    "version": 3
   },
   "file_extension": ".py",
   "mimetype": "text/x-python",
   "name": "python",
   "nbconvert_exporter": "python",
   "pygments_lexer": "ipython3",
   "version": "3.10.13"
  }
 },
 "nbformat": 4,
 "nbformat_minor": 4
}
