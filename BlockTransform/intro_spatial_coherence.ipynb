{
 "cells": [
  {
   "cell_type": "markdown",
   "metadata": {},
   "source": [
    "# Spatial Coherence and Change of Basis\n",
    "stough, 202-\n",
    "\n",
    "- [Khan Academy on Change of Basis](https://www.khanacademy.org/math/linear-algebra/alternate-bases/change-of-basis/v/linear-algebra-coordinates-with-respect-to-a-basis)\n",
    "\n",
    "Complicated way of saying it: Image compression relies on spatial coherence of image data. The fact that a pixel's value is highly correlated with its neighbors most of the time, means that changes of basis like the below can lead to a much more compressible coordinate representation (more zeros, or minimum description length)...\n",
    "\n",
    "Little simpler: We are all familiar with plotting points in the plane.\n",
    "\n",
    "<img src=\"../dip_figs/xy_plane.png\" style=\"width:150px\"/>\n",
    "<!--![XY-plane](../dip_figs/xy_plane.png)-->\n",
    "\n",
    "A point $A$ for example might have the coordinates $\\langle4,3\\rangle$, by which we mean $4\\cdot\\langle1,0\\rangle + 3\\cdot\\langle0,1\\rangle$, or $4$ in the $x$ direction and $3$ in the $y$. But the same point in space can also be represented as for example $3.5\\cdot\\langle1,1\\rangle + 0.5\\cdot\\langle1,-1\\rangle$, or rather $\\langle\\frac{7}{\\sqrt2}, \\frac{1}{\\sqrt2}\\rangle$ if we insist on the two directions we're measuring in ($\\langle1,1\\rangle,\\langle1,-1\\rangle$) to be unit length. \n",
    "\n",
    "\n",
    "\n",
    "If we think about the magnitude or energy of the point, or distance from the origin, notice that in this alternative representation, much of that magnitude ($\\frac{7}{8}$th of it in fact) is accounted for by the first component. In fact for a lot of points for which the $x$ and $y$ components are *nearly the same*, the second component could potentially be ignored without losing too much. This is where the compression will come from: if we can ignore the coefficient, then we don't have to store or transmit it.\n",
    "\n",
    "In this demo we're going to try to demonstrate how such a change of basis can improve the compressibility of image data. We'll look at a pixel and its neighbor, over all pairs in an image. Spatial coherence implies that most of the time, a pixel and its neighboer will be similar."
   ]
  },
  {
   "cell_type": "code",
   "execution_count": null,
   "metadata": {},
   "outputs": [],
   "source": [
    "%matplotlib widget\n",
    "import matplotlib.pyplot as plt\n",
    "import numpy as np\n",
    "\n",
    "# For importing from alternative directory sources\n",
    "import sys  \n",
    "sys.path.insert(0, '../dip_utils')\n",
    "\n",
    "from matrix_utils import (arr_info,\n",
    "                          make_linmap)\n",
    "\n",
    "from vis_utils import (vis_image,\n",
    "                       vis_pair,\n",
    "                       vis_triple)"
   ]
  },
  {
   "cell_type": "code",
   "execution_count": null,
   "metadata": {},
   "outputs": [],
   "source": [
    "I = plt.imread('../dip_pics/cat_small.png')\n",
    "arr_info(I)"
   ]
  },
  {
   "cell_type": "code",
   "execution_count": null,
   "metadata": {},
   "outputs": [],
   "source": [
    "vis_image(I, show_ticks=False, title=None)"
   ]
  },
  {
   "cell_type": "code",
   "execution_count": null,
   "metadata": {},
   "outputs": [],
   "source": [
    "vis_image(I[...,0], show_ticks=False, title=None, cmap='gray')"
   ]
  },
  {
   "cell_type": "markdown",
   "metadata": {},
   "source": [
    "&nbsp;\n",
    "## Let's look at pixel pairs\n",
    "We'll just consider one of the color channels so as not to confuse the issue more."
   ]
  },
  {
   "cell_type": "code",
   "execution_count": null,
   "metadata": {},
   "outputs": [],
   "source": []
  },
  {
   "cell_type": "code",
   "execution_count": null,
   "metadata": {},
   "outputs": [],
   "source": [
    "pix_pairs = np.reshape(I[...,0], (-1,2)).copy()\n",
    "arr_info(pix_pairs)"
   ]
  },
  {
   "cell_type": "code",
   "execution_count": null,
   "metadata": {},
   "outputs": [],
   "source": [
    "pix_pairs[:10]"
   ]
  },
  {
   "cell_type": "code",
   "execution_count": null,
   "metadata": {},
   "outputs": [],
   "source": [
    "numpoints = 5000\n",
    "randomInds = np.random.choice(pix_pairs.shape[0], numpoints, replace=False)"
   ]
  },
  {
   "cell_type": "code",
   "execution_count": null,
   "metadata": {},
   "outputs": [],
   "source": [
    "f, ax = plt.subplots()\n",
    "ax.scatter(pix_pairs[randomInds,0], pix_pairs[randomInds,1], alpha=.05)\n",
    "ax.set_aspect('equal')\n",
    "ax.set_xlabel(r'$pix_0$')\n",
    "ax.set_ylabel(r'$pix_1$')\n",
    "ax.set_title('Pixel pair scatter');"
   ]
  },
  {
   "cell_type": "markdown",
   "metadata": {},
   "source": [
    "It looks like neighboring pixels are highly correlated with one another. **This is the essence of spatial coherence**. Rather than considering them as independent pieces of information, we can instead reframe how we represent a pixel pair."
   ]
  },
  {
   "cell_type": "markdown",
   "metadata": {},
   "source": [
    "&nbsp;\n",
    "\n",
    "## Changing the basis of a pixel pair\n",
    "We want to reframe to reframe any pixel pair to take advantage of spatial coherence, we can move from the independent basis $\\{\\langle1,0\\rangle,\\langle0,1\\rangle\\}$ to one like $\\{\\frac{1}{\\sqrt2}\\langle1,1\\rangle,\\frac{1}{\\sqrt2}\\langle1,-1\\rangle\\}$. Rather than thinking of the pixel pair as \"this pixel, then that pixel\", we'll have something like \"the average of the pair, then the difference of the pair.\" If spatial coherence is as prevelent as the above scatter plot implies, then \"the difference of the pair\" will be a relatively insignificant part of the typical pair.\n",
    "\n",
    "To transform the normal representation of a pixel pair $\\langle pix_0,pix_1\\rangle$ to the new basis, we can multiply it by a matrix of the two new basis vectors:\n",
    "\n",
    "\\begin{equation*}\n",
    "\\frac{1}{\\sqrt2}\\begin{vmatrix}\n",
    "1 & 1 \\\\\n",
    "1 & -1\n",
    "\\end{vmatrix}\n",
    "\\begin{vmatrix}\n",
    "pix_0 \\\\\n",
    "pix_1 \n",
    "\\end{vmatrix} =\n",
    "\\frac{1}{\\sqrt2}\\begin{vmatrix}\n",
    "pix_0 + pix_1 \\\\\n",
    "pix_0 - pix_1\n",
    "\\end{vmatrix} =\n",
    "\\begin{vmatrix}\n",
    "c_0 \\\\\n",
    "c_1\n",
    "\\end{vmatrix}\n",
    "\\end{equation*} \n",
    "\n",
    "You can check this with respect to the pixel pair $\\langle4,3\\rangle$ noted at the top. Below we'll call this representation **avg/diff**."
   ]
  },
  {
   "cell_type": "code",
   "execution_count": null,
   "metadata": {},
   "outputs": [],
   "source": [
    "H = np.array([[1, 1],[1, -1]])/np.sqrt(2)"
   ]
  },
  {
   "cell_type": "code",
   "execution_count": null,
   "metadata": {},
   "outputs": [],
   "source": [
    "H"
   ]
  },
  {
   "cell_type": "code",
   "execution_count": null,
   "metadata": {},
   "outputs": [],
   "source": [
    "# H is 2x2, while the pix_pairs is Nx2.  So\n",
    "# we transpose the pix_pair to get 2xN. The\n",
    "# result of the matmul is 2xN, then we transpose it back.\n",
    "new_coords = np.matmul(H, pix_pairs.T).T\n",
    "arr_info(new_coords)"
   ]
  },
  {
   "cell_type": "code",
   "execution_count": null,
   "metadata": {},
   "outputs": [],
   "source": [
    "np.mean(new_coords, axis=0)"
   ]
  },
  {
   "cell_type": "markdown",
   "metadata": {},
   "source": [
    "&nbsp;\n",
    "## Let's see how much energy is in each component for each pair.\n",
    "We would like to understand what percentage of the total is in each component in this new representation. We want each pair to sum to 1, where the components are positive. "
   ]
  },
  {
   "cell_type": "code",
   "execution_count": null,
   "metadata": {},
   "outputs": [],
   "source": [
    "# We want to use the absolute values, and divide by the sum so that the sum of each pair is one.\n",
    "# The np.abs(new_coords) will have shape (N,2), whereas the .sum(axis=-1) produces a (N,). \n",
    "# In order to broadcast the shapes correctly, we can add [:,None] so that we're dividing \n",
    "# (N,2) with (N,1), and numpy will know what that means. Or just keepdims!\n",
    "normed_coords = np.abs(new_coords) / np.abs(new_coords).sum(axis=-1, keepdims=True)"
   ]
  },
  {
   "cell_type": "code",
   "execution_count": null,
   "metadata": {},
   "outputs": [],
   "source": [
    "normed_coords[:10]"
   ]
  },
  {
   "cell_type": "code",
   "execution_count": null,
   "metadata": {},
   "outputs": [],
   "source": [
    "normed_coords[:10].sum(axis=-1, keepdims=True)"
   ]
  },
  {
   "cell_type": "markdown",
   "metadata": {},
   "source": [
    "You can see that, at least for the first ten pixel pairs, that in this new representation the energy in the $\\frac{1}{\\sqrt2}\\langle1,1\\rangle$ direction is most of the total. Let's look at a histogram of these two components, to see if this trend holds across the whole image."
   ]
  },
  {
   "cell_type": "code",
   "execution_count": null,
   "metadata": {},
   "outputs": [],
   "source": [
    "bins = np.arange(0,1, 1/400)"
   ]
  },
  {
   "cell_type": "code",
   "execution_count": null,
   "metadata": {},
   "outputs": [],
   "source": [
    "f, ax = plt.subplots()\n",
    "ax.hist(normed_coords[:,0], bins, alpha = .6, label = r'$c_0$', color = 'r');\n",
    "ax.hist(normed_coords[:,1], bins, alpha = .6, label = r'$c_1$', color = 'b');\n",
    "\n",
    "plt.legend();"
   ]
  },
  {
   "cell_type": "markdown",
   "metadata": {},
   "source": [
    "It looks like in the new representation, the $c_0$ component, associated with the $\\frac{1}{\\sqrt2}\\langle1,1\\rangle$ direction, has almost all the power/energy/magnitude associated with any pair. How does this compare to the original representation?"
   ]
  },
  {
   "cell_type": "code",
   "execution_count": null,
   "metadata": {},
   "outputs": [],
   "source": [
    "normed_pix = np.abs(pix_pairs) / np.abs(pix_pairs).sum(axis=-1, keepdims=True)\n",
    "bins = np.arange(normed_pix.min(), normed_pix.max(), 1/400)"
   ]
  },
  {
   "cell_type": "code",
   "execution_count": null,
   "metadata": {},
   "outputs": [],
   "source": [
    "f, ax = plt.subplots()\n",
    "ax.hist(normed_pix[:,0], bins, alpha = .6, label = r'$pix_0$', color = 'r');\n",
    "ax.hist(normed_pix[:,1], bins, alpha = .6, label = r'$pix_1$', color = 'b');\n",
    "\n",
    "plt.legend();"
   ]
  },
  {
   "cell_type": "markdown",
   "metadata": {},
   "source": [
    "The above plot shows that when we consider a pair as two indpendent pixels, then each component ($pix_0$, and $pix_1$) is equally important. "
   ]
  },
  {
   "cell_type": "markdown",
   "metadata": {},
   "source": [
    "&nbsp;\n",
    "## What if we zeroed out all of that less important dimension?\n",
    "Given that the $c_1$ components seem to matter so little, what if we just didn't keep them? Would that change the image all that much? \n",
    "Once we've zeroed out the $c_1$ components, then going back to the pixel space is a matter of multiplying in the other direction:\n",
    "\n",
    "\\begin{equation*}\n",
    "\\begin{vmatrix}\n",
    "c_0 & c_1 \n",
    "\\end{vmatrix}  \\cdot\n",
    "\\frac{1}{\\sqrt2}\\begin{vmatrix}\n",
    "1 & 1 \\\\\n",
    "1 & -1\n",
    "\\end{vmatrix} =\n",
    "\\frac{1}{\\sqrt2}\\begin{vmatrix}\n",
    "pix_0 + pix_1 & pix_0 - pix_1\n",
    "\\end{vmatrix} \\cdot\n",
    "\\frac{1}{\\sqrt2}\\begin{vmatrix}\n",
    "1 & 1 \\\\\n",
    "1 & -1\n",
    "\\end{vmatrix} =\n",
    "\\frac{1}{2}\\begin{vmatrix}\n",
    "2pix_0 & 2pix_1 \n",
    "\\end{vmatrix} =\n",
    "\\begin{vmatrix}\n",
    "pix_0 & pix_1\n",
    "\\end{vmatrix}\n",
    "\\end{equation*} \n",
    "\n",
    "You can check with respect to the coefficient representation $\\langle\\frac{7}{\\sqrt2}, \\frac{1}{\\sqrt2}\\rangle$ from above."
   ]
  },
  {
   "cell_type": "code",
   "execution_count": null,
   "metadata": {},
   "outputs": [],
   "source": [
    "new_coords[:,1] = 0"
   ]
  },
  {
   "cell_type": "code",
   "execution_count": null,
   "metadata": {},
   "outputs": [],
   "source": [
    "rec_pairs = np.matmul(new_coords, H.T)\n",
    "arr_info(rec_pairs)"
   ]
  },
  {
   "cell_type": "code",
   "execution_count": null,
   "metadata": {},
   "outputs": [],
   "source": [
    "Ir = np.reshape(rec_pairs, I.shape[:2])"
   ]
  },
  {
   "cell_type": "code",
   "execution_count": null,
   "metadata": {},
   "outputs": [],
   "source": [
    "vis_pair(I[...,0], Ir, cmap='gray', show_ticks=False, second_title='Using half in avg/diff')"
   ]
  },
  {
   "cell_type": "markdown",
   "metadata": {},
   "source": [
    "It appears that eliminating half of the coefficients (all of the $c_1$'s) has a neglible effect on the image. How does this compare to eliminating one of the pixels in every pixel pair in the original representations?"
   ]
  },
  {
   "cell_type": "code",
   "execution_count": null,
   "metadata": {},
   "outputs": [],
   "source": [
    "pix_pairs[:,1] = 0\n",
    "Irp = np.reshape(pix_pairs, I.shape[:2])"
   ]
  },
  {
   "cell_type": "code",
   "execution_count": null,
   "metadata": {},
   "outputs": [],
   "source": [
    "vis_triple(I[...,0], Irp, Ir, cmap='gray', show_ticks=False, \n",
    "           second_title='Using half in pixel space', \n",
    "           third_title='Using half in avg/diff')"
   ]
  },
  {
   "cell_type": "markdown",
   "metadata": {},
   "source": [
    "In the above we see that eliminating half of the coefficients in the pixel space leads to more noticeable degradation than doing so in the avg/diff representation. Due to spatial coherence, the avg/diff space usually accounts for most of the energy of a pixel pair in only the \"avg\" component. Such a change of basis followed by truncating or zeroing out components is the basis for lossy compression schemes like JPEG."
   ]
  },
  {
   "cell_type": "markdown",
   "metadata": {},
   "source": [
    "### Little experiment figuring out how to consider a pixel and its horizontal neighbor."
   ]
  },
  {
   "cell_type": "code",
   "execution_count": null,
   "metadata": {},
   "outputs": [],
   "source": [
    "a = np.arange(16).reshape(4,4)"
   ]
  },
  {
   "cell_type": "code",
   "execution_count": null,
   "metadata": {},
   "outputs": [],
   "source": [
    "a"
   ]
  },
  {
   "cell_type": "code",
   "execution_count": null,
   "metadata": {},
   "outputs": [],
   "source": [
    "np.reshape(a, (8,2))"
   ]
  },
  {
   "cell_type": "code",
   "execution_count": null,
   "metadata": {},
   "outputs": [],
   "source": [
    "np.reshape(a, (8,-1))"
   ]
  },
  {
   "cell_type": "code",
   "execution_count": null,
   "metadata": {},
   "outputs": [],
   "source": [
    "np.reshape(a, (-1,2))"
   ]
  },
  {
   "cell_type": "code",
   "execution_count": null,
   "metadata": {},
   "outputs": [],
   "source": []
  }
 ],
 "metadata": {
  "kernelspec": {
   "display_name": "Python 3",
   "language": "python",
   "name": "python3"
  },
  "language_info": {
   "codemirror_mode": {
    "name": "ipython",
    "version": 3
   },
   "file_extension": ".py",
   "mimetype": "text/x-python",
   "name": "python",
   "nbconvert_exporter": "python",
   "pygments_lexer": "ipython3",
   "version": "3.7.6"
  }
 },
 "nbformat": 4,
 "nbformat_minor": 4
}
