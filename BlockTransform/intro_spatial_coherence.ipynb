{
 "cells": [
  {
   "cell_type": "markdown",
   "metadata": {},
   "source": [
    "# Spatial Coherence and Change of Basis\n",
    "stough, 202-\n",
    "\n",
    "- [Khan Academy on Change of Basis](https://www.khanacademy.org/math/linear-algebra/alternate-bases/change-of-basis/v/linear-algebra-coordinates-with-respect-to-a-basis)\n",
    "\n",
    "Complicated way of saying it: Image compression relies on spatial coherence of image data. The fact that a pixel's value is highly correlated with its neighbors most of the time, means that changes of basis like DCT can lead to a much more compressible coordinate representation (more zeros, or minimum description length)...\n",
    "\n",
    "Little simpler: We are all familiar with plotting points in the plane.\n",
    "\n",
    "<img src=\"../dip_figs/xy_plane.png\" style=\"width:150px\"/>\n",
    "<!--![XY-plane](../dip_figs/xy_plane.png)-->\n",
    "\n",
    "A point $A$ for example might have the coordinates $<4,3>$, by which we mean $4<1,0> + 3<0,1>$, or $4$ in the $x$ direction and $3$ in the $y$. But the same point in space can also be represented as for example $3.5<1,1> + .5<1,-1>$, or rather $<\\frac{7}{\\sqrt2}, \\frac{1}{\\sqrt2}>$ if we insist on the two directions we're measuring in ($<1,1>,<1,-1>$) to be unit length. \n",
    "\n",
    "\n",
    "\n",
    "If we think about the magnitude of the point, or distance from the origin, notice that in this alternative representation, much of that magnitude ($\\frac{7}{8}$th of it in fact) is accounted for by the first component. In fact for a lot of points for which the $x$ and $y$ components are nearly the same, the second component could potentially be ignored without losing too much. This is where the compression will come from: if we can ignore the coefficient, then we don't have to store or transmit it.\n",
    "\n",
    "In this demo we're going to try to demonstrate how such a change of basis can improve the compressibility of image data. We'll look at a pixel and its neighbor, over all pairs in an image. Spatial coherence implies that most of the time, a pixel and its neighboer will be similar."
   ]
  },
  {
   "cell_type": "code",
   "execution_count": null,
   "metadata": {},
   "outputs": [],
   "source": [
    "%matplotlib widget\n",
    "import matplotlib.pyplot as plt\n",
    "import numpy as np\n",
    "\n",
    "# For importing from alternative directory sources\n",
    "import sys  \n",
    "sys.path.insert(0, '../dip_utils')\n",
    "\n",
    "from matrix_utils import (arr_info,\n",
    "                          make_linmap)\n",
    "\n",
    "from vis_utils import (vis_image,\n",
    "                       vis_pair)"
   ]
  },
  {
   "cell_type": "code",
   "execution_count": null,
   "metadata": {},
   "outputs": [],
   "source": [
    "I = plt.imread('../dip_pics/cat_small.png')\n",
    "arr_info(I)"
   ]
  },
  {
   "cell_type": "code",
   "execution_count": null,
   "metadata": {},
   "outputs": [],
   "source": [
    "vis_image(I, show_ticks=False, title=None)"
   ]
  },
  {
   "cell_type": "code",
   "execution_count": null,
   "metadata": {},
   "outputs": [],
   "source": [
    "vis_image(I[...,0], show_ticks=False, title=None, cmap='gray')"
   ]
  },
  {
   "cell_type": "markdown",
   "metadata": {},
   "source": [
    "&nbsp;\n",
    "## Let's look at pixel pairs\n",
    "We'll just consider one of the color channels so as not to confuse the issue more."
   ]
  },
  {
   "cell_type": "code",
   "execution_count": null,
   "metadata": {},
   "outputs": [],
   "source": []
  },
  {
   "cell_type": "code",
   "execution_count": null,
   "metadata": {},
   "outputs": [],
   "source": [
    "pix_pairs = np.reshape(I[...,0], (-1,2))\n",
    "arr_info(pix_pairs)"
   ]
  },
  {
   "cell_type": "code",
   "execution_count": null,
   "metadata": {},
   "outputs": [],
   "source": [
    "pix_pairs[:10]"
   ]
  },
  {
   "cell_type": "code",
   "execution_count": null,
   "metadata": {},
   "outputs": [],
   "source": [
    "numpoints = 5000\n",
    "randomInds = np.random.choice(pix_pairs.shape[0], numpoints, replace=False)"
   ]
  },
  {
   "cell_type": "code",
   "execution_count": null,
   "metadata": {},
   "outputs": [],
   "source": [
    "plt.figure()\n",
    "plt.scatter(pix_pairs[:,0], pix_pairs[:,1], alpha=.01)\n",
    "plt.axes().set_aspect('equal')"
   ]
  },
  {
   "cell_type": "code",
   "execution_count": null,
   "metadata": {},
   "outputs": [],
   "source": []
  },
  {
   "cell_type": "code",
   "execution_count": null,
   "metadata": {},
   "outputs": [],
   "source": []
  },
  {
   "cell_type": "code",
   "execution_count": null,
   "metadata": {},
   "outputs": [],
   "source": []
  },
  {
   "cell_type": "code",
   "execution_count": null,
   "metadata": {},
   "outputs": [],
   "source": [
    "H = np.array([[1, 1],[1, -1]])/np.sqrt(2)"
   ]
  },
  {
   "cell_type": "code",
   "execution_count": null,
   "metadata": {},
   "outputs": [],
   "source": [
    "H"
   ]
  },
  {
   "cell_type": "code",
   "execution_count": null,
   "metadata": {},
   "outputs": [],
   "source": [
    "new_coords = np.matmul(H, pix_pairs.T).T\n",
    "arr_info(new_coords)"
   ]
  },
  {
   "cell_type": "code",
   "execution_count": null,
   "metadata": {},
   "outputs": [],
   "source": [
    "np.mean(new_coords, axis=0)"
   ]
  },
  {
   "cell_type": "markdown",
   "metadata": {},
   "source": [
    "&nbsp;\n",
    "## Let's see how much energy is in each component for each pair.\n",
    "We want each pair to sum to 1, where the components are positive. Sort of, what percentage of the total is in each component."
   ]
  },
  {
   "cell_type": "code",
   "execution_count": null,
   "metadata": {},
   "outputs": [],
   "source": [
    "# We want to use the absolute values, and divide by the sum so that the sum of each pair is one.\n",
    "# The np.abs(new_coords) will have shape (N,2), whereas the .sum(axis=-1) produces a (N,). \n",
    "# In order to broadcast the shapes correctly, we can add [:,None] so that we're dividing \n",
    "# (N,2) with (N,1), and numpy will know what that means. Or just keepdims!\n",
    "normed_coords = np.abs(new_coords) / np.abs(new_coords).sum(axis=-1, keepdims=True)"
   ]
  },
  {
   "cell_type": "code",
   "execution_count": null,
   "metadata": {},
   "outputs": [],
   "source": [
    "normed_coords[:10]"
   ]
  },
  {
   "cell_type": "code",
   "execution_count": null,
   "metadata": {},
   "outputs": [],
   "source": [
    "normed_coords[:10].sum(axis=-1, keepdims=True)"
   ]
  },
  {
   "cell_type": "code",
   "execution_count": null,
   "metadata": {},
   "outputs": [],
   "source": []
  },
  {
   "cell_type": "code",
   "execution_count": null,
   "metadata": {},
   "outputs": [],
   "source": [
    "bins = np.arange(0,1, 1/400)"
   ]
  },
  {
   "cell_type": "code",
   "execution_count": null,
   "metadata": {},
   "outputs": [],
   "source": [
    "f, ax = plt.subplots()\n",
    "ax.hist(normed_coords[:,0], bins, alpha = .6, label = r'$c_0$', color = 'r');\n",
    "ax.hist(normed_coords[:,1], bins, alpha = .6, label = r'$c_1$', color = 'b');\n",
    "\n",
    "plt.legend();"
   ]
  },
  {
   "cell_type": "markdown",
   "metadata": {},
   "source": [
    "It looks like in the new representation, the $c_0$ component, associated with the $<1,1>$ direction, has almost all the power/energy/magnitude associated with any pair. How does this compare to the original representation?"
   ]
  },
  {
   "cell_type": "code",
   "execution_count": null,
   "metadata": {},
   "outputs": [],
   "source": [
    "normed_pix = np.abs(pix_pairs) / np.abs(pix_pairs).sum(axis=-1, keepdims=True)\n",
    "bins = np.arange(normed_pix.min(), normed_pix.max(), 1/400)"
   ]
  },
  {
   "cell_type": "code",
   "execution_count": null,
   "metadata": {},
   "outputs": [],
   "source": [
    "f, ax = plt.subplots()\n",
    "ax.hist(normed_pix[:,0], bins, alpha = .6, label = r'$pix_0$', color = 'r');\n",
    "ax.hist(normed_pix[:,1], bins, alpha = .6, label = r'$pix_1$', color = 'b');\n",
    "\n",
    "plt.legend();"
   ]
  },
  {
   "cell_type": "markdown",
   "metadata": {},
   "source": [
    "The above plot shows that when we consider a pair as two indpendent pixels, then each component is equally important. "
   ]
  },
  {
   "cell_type": "markdown",
   "metadata": {},
   "source": [
    "&nbsp;\n",
    "## What if we zeroed out all of that less important dimension?\n",
    "Given that the $c_1$ components seem to matter so little, what if we just didn't keep them? Would that change the image all that much? "
   ]
  },
  {
   "cell_type": "code",
   "execution_count": null,
   "metadata": {},
   "outputs": [],
   "source": [
    "new_coords[:,1] = 0"
   ]
  },
  {
   "cell_type": "code",
   "execution_count": null,
   "metadata": {},
   "outputs": [],
   "source": [
    "rec_pairs = np.matmul(new_coords, H.T)\n",
    "arr_info(rec_pairs)"
   ]
  },
  {
   "cell_type": "code",
   "execution_count": null,
   "metadata": {},
   "outputs": [],
   "source": [
    "Ir = np.reshape(rec_pairs, I.shape[:2])"
   ]
  },
  {
   "cell_type": "code",
   "execution_count": null,
   "metadata": {},
   "outputs": [],
   "source": [
    "vis_pair(I[...,0], Ir, cmap='gray', show_ticks=False)"
   ]
  },
  {
   "cell_type": "code",
   "execution_count": null,
   "metadata": {},
   "outputs": [],
   "source": []
  },
  {
   "cell_type": "code",
   "execution_count": null,
   "metadata": {},
   "outputs": [],
   "source": []
  },
  {
   "cell_type": "code",
   "execution_count": null,
   "metadata": {},
   "outputs": [],
   "source": []
  },
  {
   "cell_type": "code",
   "execution_count": null,
   "metadata": {},
   "outputs": [],
   "source": []
  },
  {
   "cell_type": "markdown",
   "metadata": {},
   "source": [
    "### Little experiment figuring out how to consider a pixel and its horizontal neighbor."
   ]
  },
  {
   "cell_type": "code",
   "execution_count": null,
   "metadata": {},
   "outputs": [],
   "source": [
    "a = np.arange(16).reshape(4,4)"
   ]
  },
  {
   "cell_type": "code",
   "execution_count": null,
   "metadata": {},
   "outputs": [],
   "source": [
    "a"
   ]
  },
  {
   "cell_type": "code",
   "execution_count": null,
   "metadata": {},
   "outputs": [],
   "source": [
    "np.reshape(a, (2,))"
   ]
  },
  {
   "cell_type": "code",
   "execution_count": null,
   "metadata": {},
   "outputs": [],
   "source": [
    "np.reshape(a, (8,2))"
   ]
  },
  {
   "cell_type": "code",
   "execution_count": null,
   "metadata": {},
   "outputs": [],
   "source": [
    "np.reshape(a, (8,-1))"
   ]
  },
  {
   "cell_type": "code",
   "execution_count": null,
   "metadata": {},
   "outputs": [],
   "source": [
    "np.reshape(a, (-1,2))"
   ]
  },
  {
   "cell_type": "code",
   "execution_count": null,
   "metadata": {},
   "outputs": [],
   "source": []
  }
 ],
 "metadata": {
  "kernelspec": {
   "display_name": "Python 3",
   "language": "python",
   "name": "python3"
  },
  "language_info": {
   "codemirror_mode": {
    "name": "ipython",
    "version": 3
   },
   "file_extension": ".py",
   "mimetype": "text/x-python",
   "name": "python",
   "nbconvert_exporter": "python",
   "pygments_lexer": "ipython3",
   "version": "3.7.6"
  }
 },
 "nbformat": 4,
 "nbformat_minor": 4
}
