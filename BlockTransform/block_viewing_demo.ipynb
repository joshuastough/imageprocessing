{
 "cells": [
  {
   "cell_type": "markdown",
   "metadata": {},
   "source": [
    "# Block Viewing Demo\n",
    "stough 202-\n",
    "\n",
    "**Block viewing** is mportant for understanding ubiquitous image and video compression schemes like JPEG\n",
    "\n",
    "Here we consider an image as a grid of non-overlapping blocks, each block containing a number of pixels. A **block transform** is where we replace each block from the original image with a block of our choosing. We could choose to replace the whole collection of pixels in a block with the average or median color of the block. \n",
    "\n",
    "The compression schemes we will be soon learning about rely on spatial coherence to consider each block as a collection of characteristics (mean, differences, whatever) rather than as a collection if independent pixels. Depending on the descriptive power of any particular characteristic, we may choose to heavily quantize or even ignore that characteristic in order to save space, leading to a lossy compression that does not badly affect the perceived image quality."
   ]
  },
  {
   "cell_type": "markdown",
   "metadata": {},
   "source": [
    "## Imports\n",
    "We add several functions from the [`skimage`](https://scikit-image.org/) module:\n",
    "\n",
    "- [`view_as_blocks`](https://scikit-image.org/docs/dev/api/skimage.util.html?highlight=view_as_blocks#skimage.util.view_as_blocks) decomoposes an image into blocks of a defined size.\n",
    "- [`montage`](https://scikit-image.org/docs/dev/api/skimage.util.html?highlight=view_as_blocks#skimage.util.montage) allows us to reassemble a bunch of blocks back into a grid.\n",
    "- We use [`resize`](https://scikit-image.org/docs/dev/api/skimage.transform.html?highlight=resize#skimage.transform.resize) or [`rescale`](https://scikit-image.org/docs/dev/api/skimage.transform.html?highlight=resize#skimage.transform.rescale) to ensure that our image and glyphs have a common denominator that we can use as a block size."
   ]
  },
  {
   "cell_type": "code",
   "execution_count": null,
   "metadata": {},
   "outputs": [],
   "source": [
    "%matplotlib widget\n",
    "import matplotlib.pyplot as plt\n",
    "import numpy as np\n",
    "\n",
    "import skimage.color as color\n",
    "\n",
    "# For importing from alternative directory sources\n",
    "import sys  \n",
    "sys.path.insert(0, '../dip_utils')\n",
    "\n",
    "from matrix_utils import (arr_info,\n",
    "                          make_linmap)\n",
    "from vis_utils import (vis_rgb_cube,\n",
    "                       vis_hists,\n",
    "                       vis_pair)\n",
    "\n",
    "from skimage.util import view_as_blocks\n",
    "from skimage.util import montage\n",
    "from skimage.transform import resize, rescale"
   ]
  },
  {
   "cell_type": "markdown",
   "metadata": {},
   "source": [
    "## Load a small image\n",
    "We're using one with a resolution that is a multiple of 8, since we'd like to use 8x8 blocks. This [cryptopunk7804](https://www.larvalabs.com/cryptopunks/details/7804) is sourced from a [non-fungible token (NFT)](https://en.wikipedia.org/wiki/Non-fungible_token) that recently sold for $\\sim\\$7M$."
   ]
  },
  {
   "cell_type": "code",
   "execution_count": null,
   "metadata": {},
   "outputs": [],
   "source": [
    "I = plt.imread('../dip_pics/cryptopunk7804.png')\n",
    "I = I[...,:3] # cut out the alpha channel\n",
    "vis_hists(I)\n",
    "print(arr_info(I))"
   ]
  },
  {
   "cell_type": "markdown",
   "metadata": {},
   "source": [
    "## View as Blocks\n",
    "\n",
    "You can see the above is a $24x24x3$ array of floats in $[0,1]$. [`view_as_blocks`](https://scikit-image.org/docs/dev/api/skimage.util.html?highlight=view_as_blocks#skimage.util.view_as_blocks) will allow us to consider this image as a grid of non-overlapping $8x8x3$ *blocks*."
   ]
  },
  {
   "cell_type": "code",
   "execution_count": null,
   "metadata": {},
   "outputs": [],
   "source": [
    "block_shape = (8,8,3)\n",
    "\n",
    "view = view_as_blocks(I, block_shape)\n",
    "arr_info(view)"
   ]
  },
  {
   "cell_type": "markdown",
   "metadata": {},
   "source": [
    "As you can see, the resulting `view` variable is a $3x3$ grid of these $8x8x3$ blocks. Let's consider it as a linear list of blocks instead of a grid. When we reshape we have to be careful to maintain the $8x8x3$ elements of this list."
   ]
  },
  {
   "cell_type": "code",
   "execution_count": null,
   "metadata": {},
   "outputs": [],
   "source": [
    "block_view = np.reshape(view, [view.shape[0]*view.shape[1]] + list(block_shape))\n",
    "arr_info(block_view)"
   ]
  },
  {
   "cell_type": "markdown",
   "metadata": {},
   "source": [
    "## Montage\n",
    "\n",
    "We can use [`montage`](https://scikit-image.org/docs/dev/api/skimage.util.html?highlight=view_as_blocks#skimage.util.montage) to reassemble the `block_view` into a single displayable image again. We'll add `padding` so that you can see the decomposition into blocks."
   ]
  },
  {
   "cell_type": "code",
   "execution_count": null,
   "metadata": {},
   "outputs": [],
   "source": [
    "I_block_grid = montage(block_view, grid_shape=view.shape[:2], channel_axis=-1, padding_width=1, fill=[1,1,1])\n",
    "\n",
    "plt.figure(figsize=(5,5))\n",
    "plt.imshow(I_block_grid)"
   ]
  },
  {
   "cell_type": "markdown",
   "metadata": {},
   "source": [
    "## Transforming or Processing Blocks\n",
    "With this `block_view` we can even even apply some kind of transform or function to each block, computing some block characteristics. Here, we'll replace each block with its mean color. We'll make a new list of blocks and then put our modified blocks into it, so that we can `montage` the modified image later."
   ]
  },
  {
   "cell_type": "code",
   "execution_count": null,
   "metadata": {},
   "outputs": [],
   "source": [
    "mod_block_view = np.zeros_like(block_view)\n",
    "\n",
    "for i, block in enumerate(block_view):\n",
    "    block_mean = block.mean(axis=(0,1)) # Get the average color in the block.\n",
    "    \n",
    "    mod_block_view[i] = block_mean"
   ]
  },
  {
   "cell_type": "code",
   "execution_count": null,
   "metadata": {},
   "outputs": [],
   "source": [
    "mod_block_grid = montage(mod_block_view, grid_shape=view.shape[:2], channel_axis=-1, padding_width=1, fill=[1,1,1])\n",
    "\n",
    "plt.figure(figsize=(5,5))\n",
    "plt.imshow(mod_block_grid)"
   ]
  },
  {
   "cell_type": "markdown",
   "metadata": {},
   "source": [
    "In this particular example we've processed a $24x24$ image into a $3x3$. With only 9 pixels of course, the image is pretty poorly resolved, but we have in a sense **compressed** the image 64-fold (a factor of 8 in $x$ and 8 in $y$)."
   ]
  },
  {
   "cell_type": "markdown",
   "metadata": {},
   "source": [
    "## Try the above kind of decomposition in a larger image.\n",
    "\n",
    "You have to be careful that the `block_shape` you choose to use is a factor of the shape of the image itself. Alternatively, you may need to [`resize`](https://scikit-image.org/docs/dev/api/skimage.transform.html?highlight=resize#skimage.transform.resize) the image in order to ensure that the blocks evenly divide the image."
   ]
  },
  {
   "cell_type": "code",
   "execution_count": null,
   "metadata": {},
   "outputs": [],
   "source": []
  },
  {
   "cell_type": "code",
   "execution_count": null,
   "metadata": {},
   "outputs": [],
   "source": []
  },
  {
   "cell_type": "markdown",
   "metadata": {},
   "source": [
    "## Keeping additional block information per block\n",
    "\n",
    "In the above, every $8x8$ block is characterized by a single color, the average of the block. If you could keep any additional information about it, even at the cost of maybe being less compressive, what additional information might you keep?\n",
    "\n",
    "Try this: try keeping four averages in each block. That is, consider the block as four quarters and store the mean of each quarter. This will be no doubt a better representation of the original, though at what cost?\n",
    "\n",
    "Note: a block size of $4x4$ would accomplish the same thing."
   ]
  },
  {
   "cell_type": "code",
   "execution_count": null,
   "metadata": {},
   "outputs": [],
   "source": []
  }
 ],
 "metadata": {
  "kernelspec": {
   "display_name": "Python 3 (ipykernel)",
   "language": "python",
   "name": "python3"
  },
  "language_info": {
   "codemirror_mode": {
    "name": "ipython",
    "version": 3
   },
   "file_extension": ".py",
   "mimetype": "text/x-python",
   "name": "python",
   "nbconvert_exporter": "python",
   "pygments_lexer": "ipython3",
   "version": "3.10.13"
  }
 },
 "nbformat": 4,
 "nbformat_minor": 4
}
