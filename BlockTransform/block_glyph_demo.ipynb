{
 "cells": [
  {
   "cell_type": "markdown",
   "metadata": {},
   "source": [
    "# Block Viewing of an Image\n",
    "## Glyph Image Converter\n",
    "stough 202-\n",
    "\n",
    "We saw in spatial filtering that a mask of weights is placed over each pixel in the image, followed by computing the inner product (sum of products) of the corresponding mask weights and pixel values. This resulted in a filtered image that might show a blurred version of the original, or else horizontal or vertical edges, or edginess generally, or any of a number of local spatial characteristics. But the spatial neighborhood represented by the mask moves by one pixel each iteration.\n",
    "\n",
    "However, another way of viewing an image is as a grid of non-overlapping blocks, each block containing a number of pixels. A **block transform** is where we replace each block from the original image with a block of our choosing. We could choose to replace the whole collection of pixels in a block with the average or median color of the block. Or, as seen in this example, we can replace the block with a combination of the original block and a *glyph* image (basically, just a small image) that we'd like to overlay on our original."
   ]
  },
  {
   "cell_type": "markdown",
   "metadata": {},
   "source": [
    "## Imports\n",
    "We add several functions from the [`skimage`](https://scikit-image.org/) module:\n",
    "\n",
    "- [`view_as_blocks`](https://scikit-image.org/docs/dev/api/skimage.util.html?highlight=view_as_blocks#skimage.util.view_as_blocks) decomoposes an image into blocks of a defined size.\n",
    "- [`montage`](https://scikit-image.org/docs/dev/api/skimage.util.html?highlight=view_as_blocks#skimage.util.montage) allows us to reassemble a bunch of blocks back into a grid.\n",
    "- We use [`resize`](https://scikit-image.org/docs/dev/api/skimage.transform.html?highlight=resize#skimage.transform.resize) or [`rescale`](https://scikit-image.org/docs/dev/api/skimage.transform.html?highlight=resize#skimage.transform.rescale) to ensure that our image and glyphs have a common denominator that we can use as a block size."
   ]
  },
  {
   "cell_type": "code",
   "execution_count": null,
   "metadata": {},
   "outputs": [],
   "source": [
    "%matplotlib widget\n",
    "import matplotlib.pyplot as plt\n",
    "import numpy as np\n",
    "\n",
    "import skimage.color as color\n",
    "\n",
    "# For importing from alternative directory sources\n",
    "import sys  \n",
    "sys.path.insert(0, '../dip_utils')\n",
    "\n",
    "from matrix_utils import (arr_info,\n",
    "                          make_linmap)\n",
    "from vis_utils import (vis_rgb_cube,\n",
    "                       vis_hists,\n",
    "                       vis_pair)\n",
    "\n",
    "from skimage.util import view_as_blocks\n",
    "from skimage.util import montage\n",
    "from skimage.transform import resize, rescale"
   ]
  },
  {
   "cell_type": "code",
   "execution_count": null,
   "metadata": {},
   "outputs": [],
   "source": [
    "I = plt.imread('../dip_pics/bucknellzoomb003.jpg')\n",
    "vis_hists(I)"
   ]
  },
  {
   "cell_type": "code",
   "execution_count": null,
   "metadata": {},
   "outputs": [],
   "source": [
    "def get_glyphs(gsize=None):\n",
    "    glyphs = np.stack([plt.imread(x) for x in [f'../dip_pics/{x:02b}.png' for x in range(4)]])\n",
    "    \n",
    "    if gsize is not None:\n",
    "        if type(gsize)==list: \n",
    "            glyphs = np.stack([resize(glyph, gsize, order=0) for glyph in glyphs])\n",
    "        else:\n",
    "            glyphs = np.stack([rescale(glyph, gsize, order=0, channel_axis=-1) for glyph in glyphs])\n",
    "    \n",
    "    glyphs = (glyphs - glyphs.min())/(glyphs.max() - glyphs.min())\n",
    "    \n",
    "    return glyphs"
   ]
  },
  {
   "cell_type": "code",
   "execution_count": null,
   "metadata": {},
   "outputs": [],
   "source": [
    "glyphs = get_glyphs(.5)\n",
    "print(arr_info(glyphs))"
   ]
  },
  {
   "cell_type": "code",
   "execution_count": null,
   "metadata": {},
   "outputs": [],
   "source": [
    "plt.figure(figsize=(4,4))\n",
    "plt.imshow(montage(glyphs, channel_axis=-1))"
   ]
  },
  {
   "cell_type": "code",
   "execution_count": null,
   "metadata": {},
   "outputs": [],
   "source": [
    "[d+d%s for d,s in zip(I.shape[:2], glyphs.shape[1:3])]"
   ]
  },
  {
   "cell_type": "code",
   "execution_count": null,
   "metadata": {},
   "outputs": [],
   "source": [
    "Ir = resize(I, [d+(s-d%s) for d,s in zip(I.shape[:2], glyphs.shape[1:3])])\n",
    "vis_pair(I, Ir)"
   ]
  },
  {
   "cell_type": "code",
   "execution_count": null,
   "metadata": {},
   "outputs": [],
   "source": [
    "# size of blocks\n",
    "block_shape = glyphs.shape[1:]\n",
    "\n",
    "Ir = resize(I, [d+(s-d%s) for d,s in zip(I.shape[:2], glyphs.shape[1:3])])\n",
    "\n",
    "# see the image as a matrix of blocks (of shape block_shape)\n",
    "# Also, apply the JPEG -128 here.\n",
    "view = view_as_blocks(Ir, block_shape)\n",
    "view = np.squeeze(view)"
   ]
  },
  {
   "cell_type": "code",
   "execution_count": null,
   "metadata": {},
   "outputs": [],
   "source": [
    "view.shape"
   ]
  },
  {
   "cell_type": "code",
   "execution_count": null,
   "metadata": {},
   "outputs": [],
   "source": [
    "block_view = view.reshape([view.shape[0]*view.shape[1]] + list(view.shape[2:]))"
   ]
  },
  {
   "cell_type": "code",
   "execution_count": null,
   "metadata": {},
   "outputs": [],
   "source": [
    "#Compute all the transform coefficients.\n",
    "#List of block transforms\n",
    "glyph_view = np.zeros(block_view.shape)\n",
    "rands = np.random.choice(len(glyphs), len(block_view))\n",
    "\n",
    "for i in range(len(block_view)):\n",
    "    block = block_view[i]\n",
    "    block_mean = block.mean(axis=(0,1))\n",
    "    \n",
    "    color_glyph = glyphs[rands[i]].copy()\n",
    "    \n",
    "    mask = color_glyph[...,0] < .5\n",
    "# #     mask = (grid_img>.5).sum()/grid_img.numel()\n",
    "    \n",
    "    # make background of the bit-glyph equal mean color of the block\n",
    "#     color_glyph[mask] = block_mean\n",
    "\n",
    "    # Make background of the bit-glyph exactly the block\n",
    "#     color_glyph[mask] = block[mask]\n",
    "\n",
    "    # Make the bit-glyph foregound just pop wrt to the block colors\n",
    "#     color_glyph[mask] = block[mask]\n",
    "#     color_glyph[~mask] = 1-block_mean\n",
    "#     color_glyph[~mask] = 1-block[~mask]\n",
    "\n",
    "    # Just an image of block means\n",
    "#     color_glyph = block_mean\n",
    "    \n",
    "    # How about the bit-glyph background is the mean, foreground is complement.\n",
    "#     color_glyph[mask] = block_mean\n",
    "#     color_glyph[~mask] = 1-block[~mask]\n",
    "\n",
    "\n",
    "    # How about some crazy alternative colorspace stuff?\n",
    "    # Let's keep the background exactly the same. foreground is the opposite hsv\n",
    "#     color_glyph[mask] = block[mask]\n",
    "    \n",
    "#     hsv = color.rgb2hsv(block_mean)\n",
    "# #     hsv[0] = np.fmod(hsv[0]+.5, 1.0)\n",
    "#     hsv[1:] = 1-hsv[1:]\n",
    "#     block_mean_opp = color.hsv2rgb(hsv)\n",
    "#     color_glyph[~mask] = block_mean_opp\n",
    "\n",
    "\n",
    "    # How about ycbcr????\n",
    "#     color_glyph[mask] = block[mask]\n",
    "#     ybr = color.rgb2ycbcr(block_mean)\n",
    "#     ybr[0] = 250.0-ybr[0]\n",
    "    \n",
    "#     block_mean_opp = color.ycbcr2rgb(ybr)\n",
    "#     color_glyph[~mask] = block_mean_opp\n",
    "\n",
    "    # This is just adding a fraction of the bit-glyph to the color.\n",
    "    color_glyph = block + .5*color_glyph\n",
    "    color_glyph = np.clip(color_glyph,0,1)\n",
    "    \n",
    "    \n",
    "\n",
    "    glyph_view[i] = color_glyph"
   ]
  },
  {
   "cell_type": "code",
   "execution_count": null,
   "metadata": {},
   "outputs": [],
   "source": [
    "plt.figure(figsize=(8,5))\n",
    "plt.imshow(montage(glyph_view, grid_shape=(view.shape[0], view.shape[1]), channel_axis=-1))"
   ]
  },
  {
   "cell_type": "code",
   "execution_count": null,
   "metadata": {},
   "outputs": [],
   "source": [
    "J = montage(glyph_view, grid_shape=(view.shape[0], view.shape[1]), channel_axis=-1)\n",
    "plt.imsave('../dip_outs/binaryDana.png', J)"
   ]
  },
  {
   "cell_type": "code",
   "execution_count": null,
   "metadata": {},
   "outputs": [],
   "source": []
  }
 ],
 "metadata": {
  "kernelspec": {
   "display_name": "Python 3 (ipykernel)",
   "language": "python",
   "name": "python3"
  },
  "language_info": {
   "codemirror_mode": {
    "name": "ipython",
    "version": 3
   },
   "file_extension": ".py",
   "mimetype": "text/x-python",
   "name": "python",
   "nbconvert_exporter": "python",
   "pygments_lexer": "ipython3",
   "version": "3.10.13"
  }
 },
 "nbformat": 4,
 "nbformat_minor": 4
}
